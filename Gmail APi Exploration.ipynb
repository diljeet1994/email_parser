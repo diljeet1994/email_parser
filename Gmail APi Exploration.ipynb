{
 "cells": [
  {
   "cell_type": "code",
   "execution_count": null,
   "metadata": {},
   "outputs": [],
   "source": [
    "! python -m spacy download en_core_web_lg"
   ]
  },
  {
   "cell_type": "code",
   "execution_count": 1,
   "metadata": {},
   "outputs": [],
   "source": [
    "import base64"
   ]
  },
  {
   "cell_type": "code",
   "execution_count": 2,
   "metadata": {},
   "outputs": [],
   "source": [
    "import pickle\n",
    "import os.path\n",
    "from googleapiclient.discovery import build\n",
    "from google_auth_oauthlib.flow import InstalledAppFlow\n",
    "from google.auth.transport.requests import Request"
   ]
  },
  {
   "cell_type": "code",
   "execution_count": 3,
   "metadata": {},
   "outputs": [],
   "source": [
    "import re\n",
    "import spacy\n",
    "import pandas as pd\n",
    "import numpy as np\n",
    "from bs4 import BeautifulSoup\n",
    "import json"
   ]
  },
  {
   "cell_type": "code",
   "execution_count": 41,
   "metadata": {},
   "outputs": [],
   "source": [
    "nlp = spacy.load('en_core_web_sm')"
   ]
  },
  {
   "cell_type": "code",
   "execution_count": 57,
   "metadata": {},
   "outputs": [],
   "source": [
    "#Function to extract names from the string using spacy\n",
    "def extract_name(string):\n",
    "    names = []\n",
    "#     nlp = spacy.load('en')\n",
    "    nlp = spacy.load('en_core_web_sm')\n",
    "    doc = nlp(string)\n",
    "    ent_list = ['PERSON']\n",
    "    for ent in doc.ents:\n",
    "        if(ent.label_ in ent_list):\n",
    "            #print(ent.text, ent.label_)\n",
    "            names.append(ent.text)\n",
    "    return np.unique(names).tolist()"
   ]
  },
  {
   "cell_type": "code",
   "execution_count": 39,
   "metadata": {},
   "outputs": [],
   "source": [
    "def extract_org(string):\n",
    "    org = []\n",
    "    nlp = spacy.load('en_core_web_sm')\n",
    "    doc = nlp(string)\n",
    "    ent_list = ['GPE','NORP','ORG','LOC','PRODUCT']\n",
    "    for ent in doc.ents:\n",
    "        if(ent.label_ in ent_list):\n",
    "            #print(ent.text, ent.label_)\n",
    "            org.append(ent.text)\n",
    "    return np.unique(org).tolist()"
   ]
  },
  {
   "cell_type": "code",
   "execution_count": 7,
   "metadata": {},
   "outputs": [],
   "source": [
    "#Function to extract Phone Numbers from string using regular expressions\n",
    "def extract_phone_numbers(string):\n",
    "    r = re.compile(r'(\\d{3}[-\\.\\s]??\\d{3}[-\\.\\s]??\\d{4}|\\(\\d{3}\\)\\s*\\d{3}[-\\.\\s]??\\d{4}|\\d{3}[-\\.\\s]??\\d{4})')\n",
    "    phone_numbers = np.unique(r.findall(string))\n",
    "    return [re.sub(r'\\D', '', number) for number in phone_numbers]"
   ]
  },
  {
   "cell_type": "code",
   "execution_count": 8,
   "metadata": {},
   "outputs": [],
   "source": [
    "#Function to extract Email address from a string using regular expressions\n",
    "def extract_email_addresses(string):\n",
    "    r = re.compile(r'[\\w\\.-]+@[\\w\\.-]+')\n",
    "    return np.unique(r.findall(string)).tolist()\n",
    "    #return r.findall(string)"
   ]
  },
  {
   "cell_type": "code",
   "execution_count": 40,
   "metadata": {},
   "outputs": [],
   "source": [
    "def get_nouns(text):\n",
    "    nlp = spacy.load('en_core_web_sm')\n",
    "    doc = nlp(text)\n",
    "    nouns_list=[]\n",
    "    for token in doc:\n",
    "        if token.pos_ == 'PROPN':\n",
    "            nouns_list.append(token.text)\n",
    "#     print(re.sub(' +', ' ', ' '.join(nouns_list)))\n",
    "    return re.sub(' +', ' ', ' '.join(nouns_list))"
   ]
  },
  {
   "cell_type": "code",
   "execution_count": 116,
   "metadata": {},
   "outputs": [],
   "source": [
    "def extract_twitter(string):\n",
    "    r = re.compile(r'twitter.com/([^\\s:]+)')\n",
    "    return r.findall(string)\n",
    "\n",
    "def extract_linkedin(string):\n",
    "    r = re.compile(r'linkedin.com/([^\\s:]+)')\n",
    "    return r.findall(string)\n",
    "\n",
    "def extract_facebook(string):\n",
    "    r = re.compile(r'facebook.com/([^\\s:]+)')\n",
    "    return r.findall(string)"
   ]
  },
  {
   "cell_type": "code",
   "execution_count": 10,
   "metadata": {},
   "outputs": [],
   "source": [
    "SCOPES = ['https://www.googleapis.com/auth/gmail.readonly']\n"
   ]
  },
  {
   "cell_type": "code",
   "execution_count": null,
   "metadata": {},
   "outputs": [],
   "source": [
    "def main():\n",
    "    \"\"\"Shows basic usage of the Gmail API.\n",
    "    Lists the user's Gmail labels.\n",
    "    \"\"\"\n",
    "    creds = None\n",
    "    # The file token.pickle stores the user's access and refresh tokens, and is\n",
    "    # created automatically when the authorization flow completes for the first\n",
    "    # time.\n",
    "    if os.path.exists('token.pickle'):\n",
    "        with open('token.pickle', 'rb') as token:\n",
    "            creds = pickle.load(token)\n",
    "    # If there are no (valid) credentials available, let the user log in.\n",
    "    if not creds or not creds.valid:\n",
    "        if creds and creds.expired and creds.refresh_token:\n",
    "            creds.refresh(Request())\n",
    "        else:\n",
    "            flow = InstalledAppFlow.from_client_secrets_file(\n",
    "                'credentials.json', SCOPES)\n",
    "            creds = flow.run_local_server()\n",
    "        # Save the credentials for the next run\n",
    "        with open('token.pickle', 'wb') as token:\n",
    "            pickle.dump(creds, token)\n",
    "\n",
    "    service = build('gmail', 'v1', credentials=creds)\n",
    "\n",
    "    # Call the Gmail API\n",
    "    results = service.users().labels().list(userId='me').execute()\n",
    "    labels = results.get('labels', [])\n",
    "\n",
    "    if not labels:\n",
    "        print('No labels found.')\n",
    "    else:\n",
    "        print('Labels:')\n",
    "        for label in labels:\n",
    "            print(label['name'])"
   ]
  },
  {
   "cell_type": "code",
   "execution_count": null,
   "metadata": {},
   "outputs": [],
   "source": [
    "main()"
   ]
  },
  {
   "cell_type": "code",
   "execution_count": 19,
   "metadata": {},
   "outputs": [],
   "source": [
    "with open('token.pickle', 'rb') as token:\n",
    "            creds = pickle.load(token)"
   ]
  },
  {
   "cell_type": "code",
   "execution_count": 20,
   "metadata": {},
   "outputs": [],
   "source": [
    "if not creds or not creds.valid:\n",
    "        if creds and creds.expired and creds.refresh_token:\n",
    "            creds.refresh(Request())\n",
    "        else:\n",
    "            flow = InstalledAppFlow.from_client_secrets_file(\n",
    "                'credentials.json', SCOPES)\n",
    "            creds = flow.run_local_server()\n",
    "        # Save the credentials for the next run\n",
    "        with open('token.pickle', 'wb') as token:\n",
    "            pickle.dump(creds, token)"
   ]
  },
  {
   "cell_type": "code",
   "execution_count": 21,
   "metadata": {},
   "outputs": [],
   "source": [
    "service = build('gmail', 'v1', credentials=creds)"
   ]
  },
  {
   "cell_type": "code",
   "execution_count": 98,
   "metadata": {
    "scrolled": true
   },
   "outputs": [
    {
     "data": {
      "text/plain": [
       "{'messages': [{'id': '16ae4c77077bc237', 'threadId': '16ae4b0f524b19bb'},\n",
       "  {'id': '16ae4b0f524b19bb', 'threadId': '16ae4b0f524b19bb'},\n",
       "  {'id': '16ae4af2960cb89a', 'threadId': '16ae4af2960cb89a'},\n",
       "  {'id': '16ae4aea1568e2ef', 'threadId': '16ae4aea1568e2ef'},\n",
       "  {'id': '16ae45f7e57ac19c', 'threadId': '16ae45f7e57ac19c'},\n",
       "  {'id': '16ae448efec5b907', 'threadId': '16ae448efec5b907'},\n",
       "  {'id': '16ae3f93c5e4d089', 'threadId': '16ae3f93c5e4d089'},\n",
       "  {'id': '16ae3f615ec45be6', 'threadId': '16ae3f615ec45be6'},\n",
       "  {'id': '16ae3d82347e2e6f', 'threadId': '16ae3d82347e2e6f'},\n",
       "  {'id': '16ae3d6b5cf72005', 'threadId': '16ae3d6b5cf72005'},\n",
       "  {'id': '16ae3ceb6a93290a', 'threadId': '16ae3ceb6a93290a'},\n",
       "  {'id': '16ae380ec2856525', 'threadId': '16ae380ec2856525'},\n",
       "  {'id': '16ae36773e96cef0', 'threadId': '16ae36773e96cef0'},\n",
       "  {'id': '16ae367406a2bad0', 'threadId': '16ae367406a2bad0'},\n",
       "  {'id': '16ae3570d0384855', 'threadId': '16ae3570d0384855'},\n",
       "  {'id': '16ae34f3734e16b4', 'threadId': '16ae34f3734e16b4'},\n",
       "  {'id': '16ae34f21d143330', 'threadId': '16ae34f21d143330'},\n",
       "  {'id': '16ae34a44d817cb6', 'threadId': '16ae34a44d817cb6'},\n",
       "  {'id': '16ae3385e254cc6b', 'threadId': '16ae3385e254cc6b'},\n",
       "  {'id': '16ae332faafa6268', 'threadId': '16ae332faafa6268'},\n",
       "  {'id': '16ae329c6aae4e5a', 'threadId': '16ae329c6aae4e5a'},\n",
       "  {'id': '16ae2e37a787b40b', 'threadId': '16ae2e37a787b40b'},\n",
       "  {'id': '16ae2ab5a0edebb2', 'threadId': '16ae2ab5a0edebb2'},\n",
       "  {'id': '16ae1e567b76e9d9', 'threadId': '16ae1e567b76e9d9'},\n",
       "  {'id': '16ae192310a08a8a', 'threadId': '16ae192310a08a8a'},\n",
       "  {'id': '16ae14bb0a7c06c1', 'threadId': '16ae14bb0a7c06c1'},\n",
       "  {'id': '16ae11aa0421f1f9', 'threadId': '16ae11aa0421f1f9'},\n",
       "  {'id': '16ae05eee87c8bc8', 'threadId': '16ae05eee87c8bc8'},\n",
       "  {'id': '16ae047cafa9a0a7', 'threadId': '16ae047cafa9a0a7'},\n",
       "  {'id': '16ae022b62b5d75e', 'threadId': '16ace29e20077442'},\n",
       "  {'id': '16ae000d37896402', 'threadId': '16ae000d37896402'},\n",
       "  {'id': '16adffbeef111316', 'threadId': '16adffbeef111316'},\n",
       "  {'id': '16adff4270cebdf9', 'threadId': '16adff4270cebdf9'},\n",
       "  {'id': '16adfe6f03b35d39', 'threadId': '16adfe6f03b35d39'},\n",
       "  {'id': '16adfdb302fcb62c', 'threadId': '16adfdb302fcb62c'},\n",
       "  {'id': '16adfdaafbca0227', 'threadId': '16adfdaafbca0227'},\n",
       "  {'id': '16adfc268fdf17df', 'threadId': '16adfc268fdf17df'},\n",
       "  {'id': '16adfb0cfc37515b', 'threadId': '16adfb0cfc37515b'},\n",
       "  {'id': '16adf8d222a67c60', 'threadId': '16adf8d222a67c60'},\n",
       "  {'id': '16adf86ea2cd643c', 'threadId': '16adf86ea2cd643c'},\n",
       "  {'id': '16adf80bbd20aa4f', 'threadId': '16adf80bbd20aa4f'},\n",
       "  {'id': '16adf721533eed52', 'threadId': '16adf721533eed52'},\n",
       "  {'id': '16adf4fa70608d62', 'threadId': '16adf4fa70608d62'},\n",
       "  {'id': '16adf4c541b0adc3', 'threadId': '16adf4c541b0adc3'},\n",
       "  {'id': '16adf49bc4787c45', 'threadId': '16adf1143c060366'},\n",
       "  {'id': '16adf3cce9088a77', 'threadId': '16adf3cce9088a77'},\n",
       "  {'id': '16adf1143c060366', 'threadId': '16adf1143c060366'},\n",
       "  {'id': '16adedd8c0d74b5d', 'threadId': '16adedd8c0d74b5d'},\n",
       "  {'id': '16adec8ce3f0a08f', 'threadId': '16adec8ce3f0a08f'},\n",
       "  {'id': '16adea335ef05b9e', 'threadId': '16adea335ef05b9e'},\n",
       "  {'id': '16ade845f5f80d85', 'threadId': '16ade845f5f80d85'},\n",
       "  {'id': '16ade8336bbbd8fc', 'threadId': '16ade8336bbbd8fc'},\n",
       "  {'id': '16ade504d4ca413f', 'threadId': '16ace29e20077442'},\n",
       "  {'id': '16ade4eb852fd130', 'threadId': '16ace29e20077442'},\n",
       "  {'id': '16ade4e893249016', 'threadId': '16ace29e20077442'},\n",
       "  {'id': '16ade4aecef48c5b', 'threadId': '16ace29e20077442'},\n",
       "  {'id': '16ade460b5701b7d', 'threadId': '16ade460b5701b7d'},\n",
       "  {'id': '16ade3593ae00530', 'threadId': '16ace29e20077442'},\n",
       "  {'id': '16ade3175806c0fa', 'threadId': '16ade3175806c0fa'},\n",
       "  {'id': '16ade28a71c5bd09', 'threadId': '16ade28a71c5bd09'},\n",
       "  {'id': '16ade1cdc0453c03', 'threadId': '16ade1cdc0453c03'},\n",
       "  {'id': '16ade19e4965cd6f', 'threadId': '16ade19e4965cd6f'},\n",
       "  {'id': '16ade07af0069120', 'threadId': '16ade07af0069120'},\n",
       "  {'id': '16addb6d465e9ad7', 'threadId': '16addb6d465e9ad7'},\n",
       "  {'id': '16add8b690400ca5', 'threadId': '16add8b690400ca5'},\n",
       "  {'id': '16add828680a7c0a', 'threadId': '16add828680a7c0a'},\n",
       "  {'id': '16adcf25cfc2ba2b', 'threadId': '16adcf25cfc2ba2b'},\n",
       "  {'id': '16adcdf92150c371', 'threadId': '16adcdf92150c371'},\n",
       "  {'id': '16adc95582386840', 'threadId': '16adc95582386840'},\n",
       "  {'id': '16adc5c84a70a4e4', 'threadId': '16adc5c84a70a4e4'},\n",
       "  {'id': '16adc25764d5ee1c', 'threadId': '16adc25764d5ee1c'},\n",
       "  {'id': '16adbaa8df2bd704', 'threadId': '16adbaa8df2bd704'},\n",
       "  {'id': '16adbaa8728715e5', 'threadId': '16adbaa8728715e5'},\n",
       "  {'id': '16adb8fa73f9c7dc', 'threadId': '16adb8fa73f9c7dc'},\n",
       "  {'id': '16adb8e313d01655', 'threadId': '16adb8e313d01655'},\n",
       "  {'id': '16adb37fd6f2131d', 'threadId': '16adb37fd6f2131d'},\n",
       "  {'id': '16adb27b39d34f1e', 'threadId': '16adb27b39d34f1e'},\n",
       "  {'id': '16adb038c44ef04e', 'threadId': '16adb038c44ef04e'},\n",
       "  {'id': '16adab504b617fa4', 'threadId': '16adab504b617fa4'},\n",
       "  {'id': '16ada891c4e100a3', 'threadId': '16ada891c4e100a3'},\n",
       "  {'id': '16ada81d49e0b0ae', 'threadId': '16ada81d49e0b0ae'},\n",
       "  {'id': '16ada6f8bca87d8e', 'threadId': '16ada6f8bca87d8e'},\n",
       "  {'id': '16ada6d01aaf18cb', 'threadId': '16ace29e20077442'},\n",
       "  {'id': '16ada69efc053724', 'threadId': '16ada69efc053724'},\n",
       "  {'id': '16ada09e869bd806', 'threadId': '16ada09e869bd806'},\n",
       "  {'id': '16ad9cae6f0f2c56', 'threadId': '16ad9cae6f0f2c56'},\n",
       "  {'id': '16ad9c5c99629e23', 'threadId': '16ad9c5c99629e23'},\n",
       "  {'id': '16ad996cc70bf5ef', 'threadId': '16ad996cc70bf5ef'},\n",
       "  {'id': '16ad988782b613c3', 'threadId': '16ad988782b613c3'},\n",
       "  {'id': '16ad9813fe6319fb', 'threadId': '16ad9813fe6319fb'},\n",
       "  {'id': '16ad9780fd7b43a3', 'threadId': '16ad9780fd7b43a3'},\n",
       "  {'id': '16ad9132b6d23a8e', 'threadId': '16ad9132b6d23a8e'},\n",
       "  {'id': '16ad90afb685cc84', 'threadId': '16ad90afb685cc84'},\n",
       "  {'id': '16ad90267a36b035', 'threadId': '16ad90267a36b035'},\n",
       "  {'id': '16ad8f9911501dec', 'threadId': '16ad8f9911501dec'},\n",
       "  {'id': '16ad8f79dafb01ef', 'threadId': '16ad81168ecc86df'},\n",
       "  {'id': '16ad8df1302b78f3', 'threadId': '16ad8df1302b78f3'},\n",
       "  {'id': '16ad8c7a67a9e118', 'threadId': '16ad8c7a67a9e118'},\n",
       "  {'id': '16ad8bd38ac9f207', 'threadId': '16ad8bd38ac9f207'},\n",
       "  {'id': '16ad8af393dea140', 'threadId': '16ad8af393dea140'}],\n",
       " 'nextPageToken': '04896264665682360859',\n",
       " 'resultSizeEstimate': 205}"
      ]
     },
     "execution_count": 98,
     "metadata": {},
     "output_type": "execute_result"
    }
   ],
   "source": [
    "service.users().messages().list(userId='me').execute()"
   ]
  },
  {
   "cell_type": "code",
   "execution_count": 99,
   "metadata": {},
   "outputs": [],
   "source": [
    "msgs = service.users().messages().get(userId='me').execute()"
   ]
  },
  {
   "cell_type": "code",
   "execution_count": null,
   "metadata": {
    "scrolled": true
   },
   "outputs": [],
   "source": [
    "next_page = service.users().messages().list_next(service.users().messages().list(userId='me'), msgs)\n",
    "next_page.execute()"
   ]
  },
  {
   "cell_type": "markdown",
   "metadata": {},
   "source": [
    "{'From': 'Shoumik Goswami <shoumikgoswami@gmail.com>', 'To': 'Diljeet Singh <diljeets1994@gmail.com>', 'Subject': 'Re: Test Mail', 'Date': 'Sun, 19 May 2019 11:28:32 +0530'}"
   ]
  },
  {
   "cell_type": "code",
   "execution_count": 25,
   "metadata": {},
   "outputs": [],
   "source": [
    "def response_extraction(email_data):\n",
    "    response = {}\n",
    "    headers_data = {'From':'', 'To':'', 'Subject':'', 'Date':'', 'Cc':''}\n",
    "#     headers = ['From', 'To', 'Subject', 'Date', 'Cc']\n",
    "    for data in email_data['payload']['headers']:\n",
    "        if data['name'] in headers_data:\n",
    "            headers_data[data['name']] = data['value']\n",
    "    response['Subject'] = headers_data['Subject']\n",
    "    response['Date'] = headers_data['Date']\n",
    "    "
   ]
  },
  {
   "cell_type": "code",
   "execution_count": 26,
   "metadata": {},
   "outputs": [],
   "source": [
    "def extract_body(email_data):\n",
    "    try:\n",
    "        if ((email_data['payload']['body']['size']==0) and ('parts' in email_data['payload']['parts'][0])):\n",
    "            for body_data in email_data['payload']['parts'][0]['parts']:\n",
    "                if body_data['mimeType'] == 'text/html':\n",
    "                    print(\"body_data in email_data['payload']['parts'][0]['parts']\")\n",
    "        elif ((email_data['payload']['body']['size']==0) and ('data' in email_data['payload']['parts'][0]['body'])):\n",
    "            for body_data in email_data['payload']['parts']:\n",
    "                if body_data['mimeType'] == 'text/html':\n",
    "                    print(\"email_data['payload']['parts']\")\n",
    "        elif ((email_data['payload']['body']['size']==0) and ('attachmentId' in email_data['payload']['parts'][0]['body'])):\n",
    "            pass\n",
    "        else:\n",
    "            if email_data['payload']['mimeType'] == 'text/html':\n",
    "                print(\"email_data['payload']['body']['data']\")\n",
    "    except Exception as e:\n",
    "        print(e)"
   ]
  },
  {
   "cell_type": "code",
   "execution_count": 27,
   "metadata": {},
   "outputs": [],
   "source": [
    "# cleaning text and returning meaningful tokens\n",
    "import string\n",
    "import unicodedata\n",
    "from nltk.corpus import stopwords\n",
    "\n",
    "def text_cleaning(text):\n",
    "#     text = [word for word in text.split(' ') if word.lower() not in stopwords.words('english')]\n",
    "#     text =''.join(nopunc)\n",
    "    \n",
    "    # removing non unicode\n",
    "    text = unicodedata.normalize(\"NFKD\", text)\n",
    "    #Removing commas and spaces in the resume for an effecient check\n",
    "#     text = text.replace(',',' ')\n",
    "#     text = text.replace('\\\\n',' ')\n",
    "#     text = text.replace('\\\\r',' ')\n",
    "#     text = text.replace('\\\\r\\\\n',' ')\n",
    "#     text = text.replace('*','')\n",
    "    \n",
    "    bad_characters = ['\\r', '\\n', '\\\\r\\\\n', ',', '*', ';']\n",
    "    nopunc = [\" \" if char in bad_characters else char for char in text]\n",
    "    text =''.join(nopunc)\n",
    "    text = re.sub(' +', ' ', text)\n",
    "    bad_words= ['&gt;', '&gt', '&lt']\n",
    "    text = text.split(' ')\n",
    "    text = ['' if word in bad_words else word for word in text]\n",
    "    text =' '.join(text)\n",
    "#     # removing punctuation\n",
    "#     nopunc = [char for char in text if char not in string.punctuation]\n",
    "#     text =''.join(nopunc)\n",
    "    # removing stop words\n",
    "    \n",
    "    return text"
   ]
  },
  {
   "cell_type": "markdown",
   "metadata": {},
   "source": [
    "16ad4dd20e0cc588 - courtney\n"
   ]
  },
  {
   "cell_type": "code",
   "execution_count": null,
   "metadata": {
    "scrolled": true
   },
   "outputs": [],
   "source": [
    "service.users().messages().list(userId='me').execute()"
   ]
  },
  {
   "cell_type": "code",
   "execution_count": null,
   "metadata": {
    "scrolled": true
   },
   "outputs": [],
   "source": [
    "for msg in msgs['messages']:\n",
    "    print(msg['id'])\n",
    "    email_data = service.users().messages().get(userId='me', id=msg['id'], format='full').execute()\n",
    "    email_data['payload']\n",
    "    extract_body(email_data)\n",
    "    "
   ]
  },
  {
   "cell_type": "code",
   "execution_count": 142,
   "metadata": {
    "scrolled": true
   },
   "outputs": [
    {
     "data": {
      "text/plain": [
       "'Trail +1\\r\\n\\r\\nOn Sun, May 19, 2019 at 11:27 AM Shoumik Goswami <shoumikgoswami@gmail.com>\\r\\nwrote:\\r\\n\\r\\n&gt;\\r\\n&gt; Shoumik Goswami\\r\\n&gt;\\r\\n&gt;\\r\\n&gt; ---------- Forwarded message ---------\\r\\n&gt; From: Courtenay Farquharson <courtenay.farquharson@gmail.com>\\r\\n&gt; Date: Sat, May 18, 2019 at 4:17 PM\\r\\n&gt; Subject: Fwd: 119050425000150\\r\\n&gt; To: <shoumikgoswami@gmail.com>\\r\\n&gt;\\r\\n&gt;\\r\\n&gt;\\r\\n&gt;\\r\\n&gt; ---------- Forwarded message ---------\\r\\n&gt; From: Nasmin Kaisar (MINDTREE LIMITED) <v-naskai@microsoft.com>\\r\\n&gt; Date: Sat, May 18, 2019 at 9:08 AM\\r\\n&gt; Subject: RE: 119050425000150\\r\\n&gt; To: Courtenay Farquharson <courtenay.farquharson@gmail.com>\\r\\n&gt; Cc: Elyaas Mohammed (MINDTREE LIMITED) <v-elmoha@microsoft.com>\\r\\n&gt;\\r\\n&gt;\\r\\n&gt; Hello Courtenay,\\r\\n&gt;\\r\\n&gt;\\r\\n&gt;\\r\\n&gt; I have processed the refund from my end .\\r\\n&gt;\\r\\n&gt; It usually takes 7-10 business days for the refund to be credited back to\\r\\n&gt; your account.\\r\\n&gt;\\r\\n&gt;\\r\\n&gt;\\r\\n&gt; I will have to check with my internal team .\\r\\n&gt;\\r\\n&gt; But since it is the weekend , there will be no update before next Monday.\\r\\n&gt;\\r\\n&gt; I have reopened the case.\\r\\n&gt;\\r\\n&gt;\\r\\n&gt;\\r\\n&gt; Kind Regards,\\r\\n&gt;\\r\\n&gt; *Nasmin Kaisar**, *Support Engineer\\r\\n&gt;\\r\\n&gt; Azure Subscription Management Support\\r\\n&gt;\\r\\n&gt; Email: v-naskai@microsoft.com\\r\\n&gt;\\r\\n&gt; Manager: v-elmoha@microsoft.com\\r\\n&gt;\\r\\n&gt; Hours: 6:00 AM-3:00 PM (Tue - Sat) PT | Local Time\\r\\n&gt; <https: ?url=\"http%3A%2F%2Fwww.timebie.com%2Fstd%2Fgmt.php&amp;data=02%7C01%7Cv-naskai%40microsoft.com%7C7a0a40601cc1480735a808d6db1ada49%7C72f988bf86f141af91ab2d7cd011db47%7C1%7C0%7C636937305729275573&amp;sdata=jgtFafBP%2BK%2F1HExQWy%2BrzL0Ov%2B%2BoZA7UTf%2BiR4ujaWE%3D&amp;reserved=0\" nam06.safelinks.protection.outlook.com=\"\">\\r\\n&gt;\\r\\n&gt; *To reach Azure Support outside of my working hours, please email *\\r\\n&gt; asmsmtbp@microsoft.com\\r\\n&gt;\\r\\n&gt; *with your support request number.*\\r\\n&gt;\\r\\n&gt;\\r\\n&gt;\\r\\n&gt; *Service Dashboard*\\r\\n&gt; <https: ?url=\"http%3A%2F%2Fazure.microsoft.com%2Fstatus&amp;data=02%7C01%7Cv-naskai%40microsoft.com%7C7a0a40601cc1480735a808d6db1ada49%7C72f988bf86f141af91ab2d7cd011db47%7C1%7C0%7C636937305729275573&amp;sdata=sHRiKyTk8w0Jbhnp4FX6AG3uumz%2FGu8sDyg4RBT0pjg%3D&amp;reserved=0\" nam06.safelinks.protection.outlook.com=\"\">\\r\\n&gt; * | **Create a Case*\\r\\n&gt; <https: ?url=\"https%3A%2F%2Fsupport.microsoft.com%2Fen-us%2Fgetsupport%3Fwf%3D0%26tenant%3DClassicCommercial%26oaspworkflow%3Dstart_1.0.0.0%26locale%3Den-us%26supportregion%3Den-us%26pesid%3D15470%26ccsid%3D635827966273974972&amp;data=02%7C01%7Cv-naskai%40microsoft.com%7C7a0a40601cc1480735a808d6db1ada49%7C72f988bf86f141af91ab2d7cd011db47%7C1%7C0%7C636937305729285577&amp;sdata=yPq6zZKS6Ai9fycT%2F%2FWJSgFKpR3iIjdzzKENZVNLfF0%3D&amp;reserved=0\" nam06.safelinks.protection.outlook.com=\"\">\\r\\n&gt;\\r\\n&gt;\\r\\n&gt;\\r\\n&gt; *Azure Support will never ask for your account password or full credit\\r\\n&gt; card number.*\\r\\n&gt;\\r\\n&gt; *For your privacy and security, NEVER send your login credentials or full\\r\\n&gt; credit card number in email.*\\r\\n&gt;\\r\\n&gt;\\r\\n&gt;\\r\\n&gt;\\r\\n&gt;\\r\\n&gt; *From:* Courtenay Farquharson [mailto:courtenay.farquharson@gmail.com]\\r\\n&gt; *Sent:* Friday, May 17, 2019 3:56 PM\\r\\n&gt; *To:* Elyaas Mohammed (MINDTREE LIMITED) <v-elmoha@microsoft.com>\\r\\n&gt; *Cc:* Nasmin Kaisar (MINDTREE LIMITED) <v-naskai@microsoft.com>\\r\\n&gt; *Subject:* Re: 119050425000150\\r\\n&gt;\\r\\n&gt;\\r\\n&gt;\\r\\n&gt; Hi Elyaas\\r\\n&gt;\\r\\n&gt;\\r\\n&gt;\\r\\n&gt; We still havent seen any refund? It has been 7 business days since logged.\\r\\n&gt;\\r\\n&gt;\\r\\n&gt;\\r\\n&gt; Can you confirm it is still processing?\\r\\n&gt;\\r\\n&gt;\\r\\n&gt;\\r\\n&gt; On Sat, 11 May 2019, 3:39 am Elyaas Mohammed (MINDTREE LIMITED), &lt;\\r\\n&gt; v-elmoha@microsoft.com&gt; wrote:\\r\\n&gt;\\r\\n&gt; Hello Courtenay,\\r\\n&gt;\\r\\n&gt;\\r\\n&gt;\\r\\n&gt; My name is Elyaas and I am one of Operations Manager here at Microsoft\\r\\n&gt; Support. You were working with one of my Engineer, Nasmin  on the above\\r\\n&gt; mentioned case. I was reviewing your case and understand that we are ready\\r\\n&gt; to archive the case.\\r\\n&gt;\\r\\n&gt;\\r\\n&gt;\\r\\n&gt; Before closing your case I wanted to take this opportunity to personally\\r\\n&gt; contact you to ensure that as a Microsoft customer you received the best\\r\\n&gt; possible support available and if there is any way we may have better\\r\\n&gt; assisted you during this support incident.\\r\\n&gt;\\r\\n&gt;\\r\\n&gt;\\r\\n&gt; You may receive an invitation from Microsoft to complete a brief web\\r\\n&gt; survey. Your feedback is important to us. We use it to continually improve\\r\\n&gt; our service. We would appreciate it if you can take the time to complete\\r\\n&gt; this survey.\\r\\n&gt;\\r\\n&gt;\\r\\n&gt;\\r\\n&gt; I thank you for using Microsoft Products and Services. At Microsoft we\\r\\n&gt; strive to provide extraordinary customer service, so I look forward to\\r\\n&gt; hearing you.\\r\\n&gt;\\r\\n&gt;\\r\\n&gt;\\r\\n&gt; Thank you once again for allowing us to assist you!  Have a great week!\\r\\n&gt;\\r\\n&gt;\\r\\n&gt;\\r\\n&gt;\\r\\n&gt;\\r\\n&gt; Thanks!\\r\\n&gt;\\r\\n&gt; Kind Regards,\\r\\n&gt;\\r\\n&gt; *Mohammed Elyaas, *Operations Manager\\r\\n&gt;\\r\\n&gt; Azure Subscription Management Support\\r\\n&gt;\\r\\n&gt; Email: v-elmoha@microsoft.com\\r\\n&gt;\\r\\n&gt; Manager: v-vijaba@microsoft.com\\r\\n&gt;\\r\\n&gt; Hours: 6:00 AM-3:00 PM (Mon - Fri) PT | Local Time\\r\\n&gt; <https: ?url=\"http%3A%2F%2Fwww.timebie.com%2Fstd%2Fgmt.php&amp;data=02%7C01%7Cv-naskai%40microsoft.com%7C7a0a40601cc1480735a808d6db1ada49%7C72f988bf86f141af91ab2d7cd011db47%7C1%7C0%7C636937305729225615&amp;sdata=WKv4MNn6O4afETZptVV6K19aF8K2q0pH3z6eCjQoU6E%3D&amp;reserved=0\" nam06.safelinks.protection.outlook.com=\"\">\\r\\n&gt;\\r\\n&gt; *To reach Azure Support outside of my working hours, please email to below\\r\\n&gt; alias* *with your support request number:*\\r\\n&gt;\\r\\n&gt; *Accounts &amp; Portal issue : *asmsmtap@microsoft.com\\r\\n&gt;\\r\\n&gt; *Billing &amp; Payment issue : *asmsmtbp@microsoft.com\\r\\n&gt;\\r\\n&gt;\\r\\n&gt;\\r\\n&gt; *Service Dashboard*\\r\\n&gt; <https: ?url=\"http%3A%2F%2Fazure.microsoft.com%2Fstatus&amp;data=02%7C01%7Cv-naskai%40microsoft.com%7C7a0a40601cc1480735a808d6db1ada49%7C72f988bf86f141af91ab2d7cd011db47%7C1%7C0%7C636937305729225615&amp;sdata=b29HSHWMGS1Wlz9gZM5MW8sqxoFo6B1v9TLNGFTRBCM%3D&amp;reserved=0\" nam06.safelinks.protection.outlook.com=\"\">*\\r\\n&gt; | **Create a Case*\\r\\n&gt; <https: ?url=\"https%3A%2F%2Fsupport.microsoft.com%2Fen-us%2Fgetsupport%3Fwf%3D0%26tenant%3DClassicCommercial%26oaspworkflow%3Dstart_1.0.0.0%26locale%3Den-us%26supportregion%3Den-us%26pesid%3D15470%26ccsid%3D635827966273974972&amp;data=02%7C01%7Cv-naskai%40microsoft.com%7C7a0a40601cc1480735a808d6db1ada49%7C72f988bf86f141af91ab2d7cd011db47%7C1%7C0%7C636937305729235601&amp;sdata=N2slArTI8TmbXjaUYXWJmSswIyIIxpU40e5jAeo%2FO%2B0%3D&amp;reserved=0\" nam06.safelinks.protection.outlook.com=\"\">*|\\r\\n&gt; *Azure Announcements\\r\\n&gt; <https: ?url=\"https%3A%2F%2Fazure.microsoft.com%2Fen-us%2Fblog%2Ftopics%2Fannouncements%2F&amp;data=02%7C01%7Cv-naskai%40microsoft.com%7C7a0a40601cc1480735a808d6db1ada49%7C72f988bf86f141af91ab2d7cd011db47%7C1%7C0%7C636937305729235601&amp;sdata=GWbxaW%2FTewfueg9mdvVXYkH3ZpYEyPnbx4ih1ZagKnI%3D&amp;reserved=0\" nam06.safelinks.protection.outlook.com=\"\">*|\\r\\n&gt; *Have an idea or a suggestion?\\r\\n&gt; <https: ?url=\"https%3A%2F%2Ffeedback.azure.com%2Fforums%2F34192--general-feedback&amp;data=02%7C01%7Cv-naskai%40microsoft.com%7C7a0a40601cc1480735a808d6db1ada49%7C72f988bf86f141af91ab2d7cd011db47%7C1%7C0%7C636937305729245602&amp;sdata=vobkLu6TZ8EV2kWbCTX459lZNRGb6y8Z%2BoAoVk%2FACq0%3D&amp;reserved=0\" nam06.safelinks.protection.outlook.com=\"\">\\r\\n&gt;\\r\\n&gt;\\r\\n&gt;\\r\\n&gt; *Azure Support will never ask for your account password or full credit\\r\\n&gt; card number.*\\r\\n&gt;\\r\\n&gt; *For your privacy and security, NEVER send your login credentials or full\\r\\n&gt; credit card number in email.*\\r\\n&gt;\\r\\n&gt;\\r\\n&gt;\\r\\n&gt;\\r\\n&gt;\\r\\n&gt; Kind Regards,\\r\\n&gt;\\r\\n&gt; *Mohammed Elyaas, *Operations Manager\\r\\n&gt;\\r\\n&gt; Azure Subscription Management Support\\r\\n&gt;\\r\\n&gt; Email: v-elmoha@microsoft.com\\r\\n&gt;\\r\\n&gt; Manager: v-vijaba@microsoft.com\\r\\n&gt;\\r\\n&gt; Hours: 6:00 AM-3:00 PM (Mon - Fri) PT | Local Time\\r\\n&gt; <https: ?url=\"http%3A%2F%2Fwww.timebie.com%2Fstd%2Fgmt.php&amp;data=02%7C01%7Cv-naskai%40microsoft.com%7C7a0a40601cc1480735a808d6db1ada49%7C72f988bf86f141af91ab2d7cd011db47%7C1%7C0%7C636937305729245602&amp;sdata=7Sy92ajL60ZdzCkgJYyctNGspbim3wv%2BuZzUdYgZBBE%3D&amp;reserved=0\" nam06.safelinks.protection.outlook.com=\"\">\\r\\n&gt;\\r\\n&gt; *To reach Azure Support outside of my working hours, please email to below\\r\\n&gt; alias* *with your support request number:*\\r\\n&gt;\\r\\n&gt; *Accounts &amp; Portal issue : *asmsmtap@microsoft.com\\r\\n&gt;\\r\\n&gt; *Billing &amp; Payment issue : *asmsmtbp@microsoft.com\\r\\n&gt;\\r\\n&gt;\\r\\n&gt;\\r\\n&gt; *Service Dashboard*\\r\\n&gt; <https: ?url=\"http%3A%2F%2Fazure.microsoft.com%2Fstatus&amp;data=02%7C01%7Cv-naskai%40microsoft.com%7C7a0a40601cc1480735a808d6db1ada49%7C72f988bf86f141af91ab2d7cd011db47%7C1%7C0%7C636937305729255589&amp;sdata=0H%2FkK9lr9Wh2coYKk6JOP011dlOeVs%2B7t8EPby7t0HI%3D&amp;reserved=0\" nam06.safelinks.protection.outlook.com=\"\">*\\r\\n&gt; | **Create a Case*\\r\\n&gt; <https: ?url=\"https%3A%2F%2Fsupport.microsoft.com%2Fen-us%2Fgetsupport%3Fwf%3D0%26tenant%3DClassicCommercial%26oaspworkflow%3Dstart_1.0.0.0%26locale%3Den-us%26supportregion%3Den-us%26pesid%3D15470%26ccsid%3D635827966273974972&amp;data=02%7C01%7Cv-naskai%40microsoft.com%7C7a0a40601cc1480735a808d6db1ada49%7C72f988bf86f141af91ab2d7cd011db47%7C1%7C0%7C636937305729255589&amp;sdata=3ia03saeAykU%2Flei7Dfh5tEThsT10Q5nELeiazkFRUA%3D&amp;reserved=0\" nam06.safelinks.protection.outlook.com=\"\"> *|\\r\\n&gt; *Azure Announcements\\r\\n&gt; <https: ?url=\"https%3A%2F%2Fazure.microsoft.com%2Fen-us%2Fblog%2Ftopics%2Fannouncements%2F&amp;data=02%7C01%7Cv-naskai%40microsoft.com%7C7a0a40601cc1480735a808d6db1ada49%7C72f988bf86f141af91ab2d7cd011db47%7C1%7C0%7C636937305729265578&amp;sdata=PdUlgAN4iy1ozDvunL3K3Dxiripu0ZscR7DuX6%2BHoac%3D&amp;reserved=0\" nam06.safelinks.protection.outlook.com=\"\"> *|\\r\\n&gt; *Have an idea or a suggestion?\\r\\n&gt; <https: ?url=\"https%3A%2F%2Ffeedback.azure.com%2Fforums%2F34192--general-feedback&amp;data=02%7C01%7Cv-naskai%40microsoft.com%7C7a0a40601cc1480735a808d6db1ada49%7C72f988bf86f141af91ab2d7cd011db47%7C1%7C0%7C636937305729265578&amp;sdata=ihVou1qS%2BysLrpEGnP2kIdbAV2PsnZuPhf5IVbsvFdw%3D&amp;reserved=0\" nam06.safelinks.protection.outlook.com=\"\">\\r\\n&gt;\\r\\n&gt;\\r\\n&gt;\\r\\n&gt; *Azure Support will never ask for your account password or full credit\\r\\n&gt; card number.*\\r\\n&gt;\\r\\n&gt; *For your privacy and security, NEVER send your login credentials or full\\r\\n&gt; credit card number in email.*\\r\\n&gt;\\r\\n&gt;\\r\\n&gt;\\r\\n&gt;\\r\\n&gt;\\r\\n&gt; Hi Courtenay,\\r\\n&gt;\\r\\n&gt;\\r\\n&gt;\\r\\n&gt; Since there are no pending action from my end , I will now proceed to\\r\\n&gt; archive this case .\\r\\n&gt;\\r\\n&gt; Please feel free to reopen the case in case if you do not receive the\\r\\n&gt; refund within 7-10 business days.\\r\\n&gt;\\r\\n&gt;\\r\\n&gt;\\r\\n&gt; To reopen the case , please follow the below steps :\\r\\n&gt;\\r\\n&gt;\\r\\n&gt;\\r\\n&gt; 1.Access the Azure portal (https://portal.azure.com/)\\r\\n&gt;\\r\\n&gt; 2.Selecting \"Manage support requests\" in the top-right Help menu (?)\\r\\n&gt;\\r\\n&gt; 3.Selecting your request\\r\\n&gt;\\r\\n&gt; 4.Clicking “New Message” to re-open the request.\\r\\n&gt;\\r\\n&gt;\\r\\n&gt;\\r\\n&gt; In the event that you find your request is not listed in the portal,\\r\\n&gt; please send an email to asmsmtbp@microsoft.com. We then will reopen the\\r\\n&gt; request and continue working on the issue.\\r\\n&gt;\\r\\n&gt; Thanking you once again for all the support and understanding while we\\r\\n&gt; were working on the case.\\r\\n&gt;\\r\\n&gt;\\r\\n&gt;\\r\\n&gt; Kind Regards,\\r\\n&gt;\\r\\n&gt; *Nasmin Kaisar**, *Support Engineer\\r\\n&gt;\\r\\n&gt; Azure Subscription Management Support\\r\\n&gt;\\r\\n&gt; Email: v-naskai@microsoft.com\\r\\n&gt;\\r\\n&gt; Manager: v-elmoha@microsoft.com\\r\\n&gt;\\r\\n&gt; Hours: 6:00 AM-3:00 PM (Tue - Sat) PT | Local Time\\r\\n&gt; <https: ?url=\"http%3A%2F%2Fwww.timebie.com%2Fstd%2Fgmt.php&amp;data=02%7C01%7Cv-naskai%40microsoft.com%7C7a0a40601cc1480735a808d6db1ada49%7C72f988bf86f141af91ab2d7cd011db47%7C1%7C0%7C636937305729275573&amp;sdata=jgtFafBP%2BK%2F1HExQWy%2BrzL0Ov%2B%2BoZA7UTf%2BiR4ujaWE%3D&amp;reserved=0\" nam06.safelinks.protection.outlook.com=\"\">\\r\\n&gt;\\r\\n&gt; *To reach Azure Support outside of my working hours, please email *\\r\\n&gt; asmsmtbp@microsoft.com\\r\\n&gt;\\r\\n&gt; *with your support request number.*\\r\\n&gt;\\r\\n&gt;\\r\\n&gt;\\r\\n&gt; *Service Dashboard*\\r\\n&gt; <https: ?url=\"http%3A%2F%2Fazure.microsoft.com%2Fstatus&amp;data=02%7C01%7Cv-naskai%40microsoft.com%7C7a0a40601cc1480735a808d6db1ada49%7C72f988bf86f141af91ab2d7cd011db47%7C1%7C0%7C636937305729275573&amp;sdata=sHRiKyTk8w0Jbhnp4FX6AG3uumz%2FGu8sDyg4RBT0pjg%3D&amp;reserved=0\" nam06.safelinks.protection.outlook.com=\"\">\\r\\n&gt; * | **Create a Case*\\r\\n&gt; <https: ?url=\"https%3A%2F%2Fsupport.microsoft.com%2Fen-us%2Fgetsupport%3Fwf%3D0%26tenant%3DClassicCommercial%26oaspworkflow%3Dstart_1.0.0.0%26locale%3Den-us%26supportregion%3Den-us%26pesid%3D15470%26ccsid%3D635827966273974972&amp;data=02%7C01%7Cv-naskai%40microsoft.com%7C7a0a40601cc1480735a808d6db1ada49%7C72f988bf86f141af91ab2d7cd011db47%7C1%7C0%7C636937305729285577&amp;sdata=yPq6zZKS6Ai9fycT%2F%2FWJSgFKpR3iIjdzzKENZVNLfF0%3D&amp;reserved=0\" nam06.safelinks.protection.outlook.com=\"\">\\r\\n&gt;\\r\\n&gt;\\r\\n&gt;\\r\\n&gt; *Azure Support will never ask for your account password or full credit\\r\\n&gt; card number.*\\r\\n&gt;\\r\\n&gt; *For your privacy and security, NEVER send your login credentials or full\\r\\n&gt; credit card number in email.*\\r\\n&gt;\\r\\n&gt;\\r\\n&gt; ------------------------------\\r\\n&gt;\\r\\n&gt; *From: *courtenay@parserr.com\\r\\n&gt;\\r\\n&gt; *Sent: : *Wed, May 8th 19, 12:58 pm\\r\\n&gt;\\r\\n&gt; *To: *v-naskai@microsoft.com\\r\\n&gt;\\r\\n&gt; *Cc: *support@mail.support.microsoft.com;courtenay.farquharson@gmail.com;\\r\\n&gt; v-moimt@microsoft.com;v-sajhin@microsoft.com;farqy1@hotmail.com;\\r\\n&gt; v-elmoha@microsoft.com\\r\\n&gt;\\r\\n&gt; *Subject *Re: Re: 119050425000150\\r\\n&gt;\\r\\n&gt;\\r\\n&gt;\\r\\n&gt; No problems.\\r\\n&gt;\\r\\n&gt;\\r\\n&gt;\\r\\n&gt; Ill keep an eye out for it.\\r\\n&gt;\\r\\n&gt;\\r\\n&gt;\\r\\n&gt; On Thu, 9 May 2019, 5:54 am Nasmin Kaisar (MINDTREE LIMITED), &lt;\\r\\n&gt; v-naskai@microsoft.com&gt; wrote:\\r\\n&gt;\\r\\n&gt; Hi Courtenay,\\r\\n&gt;\\r\\n&gt;\\r\\n&gt;\\r\\n&gt; It will go back to the credit card and it should reflect on the credit\\r\\n&gt; card statement .\\r\\n&gt;\\r\\n&gt; Do you have any further concerns regarding this issue?\\r\\n&gt;\\r\\n&gt;\\r\\n&gt;\\r\\n&gt; Kind Regards,\\r\\n&gt;\\r\\n&gt; *Nasmin Kaisar**, *Support Engineer\\r\\n&gt;\\r\\n&gt; Azure Subscription Management Support\\r\\n&gt;\\r\\n&gt; Email: v-naskai@microsoft.com\\r\\n&gt;\\r\\n&gt; Manager: v-elmoha@microsoft.com\\r\\n&gt;\\r\\n&gt; Hours: 6:00 AM-3:00 PM (Tue - Sat) PT | Local Time\\r\\n&gt; <https: ?url=\"http%3A%2F%2Fwww.timebie.com%2Fstd%2Fgmt.php&amp;data=02%7C01%7Cv-naskai%40microsoft.com%7C7a0a40601cc1480735a808d6db1ada49%7C72f988bf86f141af91ab2d7cd011db47%7C1%7C0%7C636937305729285577&amp;sdata=TJkAG%2FosfPscT4ev3cTLipqa2OI1mJLmRUgREIDmAB0%3D&amp;reserved=0\" nam06.safelinks.protection.outlook.com=\"\">\\r\\n&gt;\\r\\n&gt; *To reach Azure Support outside of my working hours, please email *\\r\\n&gt; asmsmtbp@microsoft.com\\r\\n&gt;\\r\\n&gt; *with your support request number.*\\r\\n&gt;\\r\\n&gt;\\r\\n&gt;\\r\\n&gt; *Service Dashboard*\\r\\n&gt; <https: ?url=\"http%3A%2F%2Fazure.microsoft.com%2Fstatus&amp;data=02%7C01%7Cv-naskai%40microsoft.com%7C7a0a40601cc1480735a808d6db1ada49%7C72f988bf86f141af91ab2d7cd011db47%7C1%7C0%7C636937305729295566&amp;sdata=lKdQd6hhTrdShPOc870iy5D5UjF72nhsSXNpndcY2JE%3D&amp;reserved=0\" nam06.safelinks.protection.outlook.com=\"\">\\r\\n&gt; * | **Create a Case*\\r\\n&gt; <https: ?url=\"https%3A%2F%2Fsupport.microsoft.com%2Fen-us%2Fgetsupport%3Fwf%3D0%26tenant%3DClassicCommercial%26oaspworkflow%3Dstart_1.0.0.0%26locale%3Den-us%26supportregion%3Den-us%26pesid%3D15470%26ccsid%3D635827966273974972&amp;data=02%7C01%7Cv-naskai%40microsoft.com%7C7a0a40601cc1480735a808d6db1ada49%7C72f988bf86f141af91ab2d7cd011db47%7C1%7C0%7C636937305729295566&amp;sdata=W8PlwJmR3Ac0SUEOaLDeEMF4ZJe2UWFKX3aZLgWUoL8%3D&amp;reserved=0\" nam06.safelinks.protection.outlook.com=\"\">\\r\\n&gt;\\r\\n&gt;\\r\\n&gt;\\r\\n&gt; *Azure Support will never ask for your account password or full credit\\r\\n&gt; card number.*\\r\\n&gt;\\r\\n&gt; *For your privacy and security, NEVER send your login credentials or full\\r\\n&gt; credit card number in email.*\\r\\n&gt;\\r\\n&gt;\\r\\n&gt;\\r\\n&gt;\\r\\n&gt;\\r\\n&gt;\\r\\n&gt;\\r\\n&gt;\\r\\n&gt;\\r\\n&gt; *From:* Courtenay Farquharson [mailto:courtenay@parserr.com]\\r\\n&gt; *Sent:* Wednesday, May 8, 2019 12:48 PM\\r\\n&gt; *To:* support <support@mail.support.microsoft.com>; Nasmin Kaisar\\r\\n&gt; (MINDTREE LIMITED) <v-naskai@microsoft.com>\\r\\n&gt; *Cc:* Courtenay Farquharson <courtenay.farquharson@gmail.com>; Mohammed\\r\\n&gt; Imtiyaz Ali (MINDTREE LIMITED) <v-moimt@microsoft.com>; Saikumar Jhingade\\r\\n&gt; (MINDTREE LIMITED) <v-sajhin@microsoft.com>; farqy1@hotmail.com; Elyaas\\r\\n&gt; Mohammed (MINDTREE LIMITED) <v-elmoha@microsoft.com>\\r\\n&gt; *Subject:* Re: Re: 119050425000150\\r\\n&gt;\\r\\n&gt;\\r\\n&gt;\\r\\n&gt; Will the refund be reflected in my Azure account?\\r\\n&gt;\\r\\n&gt;\\r\\n&gt;\\r\\n&gt; On Thu, 9 May 2019, 5:43 am , <v-naskai@microsoft.com> wrote:\\r\\n&gt;\\r\\n&gt; Hi Courtenay,\\r\\n&gt;\\r\\n&gt;\\r\\n&gt;\\r\\n&gt; You will be receiving the amount within 7-10 business days.\\r\\n&gt;\\r\\n&gt; That is our standard time frame for the refund to process.\\r\\n&gt;\\r\\n&gt;\\r\\n&gt;\\r\\n&gt; Is there anything else I can help you with? If not, then can I archive\\r\\n&gt; this case?\\r\\n&gt;\\r\\n&gt;\\r\\n&gt;\\r\\n&gt; Kind Regards,\\r\\n&gt;\\r\\n&gt; *Nasmin Kaisar**, *Support Engineer\\r\\n&gt;\\r\\n&gt; Azure Subscription Management Support\\r\\n&gt;\\r\\n&gt; Email: v-naskai@microsoft.com\\r\\n&gt;\\r\\n&gt; Manager: v-elmoha@microsoft.com\\r\\n&gt;\\r\\n&gt; Hours: 6:00 AM-3:00 PM (Tue - Sat) PT | Local Time\\r\\n&gt; <https: ?url=\"http%3A%2F%2Fwww.timebie.com%2Fstd%2Fgmt.php&amp;data=02%7C01%7Cv-naskai%40microsoft.com%7C7a0a40601cc1480735a808d6db1ada49%7C72f988bf86f141af91ab2d7cd011db47%7C1%7C0%7C636937305729305565&amp;sdata=Ve7gaD1OTMZRR46DXUYcZ7XkUmbJTcqXQG73nj0Jn%2B4%3D&amp;reserved=0\" nam06.safelinks.protection.outlook.com=\"\">\\r\\n&gt;\\r\\n&gt; *To reach Azure Support outside of my working hours, please email *\\r\\n&gt; asmsmtbp@microsoft.com\\r\\n&gt;\\r\\n&gt; *with your support request number.*\\r\\n&gt;\\r\\n&gt;\\r\\n&gt;\\r\\n&gt; *Service Dashboard*\\r\\n&gt; <https: ?url=\"http%3A%2F%2Fazure.microsoft.com%2Fstatus&amp;data=02%7C01%7Cv-naskai%40microsoft.com%7C7a0a40601cc1480735a808d6db1ada49%7C72f988bf86f141af91ab2d7cd011db47%7C1%7C0%7C636937305729305565&amp;sdata=%2BlIT39YhbvqT6g7pmIQusQbHbJAVdq34dGlSp0HjMDI%3D&amp;reserved=0\" nam06.safelinks.protection.outlook.com=\"\">\\r\\n&gt; * | **Create a Case*\\r\\n&gt; <https: ?url=\"https%3A%2F%2Fsupport.microsoft.com%2Fen-us%2Fgetsupport%3Fwf%3D0%26tenant%3DClassicCommercial%26oaspworkflow%3Dstart_1.0.0.0%26locale%3Den-us%26supportregion%3Den-us%26pesid%3D15470%26ccsid%3D635827966273974972&amp;data=02%7C01%7Cv-naskai%40microsoft.com%7C7a0a40601cc1480735a808d6db1ada49%7C72f988bf86f141af91ab2d7cd011db47%7C1%7C0%7C636937305729315553&amp;sdata=SG4xFAJ3sUcU4hhf9%2FGeOuo70S%2BvhZg5L%2BeFmeu6GTA%3D&amp;reserved=0\" nam06.safelinks.protection.outlook.com=\"\">\\r\\n&gt;\\r\\n&gt;\\r\\n&gt;\\r\\n&gt; *Azure Support will never ask for your account password or full credit\\r\\n&gt; card number.*\\r\\n&gt;\\r\\n&gt; *For your privacy and security, NEVER send your login credentials or full\\r\\n&gt; credit card number in email.*\\r\\n&gt;\\r\\n&gt;\\r\\n&gt;\\r\\n&gt;\\r\\n&gt; ------------------------------\\r\\n&gt;\\r\\n&gt; *From: *courtenay.farquharson@gmail.com\\r\\n&gt;\\r\\n&gt; *Sent: : *Wed, May 8th 19, 12:13 pm\\r\\n&gt;\\r\\n&gt; *To: *support@mail.support.microsoft.com;v-naskai@microsoft.com\\r\\n&gt;\\r\\n&gt; *Cc: *v-moimt@microsoft.com;v-sajhin@microsoft.com;courtenay@parserr.com;\\r\\n&gt; farqy1@hotmail.com;v-elmoha@microsoft.com\\r\\n&gt;\\r\\n&gt; *Subject *Re: 119050425000150\\r\\n&gt;\\r\\n&gt;\\r\\n&gt;\\r\\n&gt; Thank you.\\r\\n&gt;\\r\\n&gt;\\r\\n&gt;\\r\\n&gt; Do we know when the refund qill be processed?\\r\\n&gt;\\r\\n&gt;\\r\\n&gt;\\r\\n&gt; On Thu, 9 May 2019, 1:59 am , <v-naskai@microsoft.com> wrote:\\r\\n&gt;\\r\\n&gt; Hi Courtenay,\\r\\n&gt;\\r\\n&gt;\\r\\n&gt;\\r\\n&gt; I hope this email finds you well. I  haven’t heard back from you, so just\\r\\n&gt; wanted to check if you needed any further assistance.  Please do let me\\r\\n&gt; know.\\r\\n&gt;\\r\\n&gt; Kind Regards,\\r\\n&gt;\\r\\n&gt; *Nasmin Kaisar**, *Support Engineer\\r\\n&gt;\\r\\n&gt; Azure Subscription Management Support\\r\\n&gt;\\r\\n&gt; Email: v-naskai@microsoft.com\\r\\n&gt;\\r\\n&gt; Manager: v-elmoha@microsoft.com\\r\\n&gt;\\r\\n&gt; Hours: 6:00 AM-3:00 PM (Tue - Sat) PT | Local Time\\r\\n&gt; <https: ?url=\"http%3A%2F%2Fwww.timebie.com%2Fstd%2Fgmt.php&amp;data=02%7C01%7Cv-naskai%40microsoft.com%7C7a0a40601cc1480735a808d6db1ada49%7C72f988bf86f141af91ab2d7cd011db47%7C1%7C0%7C636937305729315553&amp;sdata=D6v6aV83Yec%2F3VjrJ6iXbV24mw3Q0rJjNgF%2BnYV9m2c%3D&amp;reserved=0\" nam06.safelinks.protection.outlook.com=\"\">\\r\\n&gt;\\r\\n&gt; *To reach Azure Support outside of my working hours, please email *\\r\\n&gt; asmsmtbp@microsoft.com\\r\\n&gt;\\r\\n&gt; *with your support request number.*\\r\\n&gt;\\r\\n&gt;\\r\\n&gt;\\r\\n&gt; *Service Dashboard*\\r\\n&gt; <https: ?url=\"http%3A%2F%2Fazure.microsoft.com%2Fstatus&amp;data=02%7C01%7Cv-naskai%40microsoft.com%7C7a0a40601cc1480735a808d6db1ada49%7C72f988bf86f141af91ab2d7cd011db47%7C1%7C0%7C636937305729325548&amp;sdata=2QDrY518%2BPhg1fB2yj5725XLlQ9n6%2Fp8VdzVLTVtmsM%3D&amp;reserved=0\" nam06.safelinks.protection.outlook.com=\"\">\\r\\n&gt; * | **Create a Case*\\r\\n&gt; <https: ?url=\"https%3A%2F%2Fsupport.microsoft.com%2Fen-us%2Fgetsupport%3Fwf%3D0%26tenant%3DClassicCommercial%26oaspworkflow%3Dstart_1.0.0.0%26locale%3Den-us%26supportregion%3Den-us%26pesid%3D15470%26ccsid%3D635827966273974972&amp;data=02%7C01%7Cv-naskai%40microsoft.com%7C7a0a40601cc1480735a808d6db1ada49%7C72f988bf86f141af91ab2d7cd011db47%7C1%7C0%7C636937305729325548&amp;sdata=w2xc3LBt3fgolWOcdGu%2Bf5FhJbbNomUioVdkqzDYQHA%3D&amp;reserved=0\" nam06.safelinks.protection.outlook.com=\"\">\\r\\n&gt;\\r\\n&gt;\\r\\n&gt;\\r\\n&gt; *Azure Support will never ask for your account password or full credit\\r\\n&gt; card number.*\\r\\n&gt;\\r\\n&gt; *For your privacy and security, NEVER send your login credentials or full\\r\\n&gt; credit card number in email.*\\r\\n&gt;\\r\\n&gt;\\r\\n&gt;\\r\\n&gt;\\r\\n&gt;\\r\\n&gt; --\\r\\n&gt; Regards\\r\\n&gt;\\r\\n&gt; Courtenay Farquharson\\r\\n&gt;\\r\\n&gt;\\r\\n&gt;\\r\\n&gt;\\r\\n</https:></https:></https:></v-naskai@microsoft.com></https:></https:></https:></v-naskai@microsoft.com></v-elmoha@microsoft.com></v-sajhin@microsoft.com></v-moimt@microsoft.com></courtenay.farquharson@gmail.com></v-naskai@microsoft.com></support@mail.support.microsoft.com></https:></https:></https:></https:></https:></https:></https:></https:></https:></https:></https:></https:></https:></https:></https:></https:></v-naskai@microsoft.com></v-elmoha@microsoft.com></https:></https:></https:></v-elmoha@microsoft.com></courtenay.farquharson@gmail.com></v-naskai@microsoft.com></shoumikgoswami@gmail.com></courtenay.farquharson@gmail.com></shoumikgoswami@gmail.com>'"
      ]
     },
     "execution_count": 142,
     "metadata": {},
     "output_type": "execute_result"
    }
   ],
   "source": [
    "# email_data = service.users().messages().get(userId='me', id='16ae4c77077bc237', format='full').execute()\n",
    "email_data = service.users().messages().get(userId='me', id='16ad4dd20e0cc588').execute()\n",
    "email_data['payload']\n",
    "# [0]['parts'][0]['body']['data']\n",
    "# ['parts'][0]['body']\n",
    "soup = BeautifulSoup(base64.urlsafe_b64decode(email_data['payload']['parts'][0]['body']['data']), 'html.parser')\n",
    "# email_text = soup.get_text()\n",
    "# email_text\n",
    "email_text = soup.decode_contents()\n",
    "email_text"
   ]
  },
  {
   "cell_type": "code",
   "execution_count": 111,
   "metadata": {
    "scrolled": true
   },
   "outputs": [
    {
     "data": {
      "text/plain": [
       "{'historyId': '5614381',\n",
       " 'id': '16ae4c77077bc237',\n",
       " 'internalDate': '1558616435000',\n",
       " 'labelIds': ['IMPORTANT', 'SENT'],\n",
       " 'payload': {'body': {'size': 0},\n",
       "  'filename': '',\n",
       "  'headers': [{'name': 'MIME-Version', 'value': '1.0'},\n",
       "   {'name': 'Date', 'value': 'Thu, 23 May 2019 18:30:35 +0530'},\n",
       "   {'name': 'References',\n",
       "    'value': '<CAL5Lp9W6cfGes=OignYGgVQTwo9_pQnfY_wbBbp_Te+v7ZutGA@mail.gmail.com> <CAGLgaGGohMkO+B8gLLQBHS_CTxa6i-9Be8CzC3WhkchqoK8Mjw@mail.gmail.com>'},\n",
       "   {'name': 'In-Reply-To',\n",
       "    'value': '<CAGLgaGGohMkO+B8gLLQBHS_CTxa6i-9Be8CzC3WhkchqoK8Mjw@mail.gmail.com>'},\n",
       "   {'name': 'Message-ID',\n",
       "    'value': '<CAJ5Vba-EJXrkGuUd02XrENbUHwxDgmOmbz45f-RT2Sf5z5BHFA@mail.gmail.com>'},\n",
       "   {'name': 'Subject', 'value': 'Re: SigParser email'},\n",
       "   {'name': 'From', 'value': 'Diljeet Singh <diljeets1994@gmail.com>'},\n",
       "   {'name': 'To',\n",
       "    'value': 'Shoumik Goswami <shoumikgoswami@gmail.com>, Diljeet Singh <diljeets1994@gmail.com>'},\n",
       "   {'name': 'Content-Type',\n",
       "    'value': 'multipart/alternative; boundary=\"000000000000118ddb05898dab0a\"'}],\n",
       "  'mimeType': 'multipart/alternative',\n",
       "  'partId': '',\n",
       "  'parts': [{'body': {'data': 'SGkgUGF1bCBNZW5kb3phICA8cG1lbmRvemFAc2lncGFyc2VyLmNvbT4NCg0KT24gVGh1LCBNYXkgMjMsIDIwMTkgYXQgNjowNiBQTSBTaG91bWlrIEdvc3dhbWkgPHNob3VtaWtnb3N3YW1pQGdtYWlsLmNvbT4NCndyb3RlOg0KDQo-DQo-IFNob3VtaWsgR29zd2FtaQ0KPg0KPg0KPiAtLS0tLS0tLS0tIEZvcndhcmRlZCBtZXNzYWdlIC0tLS0tLS0tLQ0KPiBGcm9tOiBQYXVsIE1lbmRvemEgPHBtZW5kb3phQHNpZ3BhcnNlci5jb20-DQo-IERhdGU6IFN1biwgTWF5IDE5LCAyMDE5IGF0IDEyOjM0IEFNDQo-IFN1YmplY3Q6IFNpZ1BhcnNlciBlbWFpbA0KPiBUbzogPHNob3VtaWtnb3N3YW1pQGdtYWlsLmNvbT4NCj4NCj4NCj4gSGksDQo-DQo-IFRoZSBlbWFpbCB5b3Ugc3VibWl0dGVkIGlzIHBsYWluIHRleHQgYnV0IHlvdSBjbGlja2VkIHRoZSBjaGVja2JveCBmb3Ig4oCcSXMNCj4gSHRtbOKAnS4gVW5jaGVjayB0aGF0IGNoZWNrYm94IGFuZCB0cnkgYWdhaW4uDQo-DQo-IEFsc28sIEkgYW0gc2VlaW5nIGEgYnVuY2ggb2YgZXNjYXBlIHNlcXVlbmNlcy4gWW91IG5lZWQgdG8gdW5lc2NhcGUgdGhvc2UNCj4gYmVmb3JlIHlvdSB1c2UgdGhlIEFQSS4gTG9vayBmb3IgYSBKYXZhc2NyaXB0IHVuZXNjYXBlIHRvb2wuDQo-DQo-IExldCBtZSBrbm93IGlmIHlvdSBoYXZlIGFueSBvdGhlciBxdWVzdGlvbnMgb3Igd291bGQgbGlrZSBhIHF1aWNrIGNhbGwgdG8NCj4gcmV2aWV3IGhvdyB0byBpbnRlZ3JhdGUuDQo-DQo-IFBhdWwNCj4gU2VudCBmcm9tIG15IGlQaG9uZQ0KPiAtLQ0KPiBQYXVsIE1lbmRvemENCj4gU2lnUGFyc2VyIEZvdW5kZXIgQ0VPDQo-IDc2MC05MTctMzc1Mw0KPg0KPiBTZW50IGZyb20gR21haWwgTW9iaWxlDQo-DQo=',\n",
       "     'size': 875},\n",
       "    'filename': '',\n",
       "    'headers': [{'name': 'Content-Type',\n",
       "      'value': 'text/plain; charset=\"UTF-8\"'},\n",
       "     {'name': 'Content-Transfer-Encoding', 'value': 'quoted-printable'}],\n",
       "    'mimeType': 'text/plain',\n",
       "    'partId': '0'},\n",
       "   {'body': {'data': 'PGRpdiBkaXI9Imx0ciI-SGnCoDxzcGFuIHN0eWxlPSJjb2xvcjpyZ2IoMCwwLDApO2ZvbnQtc2l6ZToxNHB4O3doaXRlLXNwYWNlOnByZS13cmFwIj5QYXVsIE1lbmRvemEgPC9zcGFuPg0KDQrCoDxzcGFuIGRpcj0ibHRyIj4mbHQ7PGEgaHJlZj0ibWFpbHRvOnBtZW5kb3phQHNpZ3BhcnNlci5jb20iIHRhcmdldD0iX2JsYW5rIj5wbWVuZG96YUBzaWdwYXJzZXIuY29tPC9hPiZndDs8L3NwYW4-PC9kaXY-PGJyPjxkaXYgY2xhc3M9ImdtYWlsX3F1b3RlIj48ZGl2IGRpcj0ibHRyIiBjbGFzcz0iZ21haWxfYXR0ciI-T24gVGh1LCBNYXkgMjMsIDIwMTkgYXQgNjowNiBQTSBTaG91bWlrIEdvc3dhbWkgJmx0OzxhIGhyZWY9Im1haWx0bzpzaG91bWlrZ29zd2FtaUBnbWFpbC5jb20iPnNob3VtaWtnb3N3YW1pQGdtYWlsLmNvbTwvYT4mZ3Q7IHdyb3RlOjxicj48L2Rpdj48YmxvY2txdW90ZSBjbGFzcz0iZ21haWxfcXVvdGUiIHN0eWxlPSJtYXJnaW46MHB4IDBweCAwcHggMC44ZXg7Ym9yZGVyLWxlZnQ6MXB4IHNvbGlkIHJnYigyMDQsMjA0LDIwNCk7cGFkZGluZy1sZWZ0OjFleCI-PGRpdiBkaXI9Imx0ciI-PGJyIGNsZWFyPSJhbGwiPjxkaXY-PGRpdiBkaXI9Imx0ciIgY2xhc3M9ImdtYWlsLW1fLTU4Njg4NDY4MjU5MDU3MjY2NDlnbWFpbF9zaWduYXR1cmUiPjxkaXYgZGlyPSJsdHIiPjxkaXY-PGRpdiBkaXI9Imx0ciI-PGZvbnQgY29sb3I9IiMzZDg1YzYiPlNob3VtaWsgR29zd2FtaTwvZm9udD48L2Rpdj48L2Rpdj48L2Rpdj48L2Rpdj48L2Rpdj48YnI-PGJyPjxkaXYgY2xhc3M9ImdtYWlsX3F1b3RlIj48ZGl2IGRpcj0ibHRyIiBjbGFzcz0iZ21haWxfYXR0ciI-LS0tLS0tLS0tLSBGb3J3YXJkZWQgbWVzc2FnZSAtLS0tLS0tLS08YnI-RnJvbTogPHN0cm9uZyBjbGFzcz0iZ21haWxfc2VuZGVybmFtZSIgZGlyPSJhdXRvIj5QYXVsIE1lbmRvemE8L3N0cm9uZz4gPHNwYW4gZGlyPSJsdHIiPiZsdDs8YSBocmVmPSJtYWlsdG86cG1lbmRvemFAc2lncGFyc2VyLmNvbSIgdGFyZ2V0PSJfYmxhbmsiPnBtZW5kb3phQHNpZ3BhcnNlci5jb208L2E-Jmd0Ozwvc3Bhbj48YnI-RGF0ZTogU3VuLCBNYXkgMTksIDIwMTkgYXQgMTI6MzQgQU08YnI-U3ViamVjdDogU2lnUGFyc2VyIGVtYWlsPGJyPlRvOiAgJmx0OzxhIGhyZWY9Im1haWx0bzpzaG91bWlrZ29zd2FtaUBnbWFpbC5jb20iIHRhcmdldD0iX2JsYW5rIj5zaG91bWlrZ29zd2FtaUBnbWFpbC5jb208L2E-Jmd0Ozxicj48L2Rpdj48YnI-PGJyPjxkaXYgZGlyPSJhdXRvIj5IaSzCoDwvZGl2PjxkaXYgZGlyPSJhdXRvIj48YnI-PC9kaXY-PGRpdiBkaXI9ImF1dG8iPlRoZSBlbWFpbCB5b3Ugc3VibWl0dGVkIGlzIHBsYWluIHRleHQgYnV0IHlvdSBjbGlja2VkIHRoZSBjaGVja2JveCBmb3Ig4oCcSXMgSHRtbOKAnS4gVW5jaGVjayB0aGF0IGNoZWNrYm94IGFuZCB0cnkgYWdhaW4uwqA8L2Rpdj48ZGl2IGRpcj0iYXV0byI-PGJyPjwvZGl2PjxkaXYgZGlyPSJhdXRvIj5BbHNvLCBJIGFtIHNlZWluZyBhIGJ1bmNoIG9mIGVzY2FwZSBzZXF1ZW5jZXMuIFlvdSBuZWVkIHRvIHVuZXNjYXBlIHRob3NlIGJlZm9yZSB5b3UgdXNlIHRoZSBBUEkuIExvb2sgZm9yIGEgSmF2YXNjcmlwdCB1bmVzY2FwZSB0b29sLjwvZGl2PjxkaXYgZGlyPSJhdXRvIj48YnI-PC9kaXY-PGRpdiBkaXI9ImF1dG8iPkxldCBtZSBrbm93IGlmIHlvdSBoYXZlIGFueSBvdGhlciBxdWVzdGlvbnMgb3Igd291bGQgbGlrZSBhIHF1aWNrIGNhbGwgdG8gcmV2aWV3IGhvdyB0byBpbnRlZ3JhdGUuPC9kaXY-PGRpdiBkaXI9ImF1dG8iPjxicj48L2Rpdj48ZGl2IGRpcj0iYXV0byI-UGF1bDwvZGl2PjxkaXYgZGlyPSJhdXRvIj5TZW50IGZyb20gbXkgaVBob25lPC9kaXY-LS0gPGJyPjxkaXYgZGlyPSJsdHIiIGNsYXNzPSJnbWFpbC1tXy01ODY4ODQ2ODI1OTA1NzI2NjQ5bV8yMTQ1NDQyNjIwMjQ0MzU3OTY3Z21haWxfc2lnbmF0dXJlIj5QYXVsIE1lbmRvemE8YnI-U2lnUGFyc2VyIEZvdW5kZXIgQ0VPPGJyPjc2MC05MTctMzc1Mzxicj48YnI-U2VudCBmcm9tIEdtYWlsIE1vYmlsZTwvZGl2Pg0KPC9kaXY-PC9kaXY-DQo8L2Jsb2NrcXVvdGU-PC9kaXY-DQo=',\n",
       "     'size': 2093},\n",
       "    'filename': '',\n",
       "    'headers': [{'name': 'Content-Type',\n",
       "      'value': 'text/html; charset=\"UTF-8\"'},\n",
       "     {'name': 'Content-Transfer-Encoding', 'value': 'quoted-printable'}],\n",
       "    'mimeType': 'text/html',\n",
       "    'partId': '1'}]},\n",
       " 'sizeEstimate': 4074,\n",
       " 'snippet': 'Hi Paul Mendoza &lt;pmendoza@sigparser.com&gt; On Thu, May 23, 2019 at 6:06 PM Shoumik Goswami &lt;shoumikgoswami@gmail.com&gt; wrote: Shoumik Goswami ---------- Forwarded message --------- From: Paul',\n",
       " 'threadId': '16ae4b0f524b19bb'}"
      ]
     },
     "execution_count": 111,
     "metadata": {},
     "output_type": "execute_result"
    }
   ],
   "source": [
    "email_data"
   ]
  },
  {
   "cell_type": "code",
   "execution_count": 113,
   "metadata": {
    "scrolled": true
   },
   "outputs": [
    {
     "data": {
      "text/plain": [
       "'Hi Paul Mendoza <pmendoza@sigparser.com> On Thu May 23 2019 at 6:06 PM Shoumik Goswami <shoumikgoswami@gmail.com> wrote:   Shoumik Goswami    ---------- Forwarded message ---------  From: Paul Mendoza <pmendoza@sigparser.com>  Date: Sun May 19 2019 at 12:34 AM  Subject: SigParser email  To: <shoumikgoswami@gmail.com>    Hi   The email you submitted is plain text but you clicked the checkbox for “Is  Html”. Uncheck that checkbox and try again.   Also I am seeing a bunch of escape sequences. You need to unescape those  before you use the API. Look for a Javascript unescape tool.   Let me know if you have any other questions or would like a quick call to  review how to integrate.   Paul  Sent from my iPhone  --  Paul Mendoza  SigParser Founder CEO  760-917-3753   Sent from Gmail Mobile  </shoumikgoswami@gmail.com></pmendoza@sigparser.com></shoumikgoswami@gmail.com></pmendoza@sigparser.com>'"
      ]
     },
     "execution_count": 113,
     "metadata": {},
     "output_type": "execute_result"
    }
   ],
   "source": [
    "data = text_cleaning(email_text)\n",
    "data"
   ]
  },
  {
   "cell_type": "code",
   "execution_count": null,
   "metadata": {},
   "outputs": [],
   "source": [
    "extract_email_addresses(email_text)"
   ]
  },
  {
   "cell_type": "code",
   "execution_count": null,
   "metadata": {},
   "outputs": [],
   "source": [
    "extract_email_addresses(data)"
   ]
  },
  {
   "cell_type": "code",
   "execution_count": null,
   "metadata": {
    "scrolled": true
   },
   "outputs": [],
   "source": [
    "extract_name(data)"
   ]
  },
  {
   "cell_type": "code",
   "execution_count": null,
   "metadata": {},
   "outputs": [],
   "source": [
    "extract_name(email_text)"
   ]
  },
  {
   "cell_type": "code",
   "execution_count": null,
   "metadata": {},
   "outputs": [],
   "source": [
    "extract_org(email_text)"
   ]
  },
  {
   "cell_type": "code",
   "execution_count": null,
   "metadata": {
    "scrolled": false
   },
   "outputs": [],
   "source": [
    "extract_org(data)"
   ]
  },
  {
   "cell_type": "code",
   "execution_count": null,
   "metadata": {
    "scrolled": true
   },
   "outputs": [],
   "source": [
    "extract_phone_numbers(data)"
   ]
  },
  {
   "cell_type": "code",
   "execution_count": null,
   "metadata": {},
   "outputs": [],
   "source": [
    "nlp = spacy.load('en_core_web_sm')\n",
    "doc = nlp(email_text)\n",
    "\n",
    "for token in doc:\n",
    "    print(token.text, token.lemma_, token.pos_, token.tag_, token.dep_,\n",
    "            token.shape_, token.is_alpha, token.is_stop)"
   ]
  },
  {
   "cell_type": "code",
   "execution_count": null,
   "metadata": {},
   "outputs": [],
   "source": [
    "for token in doc:\n",
    "    print(token.text, token.lemma_, token.pos_, token.tag_, token.dep_,\n",
    "            token.shape_, token.is_alpha, token.is_stop)"
   ]
  },
  {
   "cell_type": "code",
   "execution_count": null,
   "metadata": {
    "scrolled": true
   },
   "outputs": [],
   "source": [
    "response = {'From':'', 'To':'', 'Subject':'', 'Date':''}\n",
    "for data in email_data['payload']['headers']:\n",
    "    if data['name'] in response:\n",
    "        response[data['name']] = data['value']\n",
    "response"
   ]
  },
  {
   "cell_type": "code",
   "execution_count": null,
   "metadata": {
    "scrolled": true
   },
   "outputs": [],
   "source": [
    "for msg_id in msgs['messages']:\n",
    "    response_data = {'From':'', 'To':'', 'Subject':'', 'Date':''}\n",
    "    email_data = service.users().messages().get(userId='me', id=msg_id['id'], format='full').execute()\n",
    "    for data in email_data['payload']['headers']:\n",
    "        if data['name'] in response_data:\n",
    "            response_data[data['name']] = data['value']\n",
    "    print()\n",
    "    print(response_data)\n",
    "    "
   ]
  },
  {
   "cell_type": "code",
   "execution_count": null,
   "metadata": {
    "scrolled": true
   },
   "outputs": [],
   "source": [
    "import base64\n",
    "counter = 0\n",
    "try:\n",
    "    for msg_id in msgs['messages']:\n",
    "        try:\n",
    "            email_data = service.users().messages().get(userId='me', id=msg_id['id'], format='full').execute()\n",
    "            if ((email_data['payload']['body']['size']==0) and ('parts' in email_data['payload']['parts'][0])):\n",
    "                print(msg_id['id'])\n",
    "                for body_data in email_data['payload']['parts'][0]['parts']:\n",
    "                    base64.urlsafe_b64decode(body_data['body']['data'])\n",
    "            elif ((email_data['payload']['body']['size']==0) and ('data' in email_data['payload']['parts'][0]['body'])):\n",
    "                print(msg_id['id'])\n",
    "                for body_data in email_data['payload']['parts']:\n",
    "                    base64.urlsafe_b64decode(body_data['body']['data'])\n",
    "            elif ((email_data['payload']['body']['size']==0) and ('attachmentId' in email_data['payload']['parts'][0]['body'])):\n",
    "                print(msg_id['id'])\n",
    "                for body_data in email_data['payload']['parts']:\n",
    "                    base64.urlsafe_b64decode(body_data['body']['attachmentId'])\n",
    "            else:\n",
    "                print(msg_id['id'])\n",
    "                base64.urlsafe_b64decode(body_data['body']['data'])\n",
    "        except Exception as e:\n",
    "            print(e)\n",
    "except Exception as e:\n",
    "    print(e)\n",
    "        \n",
    "        "
   ]
  },
  {
   "cell_type": "code",
   "execution_count": null,
   "metadata": {
    "scrolled": true
   },
   "outputs": [],
   "source": [
    "email_data = service.users().messages().get(userId='me', id='16ac694f2e874497', format='full').execute()\n",
    "print(email_data.keys())\n",
    "email_data['payload']['parts'][0]['parts'][0]['body']['data']"
   ]
  },
  {
   "cell_type": "code",
   "execution_count": null,
   "metadata": {
    "scrolled": false
   },
   "outputs": [],
   "source": [
    "base64.urlsafe_b64decode(email_data['payload']['parts'][0]['parts'][0]['body']['data'])"
   ]
  },
  {
   "cell_type": "markdown",
   "metadata": {},
   "source": [
    "# Response"
   ]
  },
  {
   "cell_type": "markdown",
   "metadata": {},
   "source": [
    "{\n",
    "\t\"error\": \"string\",\n",
    "\t\"contacts\": [{\n",
    "\t\t\"firstName\": \"string\",\n",
    "\t\t\"lastName\": \"string\",\n",
    "\t\t\"emailAddress\": \"string\",\n",
    "\t\t\"emailAddressDomain\": \"string\",\n",
    "\t\t\"emailAddressDomainWithoutTLD\": \"string\",\n",
    "\t\t\"phoneNumber\": \"string\",\n",
    "\t\t\"mobilePhone\": \"string\",\n",
    "\t\t\"voipPhone\": \"string\",\n",
    "\t\t\"officePhone\": \"string\",\n",
    "\t\t\"fax\": \"string\",\n",
    "\t\t\"address\": \"string\",\n",
    "\t\t\"title\": \"string\",\n",
    "\t\t\"twitterUrl\": \"string\",\n",
    "\t\t\"twitterHandle\": \"string\",\n",
    "\t\t\"linkedInUrl\": \"string\",\n",
    "\t\t\"linkedInHandle\": \"string\",\n",
    "\t\t\"companyName\": \"string\",\n",
    "\t\t\"website\": \"string\"\n",
    "\t}],\n",
    "\t\"isSpammyLookingEmailMessage\": true,\n",
    "\t\"isSpammyLookingSender\": true,\n",
    "\t\"isSpam\": true,\n",
    "\t\"from_LastName\": \"string\",\n",
    "\t\"from_FirstName\": \"string\",\n",
    "\t\"from_Fax\": \"string\",\n",
    "\t\"from_Phone\": \"string\",\n",
    "\t\"from_Address\": \"string\",\n",
    "\t\"from_Title\": \"string\",\n",
    "\t\"from_MobilePhone\": \"string\",\n",
    "\t\"from_OfficePhone\": \"string\",\n",
    "\t\"from_LinkedInUrl\": \"string\",\n",
    "\t\"from_TwitterUrl\": \"string\",\n",
    "\t\"from_TwitterHandle\": \"string\",\n",
    "\t\"from_EmailAddress\": \"string\",\n",
    "\t\"emails\": [{\n",
    "\t\t\"from_EmailAddress\": \"string\",\n",
    "\t\t\"from_Name\": \"string\",\n",
    "\t\t\"textBody\": \"string\",\n",
    "\t\t\"htmlLines\": [\"string\"],\n",
    "\t\t\"date\": \"2019-05-05T22:27:56.124Z\",\n",
    "\t\t\"didParseCorrectly\": true,\n",
    "\t\t\"to\": [{\n",
    "\t\t\t\"name\": \"string\",\n",
    "\t\t\t\"emailAddress\": \"string\"\n",
    "\t\t}],\n",
    "\t\t\"cc\": [{\n",
    "\t\t\t\"name\": \"string\",\n",
    "\t\t\t\"emailAddress\": \"string\"\n",
    "\t\t}],\n",
    "\t\t\"htmlBody\": \"string\",\n",
    "\t\t\"spammyLookingEmail\": true,\n",
    "\t\t\"subject\": \"string\",\n",
    "\t\t\"cleanedBodyHtml\": \"string\",\n",
    "\t\t\"cleanedBodyPlain\": \"string\"\n",
    "\t}],\n",
    "\t\"from_LinkedInHandle\": \"string\",\n",
    "\t\"duration\": 0,\n",
    "\t\"cleanedemailbody\": \"string\",\n",
    "\t\"cleanedemailbody_ishtml\": true,\n",
    "\t\"cleanedemailbody_plain\": \"string\",\n",
    "\t\"from_CompanyName\": \"string\",\n",
    "\t\"from_Website\": \"string\",\n",
    "\t\"from_EmailAddressDomain\": \"string\",\n",
    "\t\"from_EmailAddressDomainWithoutTLD\": \"string\"\n",
    "}"
   ]
  },
  {
   "cell_type": "code",
   "execution_count": 91,
   "metadata": {},
   "outputs": [
    {
     "data": {
      "text/plain": [
       "[{'body': {'data': 'U2hvdW1payBHb3N3YW1pDQoNCg0KLS0tLS0tLS0tLSBGb3J3YXJkZWQgbWVzc2FnZSAtLS0tLS0tLS0NCkZyb206IFBhdWwgTWVuZG96YSA8cG1lbmRvemFAc2lncGFyc2VyLmNvbT4NCkRhdGU6IFN1biwgTWF5IDE5LCAyMDE5IGF0IDEyOjM0IEFNDQpTdWJqZWN0OiBTaWdQYXJzZXIgZW1haWwNClRvOiA8c2hvdW1pa2dvc3dhbWlAZ21haWwuY29tPg0KDQoNCkhpLA0KDQpUaGUgZW1haWwgeW91IHN1Ym1pdHRlZCBpcyBwbGFpbiB0ZXh0IGJ1dCB5b3UgY2xpY2tlZCB0aGUgY2hlY2tib3ggZm9yIOKAnElzDQpIdG1s4oCdLiBVbmNoZWNrIHRoYXQgY2hlY2tib3ggYW5kIHRyeSBhZ2Fpbi4NCg0KQWxzbywgSSBhbSBzZWVpbmcgYSBidW5jaCBvZiBlc2NhcGUgc2VxdWVuY2VzLiBZb3UgbmVlZCB0byB1bmVzY2FwZSB0aG9zZQ0KYmVmb3JlIHlvdSB1c2UgdGhlIEFQSS4gTG9vayBmb3IgYSBKYXZhc2NyaXB0IHVuZXNjYXBlIHRvb2wuDQoNCkxldCBtZSBrbm93IGlmIHlvdSBoYXZlIGFueSBvdGhlciBxdWVzdGlvbnMgb3Igd291bGQgbGlrZSBhIHF1aWNrIGNhbGwgdG8NCnJldmlldyBob3cgdG8gaW50ZWdyYXRlLg0KDQpQYXVsDQpTZW50IGZyb20gbXkgaVBob25lDQotLSANClBhdWwgTWVuZG96YQ0KU2lnUGFyc2VyIEZvdW5kZXIgQ0VPDQo3NjAtOTE3LTM3NTMNCg0KU2VudCBmcm9tIEdtYWlsIE1vYmlsZQ0K',\n",
       "   'size': 690},\n",
       "  'filename': '',\n",
       "  'headers': [{'name': 'Content-Type', 'value': 'text/plain; charset=\"UTF-8\"'},\n",
       "   {'name': 'Content-Transfer-Encoding', 'value': 'quoted-printable'}],\n",
       "  'mimeType': 'text/plain',\n",
       "  'partId': '0'},\n",
       " {'body': {'data': 'PGRpdiBkaXI9Imx0ciI-PGJyIGNsZWFyPSJhbGwiPjxkaXY-PGRpdiBkaXI9Imx0ciIgY2xhc3M9ImdtYWlsX3NpZ25hdHVyZSIgZGF0YS1zbWFydG1haWw9ImdtYWlsX3NpZ25hdHVyZSI-PGRpdiBkaXI9Imx0ciI-PGRpdj48ZGl2IGRpcj0ibHRyIj48Zm9udCBjb2xvcj0iIzNkODVjNiI-U2hvdW1payBHb3N3YW1pPC9mb250PjwvZGl2PjwvZGl2PjwvZGl2PjwvZGl2PjwvZGl2Pjxicj48YnI-PGRpdiBjbGFzcz0iZ21haWxfcXVvdGUiPjxkaXYgZGlyPSJsdHIiIGNsYXNzPSJnbWFpbF9hdHRyIj4tLS0tLS0tLS0tIEZvcndhcmRlZCBtZXNzYWdlIC0tLS0tLS0tLTxicj5Gcm9tOiA8c3Ryb25nIGNsYXNzPSJnbWFpbF9zZW5kZXJuYW1lIiBkaXI9ImF1dG8iPlBhdWwgTWVuZG96YTwvc3Ryb25nPiA8c3BhbiBkaXI9Imx0ciI-Jmx0OzxhIGhyZWY9Im1haWx0bzpwbWVuZG96YUBzaWdwYXJzZXIuY29tIj5wbWVuZG96YUBzaWdwYXJzZXIuY29tPC9hPiZndDs8L3NwYW4-PGJyPkRhdGU6IFN1biwgTWF5IDE5LCAyMDE5IGF0IDEyOjM0IEFNPGJyPlN1YmplY3Q6IFNpZ1BhcnNlciBlbWFpbDxicj5UbzogICZsdDs8YSBocmVmPSJtYWlsdG86c2hvdW1pa2dvc3dhbWlAZ21haWwuY29tIj5zaG91bWlrZ29zd2FtaUBnbWFpbC5jb208L2E-Jmd0Ozxicj48L2Rpdj48YnI-PGJyPjxkaXYgZGlyPSJhdXRvIj5IaSzCoDwvZGl2PjxkaXYgZGlyPSJhdXRvIj48YnI-PC9kaXY-PGRpdiBkaXI9ImF1dG8iPlRoZSBlbWFpbCB5b3Ugc3VibWl0dGVkIGlzIHBsYWluIHRleHQgYnV0IHlvdSBjbGlja2VkIHRoZSBjaGVja2JveCBmb3Ig4oCcSXMgSHRtbOKAnS4gVW5jaGVjayB0aGF0IGNoZWNrYm94IGFuZCB0cnkgYWdhaW4uwqA8L2Rpdj48ZGl2IGRpcj0iYXV0byI-PGJyPjwvZGl2PjxkaXYgZGlyPSJhdXRvIj5BbHNvLCBJIGFtIHNlZWluZyBhIGJ1bmNoIG9mIGVzY2FwZSBzZXF1ZW5jZXMuIFlvdSBuZWVkIHRvIHVuZXNjYXBlIHRob3NlIGJlZm9yZSB5b3UgdXNlIHRoZSBBUEkuIExvb2sgZm9yIGEgSmF2YXNjcmlwdCB1bmVzY2FwZSB0b29sLjwvZGl2PjxkaXYgZGlyPSJhdXRvIj48YnI-PC9kaXY-PGRpdiBkaXI9ImF1dG8iPkxldCBtZSBrbm93IGlmIHlvdSBoYXZlIGFueSBvdGhlciBxdWVzdGlvbnMgb3Igd291bGQgbGlrZSBhIHF1aWNrIGNhbGwgdG8gcmV2aWV3IGhvdyB0byBpbnRlZ3JhdGUuPC9kaXY-PGRpdiBkaXI9ImF1dG8iPjxicj48L2Rpdj48ZGl2IGRpcj0iYXV0byI-UGF1bDwvZGl2PjxkaXYgZGlyPSJhdXRvIj5TZW50IGZyb20gbXkgaVBob25lPC9kaXY-LS0gPGJyPjxkaXYgZGlyPSJsdHIiIGNsYXNzPSJtXzIxNDU0NDI2MjAyNDQzNTc5NjdnbWFpbF9zaWduYXR1cmUiIGRhdGEtc21hcnRtYWlsPSJnbWFpbF9zaWduYXR1cmUiPlBhdWwgTWVuZG96YTxicj5TaWdQYXJzZXIgRm91bmRlciBDRU88YnI-NzYwLTkxNy0zNzUzPGJyPjxicj5TZW50IGZyb20gR21haWwgTW9iaWxlPC9kaXY-DQo8L2Rpdj48L2Rpdj4NCg==',\n",
       "   'size': 1492},\n",
       "  'filename': '',\n",
       "  'headers': [{'name': 'Content-Type', 'value': 'text/html; charset=\"UTF-8\"'},\n",
       "   {'name': 'Content-Transfer-Encoding', 'value': 'quoted-printable'}],\n",
       "  'mimeType': 'text/html',\n",
       "  'partId': '1'}]"
      ]
     },
     "execution_count": 91,
     "metadata": {},
     "output_type": "execute_result"
    }
   ],
   "source": [
    "email_data['payload']['parts'"
   ]
  },
  {
   "cell_type": "code",
   "execution_count": 95,
   "metadata": {},
   "outputs": [
    {
     "data": {
      "text/plain": [
       "'Shoumik Goswami ---------- Forwarded message --------- From: Paul Mendoza Date: Sun May 19 2019 at 12:34 AM Subject: SigParser email To: Hi The email you submitted is plain text but you clicked the checkbox for “Is Html”. Uncheck that checkbox and try again. Also I am seeing a bunch of escape sequences. You need to unescape those before you use the API. Look for a Javascript unescape tool. Let me know if you have any other questions or would like a quick call to review how to integrate. Paul Sent from my iPhone -- Paul Mendoza SigParser Founder CEO 760-917-3753 Sent from Gmail Mobile '"
      ]
     },
     "execution_count": 95,
     "metadata": {},
     "output_type": "execute_result"
    }
   ],
   "source": [
    "email_data['payload']['parts'][0]['body']['data']\n",
    "soup = BeautifulSoup(base64.urlsafe_b64decode(email_data['payload']['parts'][0]['body']['data']), 'html.parser')\n",
    "content = soup.get_text()\n",
    "text_cleaning(content)"
   ]
  },
  {
   "cell_type": "code",
   "execution_count": 154,
   "metadata": {
    "scrolled": true
   },
   "outputs": [
    {
     "name": "stdout",
     "output_type": "stream",
     "text": [
      "[{'name': ['Shoumik', 'Goswami'], 'email': 'shoumikgoswami@gmail.com'}, {'name': ['Courtenay', 'Farquharson'], 'email': 'courtenay.farquharson@gmail.com'}, {'name': ['Courtenay', 'Farquharson'], 'email': 'courtenay@parserr.com'}]\n"
     ]
    }
   ],
   "source": [
    "email_body= email_data['payload']['parts'][0]['body']['data']\n",
    "sender_email = 'shoumikgoswami@gmail.com'\n",
    "sender_name= 'Shoumik Goswami'\n",
    "\n",
    "response(sender_email,sender_name,email_body)"
   ]
  },
  {
   "cell_type": "code",
   "execution_count": 162,
   "metadata": {
    "scrolled": true
   },
   "outputs": [
    {
     "data": {
      "text/plain": [
       "'gmail'"
      ]
     },
     "execution_count": 162,
     "metadata": {},
     "output_type": "execute_result"
    }
   ],
   "source": [
    "import re\n",
    "s = 'My name is Conrad, and blahblah@gmail.com is my email.'\n",
    "re.search(\"@\\w+\", s).group().replace('@', '')"
   ]
  },
  {
   "cell_type": "code",
   "execution_count": 153,
   "metadata": {},
   "outputs": [],
   "source": [
    "def response(sender_email,sender_name,email_body):\n",
    "    contacts = []\n",
    "    contacts.append({'name':sender_name.split(' ', 1), 'email':sender_email})\n",
    "    \n",
    "    html_data = email_body\n",
    "    soup = BeautifulSoup(base64.urlsafe_b64decode(html_data), 'html.parser')\n",
    "    content = soup.get_text()\n",
    "    content = text_cleaning(content)\n",
    "    \n",
    "    person_data = data_splitting(content)\n",
    "    for contact in person_data:\n",
    "        contacts.append({'name':contact[0], 'email':contact[1], 'domain': re.search(\"@[\\w.]+\", contact[1]).group(), \n",
    "                         'DomainWithoutTLD':re.search(\"@\\w+\", s).group().replace('@', ''), 'mobilePhone'})\n",
    "    print(contacts)\n",
    "#     for contact in contacts:\n",
    "        \n",
    "        \n",
    "    \n",
    "        \n",
    "    "
   ]
  },
  {
   "cell_type": "code",
   "execution_count": 120,
   "metadata": {},
   "outputs": [],
   "source": [
    "data1 = '---------- Forwarded message ---------\\r\\nFrom: Donnelley Paul (BT/SAO-SBV BT/SSY-SAO) <Paul.Donnelley@au.bosch.com> 8752365478 \\r\\nDate: Fri, May 10, 2019 at 5:09 PM\\r\\nSubject: RE: Dangerous conditions for cycling Akuna (anticlockwise) this\\r\\nSunday 12th May\\r\\nTo: george lau <georgeandkim@gmail.com>, Adrian See <adriansee@hotmail.com>,\\r\\nAdrian Wong <adwong_au@yahoo.com>, Alex Perdomo <alejoperdomo68@gmail.com>,\\r\\nAndrew Linfoot <andrew.linfoot@gmail.com> 9852634785, Andrew McPherson <\\r\\nandrewmcp@optusnet.com.au>, A&S <andsal@optusnet.com.au>, Andy Kuo <\\r\\nandy.kuo1@bayer.com>, Chi Ooi <chigooi@gmail.com>, Chris and Wendy Annable <\\r\\ncwannable@hotmail.com>, Courtenay Farquharson <\\r\\ncourtenay.farquharson@gmail.com>, Daniel Lu <mail2danlu@gmail.com>, David\\r\\nChen <dst.chen@gmail.com>, Dave Jackson <DAVID.A.JACKSON.1138@googlemail.com>,\\r\\nDavid Stanfield <david.stanfield@hotmail.com>, denis gradinscak <\\r\\ndgrad76@gmail.com>, Gavin Gillett <gavin@gillettproperties.com.au>, Ian\\r\\nPartis <ian_partis@optusnet.com.au>, James Ward <james.ward@nbrsap.com.au>,\\r\\nJohn Cormican <johncormican@icloud.com>, Kerem Kaner <kaner.kerem@gmail.com> 5555555555,\\r\\nMark Latham <mark.latham@bayer.com>, Maros Elsik <melsik@me.com>,\\r\\nmatt_bywaters@yahoo.co.uk <matt_bywaters@yahoo.co.uk>,\\r\\nmichael.aitkenhead@cantab.net <michael.aitkenhead@cantab.net>, Michael Ee <\\r\\nDaddy_ee@hotmail.com>, Nick Benton <nzrheum@gmail.com>, Peter Janssen <\\r\\npj@janssen.net.au>, Richard Duggan <rdugganrduggan@yahoo.com.au>, robert\\r\\nhughes <robertthughes@yahoo.com>, Steve WIlson <wilson_steve@me.com>, Tung\\r\\nVu <tungvu@bigpond.com>, Tim Lu <tim.rheumatology@gmail.com>, Bennett,\\r\\nAndrew(Property) <Andrew.Bennett2@anz.com>, Victor Tiong <\\r\\nvictor.tiong@gmail.com>, YL Wang <wyl03@yahoo.com>, scott girard <\\r\\nscottrgirard@gmail.com>, Wilson Tehkh <wilson_tehkh@hotmail.com>\\r\\n\\r\\n\\r\\nPeter \\xe2\\x80\\x93 I will see you there. Looks like a cheap coffee run afterwards ;-)\\r\\n\\r\\n\\r\\n\\r\\nBest regards,\\r\\n\\r\\n\\r\\n*Paul Donnelley *\\r\\nTel. +61298424752 | Mobile +61417696638\\r\\n\\r\\n*From:* george lau <georgeandkim@gmail.com>\\r\\n*Sent:* Friday, 10 May 2019 4:03 PM\\r\\n*To:* Adrian See <adriansee@hotmail.com>; Adrian Wong <adwong_au@yahoo.com>;\\r\\nAlex Perdomo <alejoperdomo68@gmail.com>; Andrew Linfoot <\\r\\nandrew.linfoot@gmail.com>; Andrew McPherson <andrewmcp@optusnet.com.au>;\\r\\nA&S <andsal@optusnet.com.au>; Andy Kuo <andy.kuo1@bayer.com>; Chi Ooi <\\r\\nchigooi@gmail.com>; Chris and Wendy Annable <cwannable@hotmail.com>;\\r\\nCourtenay Farquharson <courtenay.farquharson@gmail.com>; Daniel Lu <\\r\\nmail2danlu@gmail.com>; David Chen <dst.chen@gmail.com>; Dave Jackson <\\r\\nDAVID.A.JACKSON.1138@googlemail.com>; David Stanfield <\\r\\ndavid.stanfield@hotmail.com>; denis gradinscak <dgrad76@gmail.com>; Gavin\\r\\nGillett <gavin@gillettproperties.com.au>; Ian Partis <\\r\\nian_partis@optusnet.com.au>; James Ward <james.ward@nbrsap.com.au>; John\\r\\nCormican <johncormican@icloud.com>; Kerem Kaner <kaner.kerem@gmail.com>;\\r\\nMark Latham <mark.latham@bayer.com>; Maros Elsik <melsik@me.com>;\\r\\nmatt_bywaters@yahoo.co.uk; michael.aitkenhead@cantab.net; Michael Ee <\\r\\nDaddy_ee@hotmail.com>; Nick Benton <nzrheum@gmail.com>; Donnelley Paul\\r\\n(BT/SAO-SBV BT/SSY-SAO) <Paul.Donnelley@au.bosch.com>; Peter Janssen <\\r\\npj@janssen.net.au>; Richard Duggan <rdugganrduggan@yahoo.com.au>; robert\\r\\nhughes <robertthughes@yahoo.com>; Steve WIlson <wilson_steve@me.com>; Tung\\r\\nVu <tungvu@bigpond.com>; Tim Lu <tim.rheumatology@gmail.com>; Bennett,\\r\\nAndrew(Property) <Andrew.Bennett2@anz.com>; Victor Tiong <\\r\\nvictor.tiong@gmail.com>; YL Wang <wyl03@yahoo.com>; scott girard <\\r\\nscottrgirard@gmail.com>; Wilson Tehkh <wilson_tehkh@hotmail.com>\\r\\n*Subject:* Dangerous conditions for cycling Akuna (anticlockwise) this\\r\\nSunday 12th May\\r\\n\\r\\n\\r\\n\\r\\nDear Men,\\r\\n\\r\\n\\r\\n\\r\\nTreacherous conditions are predicted for cycling this Sunday 12th May\\r\\n(Mother\\'s Day).  For those of you brave enough to use the Janssen v Janssen\\r\\n2014 defence \"It\\'s mother\\'s day not wives\\' day\", please meet at 0700hrs at\\r\\nthe corner of Mawson St and Mona Vale Rd St Ives.  It\\'s 35km to Akuna\\r\\n(anticlockwise) and back, with a cafe stop at JetBar at the end for those\\r\\nwith time.\\r\\n\\r\\n\\r\\n\\r\\nPlease RSVP if you are brave enough or not (I\\'m out).\\r\\n\\r\\n\\r\\n\\r\\nCheers,\\r\\n\\r\\n\\r\\n\\r\\nGeorge\\r\\n\\r\\n\\r\\n-- \\r\\nRegards\\r\\n\\r\\nCourtenay Farquharson\\r\\n'"
   ]
  },
  {
   "cell_type": "code",
   "execution_count": 118,
   "metadata": {},
   "outputs": [],
   "source": [
    "def find_nearby(email, email_body):\n",
    "    start_pos = []\n",
    "    number = []\n",
    "    twitter = []\n",
    "    facebook = []\n",
    "    linkedin = []\n",
    "    for match in re.finditer(email, email_body):\n",
    "        start_pos.append(match.start())\n",
    "    for j in range(len(start_pos)):\n",
    "        end_pos = start_pos[j] + len(email)\n",
    "        number.append(extract_phone_numbers(email_body[start_pos[j]-100:start_pos[j]]))\n",
    "        number.append(extract_phone_numbers(email_body[end_pos:end_pos + 100]))\n",
    "        twitter.append(extract_twitter(email_body[start_pos[j]-50:start_pos[j]]))\n",
    "        twitter.append(extract_twitter(email_body[end_pos:end_pos + 100]))\n",
    "        facebook.append(extract_facebook(email_body[start_pos[j]-50:start_pos[j]]))\n",
    "        facebook.append(extract_facebook(email_body[end_pos:end_pos + 100]))\n",
    "        linkedin.append(extract_linkedin(email_body[start_pos[j]-50:start_pos[j]]))\n",
    "        linkedin.append(extract_linkedin(email_body[end_pos:end_pos + 100]))\n",
    "        print(email, number,twitter,linkedin)"
   ]
  },
  {
   "cell_type": "markdown",
   "metadata": {},
   "source": [
    "## Logic to get names and emails that belong to each other"
   ]
  },
  {
   "cell_type": "code",
   "execution_count": 48,
   "metadata": {
    "scrolled": true
   },
   "outputs": [
    {
     "data": {
      "text/plain": [
       "'---------- Forwarded message --------- From: Donnelley Paul (BT/SAO-SBV BT/SSY-SAO) <Paul.Donnelley@au.bosch.com> Date: Fri May 10 2019 at 5:09 PM Subject: RE: Dangerous conditions for cycling Akuna (anticlockwise) this Sunday 12th May To: george lau <georgeandkim@gmail.com> Adrian See <adriansee@hotmail.com> Adrian Wong <adwong_au@yahoo.com> Alex Perdomo <alejoperdomo68@gmail.com> Andrew Linfoot <andrew.linfoot@gmail.com> Andrew McPherson < andrewmcp@optusnet.com.au> A&S <andsal@optusnet.com.au> Andy Kuo < andy.kuo1@bayer.com> Chi Ooi <chigooi@gmail.com> Chris and Wendy Annable < cwannable@hotmail.com> Courtenay Farquharson < courtenay.farquharson@gmail.com> Daniel Lu <mail2danlu@gmail.com> David Chen <dst.chen@gmail.com> Dave Jackson <DAVID.A.JACKSON.1138@googlemail.com> David Stanfield <david.stanfield@hotmail.com> denis gradinscak < dgrad76@gmail.com> Gavin Gillett <gavin@gillettproperties.com.au> Ian Partis <ian_partis@optusnet.com.au> James Ward <james.ward@nbrsap.com.au> John Cormican <johncormican@icloud.com> Kerem Kaner <kaner.kerem@gmail.com> Mark Latham <mark.latham@bayer.com> Maros Elsik <melsik@me.com> matt_bywaters@yahoo.co.uk <matt_bywaters@yahoo.co.uk> michael.aitkenhead@cantab.net <michael.aitkenhead@cantab.net> Michael Ee < Daddy_ee@hotmail.com> Nick Benton <nzrheum@gmail.com> Peter Janssen < pj@janssen.net.au> Richard Duggan <rdugganrduggan@yahoo.com.au> robert hughes <robertthughes@yahoo.com> Steve WIlson <wilson_steve@me.com> Tung Vu <tungvu@bigpond.com> Tim Lu <tim.rheumatology@gmail.com> Bennett Andrew(Property) <Andrew.Bennett2@anz.com> Victor Tiong < victor.tiong@gmail.com> YL Wang <wyl03@yahoo.com> scott girard < scottrgirard@gmail.com> Wilson Tehkh <wilson_tehkh@hotmail.com> Peter â\\x80\\x93 I will see you there. Looks like a cheap coffee run afterwards -) Best regards Paul Donnelley Tel. +61298424752 | Mobile +61417696638 From: george lau <georgeandkim@gmail.com> Sent: Friday 10 May 2019 4:03 PM To: Adrian See <adriansee@hotmail.com> Adrian Wong <adwong_au@yahoo.com> Alex Perdomo <alejoperdomo68@gmail.com> Andrew Linfoot < andrew.linfoot@gmail.com> Andrew McPherson <andrewmcp@optusnet.com.au> A&S <andsal@optusnet.com.au> Andy Kuo <andy.kuo1@bayer.com> Chi Ooi < chigooi@gmail.com> Chris and Wendy Annable <cwannable@hotmail.com> Courtenay Farquharson <courtenay.farquharson@gmail.com> Daniel Lu < mail2danlu@gmail.com> David Chen <dst.chen@gmail.com> Dave Jackson < DAVID.A.JACKSON.1138@googlemail.com> David Stanfield < david.stanfield@hotmail.com> denis gradinscak <dgrad76@gmail.com> Gavin Gillett <gavin@gillettproperties.com.au> Ian Partis < ian_partis@optusnet.com.au> James Ward <james.ward@nbrsap.com.au> John Cormican <johncormican@icloud.com> Kerem Kaner <kaner.kerem@gmail.com> Mark Latham <mark.latham@bayer.com> Maros Elsik <melsik@me.com> matt_bywaters@yahoo.co.uk michael.aitkenhead@cantab.net Michael Ee < Daddy_ee@hotmail.com> Nick Benton <nzrheum@gmail.com> Donnelley Paul (BT/SAO-SBV BT/SSY-SAO) <Paul.Donnelley@au.bosch.com> Peter Janssen < pj@janssen.net.au> Richard Duggan <rdugganrduggan@yahoo.com.au> robert hughes <robertthughes@yahoo.com> Steve WIlson <wilson_steve@me.com> Tung Vu <tungvu@bigpond.com> Tim Lu <tim.rheumatology@gmail.com> Bennett Andrew(Property) <Andrew.Bennett2@anz.com> Victor Tiong < victor.tiong@gmail.com> YL Wang <wyl03@yahoo.com> scott girard < scottrgirard@gmail.com> Wilson Tehkh <wilson_tehkh@hotmail.com> Subject: Dangerous conditions for cycling Akuna (anticlockwise) this Sunday 12th May Dear Men Treacherous conditions are predicted for cycling this Sunday 12th May (Mother\\'s Day). For those of you brave enough to use the Janssen v Janssen 2014 defence \"It\\'s mother\\'s day not wives\\' day\" please meet at 0700hrs at the corner of Mawson St and Mona Vale Rd St Ives. It\\'s 35km to Akuna (anticlockwise) and back with a cafe stop at JetBar at the end for those with time. Please RSVP if you are brave enough or not (I\\'m out). Cheers George -- Regards Courtenay Farquharson '"
      ]
     },
     "execution_count": 48,
     "metadata": {},
     "output_type": "execute_result"
    }
   ],
   "source": [
    "data = '---------- Forwarded message ---------\\r\\nFrom: Donnelley Paul (BT/SAO-SBV BT/SSY-SAO) <Paul.Donnelley@au.bosch.com>\\r\\nDate: Fri, May 10, 2019 at 5:09 PM\\r\\nSubject: RE: Dangerous conditions for cycling Akuna (anticlockwise) this\\r\\nSunday 12th May\\r\\nTo: george lau <georgeandkim@gmail.com>, Adrian See <adriansee@hotmail.com>,\\r\\nAdrian Wong <adwong_au@yahoo.com>, Alex Perdomo <alejoperdomo68@gmail.com>,\\r\\nAndrew Linfoot <andrew.linfoot@gmail.com>, Andrew McPherson <\\r\\nandrewmcp@optusnet.com.au>, A&S <andsal@optusnet.com.au>, Andy Kuo <\\r\\nandy.kuo1@bayer.com>, Chi Ooi <chigooi@gmail.com>, Chris and Wendy Annable <\\r\\ncwannable@hotmail.com>, Courtenay Farquharson <\\r\\ncourtenay.farquharson@gmail.com>, Daniel Lu <mail2danlu@gmail.com>, David\\r\\nChen <dst.chen@gmail.com>, Dave Jackson <DAVID.A.JACKSON.1138@googlemail.com>,\\r\\nDavid Stanfield <david.stanfield@hotmail.com>, denis gradinscak <\\r\\ndgrad76@gmail.com>, Gavin Gillett <gavin@gillettproperties.com.au>, Ian\\r\\nPartis <ian_partis@optusnet.com.au>, James Ward <james.ward@nbrsap.com.au>,\\r\\nJohn Cormican <johncormican@icloud.com>, Kerem Kaner <kaner.kerem@gmail.com>,\\r\\nMark Latham <mark.latham@bayer.com>, Maros Elsik <melsik@me.com>,\\r\\nmatt_bywaters@yahoo.co.uk <matt_bywaters@yahoo.co.uk>,\\r\\nmichael.aitkenhead@cantab.net <michael.aitkenhead@cantab.net>, Michael Ee <\\r\\nDaddy_ee@hotmail.com>, Nick Benton <nzrheum@gmail.com>, Peter Janssen <\\r\\npj@janssen.net.au>, Richard Duggan <rdugganrduggan@yahoo.com.au>, robert\\r\\nhughes <robertthughes@yahoo.com>, Steve WIlson <wilson_steve@me.com>, Tung\\r\\nVu <tungvu@bigpond.com>, Tim Lu <tim.rheumatology@gmail.com>, Bennett,\\r\\nAndrew(Property) <Andrew.Bennett2@anz.com>, Victor Tiong <\\r\\nvictor.tiong@gmail.com>, YL Wang <wyl03@yahoo.com>, scott girard <\\r\\nscottrgirard@gmail.com>, Wilson Tehkh <wilson_tehkh@hotmail.com>\\r\\n\\r\\n\\r\\nPeter \\xe2\\x80\\x93 I will see you there. Looks like a cheap coffee run afterwards ;-)\\r\\n\\r\\n\\r\\n\\r\\nBest regards,\\r\\n\\r\\n\\r\\n*Paul Donnelley *\\r\\nTel. +61298424752 | Mobile +61417696638\\r\\n\\r\\n*From:* george lau <georgeandkim@gmail.com>\\r\\n*Sent:* Friday, 10 May 2019 4:03 PM\\r\\n*To:* Adrian See <adriansee@hotmail.com>; Adrian Wong <adwong_au@yahoo.com>;\\r\\nAlex Perdomo <alejoperdomo68@gmail.com>; Andrew Linfoot <\\r\\nandrew.linfoot@gmail.com>; Andrew McPherson <andrewmcp@optusnet.com.au>;\\r\\nA&S <andsal@optusnet.com.au>; Andy Kuo <andy.kuo1@bayer.com>; Chi Ooi <\\r\\nchigooi@gmail.com>; Chris and Wendy Annable <cwannable@hotmail.com>;\\r\\nCourtenay Farquharson <courtenay.farquharson@gmail.com>; Daniel Lu <\\r\\nmail2danlu@gmail.com>; David Chen <dst.chen@gmail.com>; Dave Jackson <\\r\\nDAVID.A.JACKSON.1138@googlemail.com>; David Stanfield <\\r\\ndavid.stanfield@hotmail.com>; denis gradinscak <dgrad76@gmail.com>; Gavin\\r\\nGillett <gavin@gillettproperties.com.au>; Ian Partis <\\r\\nian_partis@optusnet.com.au>; James Ward <james.ward@nbrsap.com.au>; John\\r\\nCormican <johncormican@icloud.com>; Kerem Kaner <kaner.kerem@gmail.com>;\\r\\nMark Latham <mark.latham@bayer.com>; Maros Elsik <melsik@me.com>;\\r\\nmatt_bywaters@yahoo.co.uk; michael.aitkenhead@cantab.net; Michael Ee <\\r\\nDaddy_ee@hotmail.com>; Nick Benton <nzrheum@gmail.com>; Donnelley Paul\\r\\n(BT/SAO-SBV BT/SSY-SAO) <Paul.Donnelley@au.bosch.com>; Peter Janssen <\\r\\npj@janssen.net.au>; Richard Duggan <rdugganrduggan@yahoo.com.au>; robert\\r\\nhughes <robertthughes@yahoo.com>; Steve WIlson <wilson_steve@me.com>; Tung\\r\\nVu <tungvu@bigpond.com>; Tim Lu <tim.rheumatology@gmail.com>; Bennett,\\r\\nAndrew(Property) <Andrew.Bennett2@anz.com>; Victor Tiong <\\r\\nvictor.tiong@gmail.com>; YL Wang <wyl03@yahoo.com>; scott girard <\\r\\nscottrgirard@gmail.com>; Wilson Tehkh <wilson_tehkh@hotmail.com>\\r\\n*Subject:* Dangerous conditions for cycling Akuna (anticlockwise) this\\r\\nSunday 12th May\\r\\n\\r\\n\\r\\n\\r\\nDear Men,\\r\\n\\r\\n\\r\\n\\r\\nTreacherous conditions are predicted for cycling this Sunday 12th May\\r\\n(Mother\\'s Day).  For those of you brave enough to use the Janssen v Janssen\\r\\n2014 defence \"It\\'s mother\\'s day not wives\\' day\", please meet at 0700hrs at\\r\\nthe corner of Mawson St and Mona Vale Rd St Ives.  It\\'s 35km to Akuna\\r\\n(anticlockwise) and back, with a cafe stop at JetBar at the end for those\\r\\nwith time.\\r\\n\\r\\n\\r\\n\\r\\nPlease RSVP if you are brave enough or not (I\\'m out).\\r\\n\\r\\n\\r\\n\\r\\nCheers,\\r\\n\\r\\n\\r\\n\\r\\nGeorge\\r\\n\\r\\n\\r\\n-- \\r\\nRegards\\r\\n\\r\\nCourtenay Farquharson\\r\\n'\n",
    "data = text_cleaning(data)\n",
    "data"
   ]
  },
  {
   "cell_type": "code",
   "execution_count": null,
   "metadata": {
    "scrolled": true
   },
   "outputs": [],
   "source": [
    "data.split('>')"
   ]
  },
  {
   "cell_type": "code",
   "execution_count": 14,
   "metadata": {},
   "outputs": [],
   "source": [
    "import operator"
   ]
  },
  {
   "cell_type": "code",
   "execution_count": 44,
   "metadata": {},
   "outputs": [],
   "source": [
    "def find_correct_name(names, email_addr):\n",
    "    name_counter={name.title():0 for name in names}\n",
    "    for name in name_counter:\n",
    "        for item in name.split(' '):\n",
    "            try:\n",
    "                name_counter[name] += len(re.findall(item.lower(), email_addr.lower()))\n",
    "            except Exception as e:\n",
    "                print(e)\n",
    "#     print(name_counter)\n",
    "    name_counter = sorted(name_counter.items(), key=operator.itemgetter(1), reverse= True)\n",
    "    if name_counter[0][1]>0:\n",
    "        return name_counter[0][0]\n",
    "#     return max(name_counter.items(), key=operator.itemgetter(1))[0]"
   ]
  },
  {
   "cell_type": "code",
   "execution_count": 151,
   "metadata": {},
   "outputs": [],
   "source": [
    "def data_splitting(data):\n",
    "    contacts=[]\n",
    "    try:\n",
    "        for line in data.split('>'):\n",
    "            email_addrs = extract_email_addresses(line)\n",
    "            name=None\n",
    "            if len(email_addrs) == 1:\n",
    "                names = extract_name(line)\n",
    "                if len(names)>1:\n",
    "                    name= find_correct_name(names, email_addrs[0])\n",
    "                elif len(names) == 1:\n",
    "                    name = names[0]\n",
    "                else:\n",
    "                    pass\n",
    "            else:\n",
    "                pass\n",
    "            if name is not None:\n",
    "#                 first_name = name.split(' ', 1)[0]\n",
    "#                 last_name = name.split(' ', 1)[1]\n",
    "                contacts.append([name.split(' ', 1), email_addrs[0]])\n",
    "        return contacts\n",
    "    except Exception as e:\n",
    "        print(e)"
   ]
  },
  {
   "cell_type": "code",
   "execution_count": 146,
   "metadata": {},
   "outputs": [],
   "source": [
    "name = 'Shoumik Goswami'\n",
    "first_name = name.split(' ', 1)[0]\n",
    "last_name = name.split(' ', 1)[1]"
   ]
  },
  {
   "cell_type": "code",
   "execution_count": 148,
   "metadata": {},
   "outputs": [
    {
     "data": {
      "text/plain": [
       "'Goswami'"
      ]
     },
     "execution_count": 148,
     "metadata": {},
     "output_type": "execute_result"
    }
   ],
   "source": [
    "last_name"
   ]
  },
  {
   "cell_type": "code",
   "execution_count": 107,
   "metadata": {},
   "outputs": [],
   "source": [
    "data = 'Trail\\xa0+1On Sun, May 19, 2019 at 11:27 AM Shoumik Goswami <shoumikgoswami@gmail.com> wrote:Shoumik Goswami---------- Forwarded message ---------From: Courtenay Farquharson <courtenay.farquharson@gmail.com>Date: Sat, May 18, 2019 at 4:17 PMSubject: Fwd: 119050425000150To:  <shoumikgoswami@gmail.com>---------- Forwarded message ---------From: Nasmin Kaisar (MINDTREE LIMITED) <v-naskai@microsoft.com>Date: Sat, May 18, 2019 at 9:08 AMSubject: RE: 119050425000150To: Courtenay Farquharson <courtenay.farquharson@gmail.com>Cc: Elyaas Mohammed (MINDTREE LIMITED) <v-elmoha@microsoft.com>\\n\\n\\nHello Courtenay,\\n\\xa0\\nI have processed the refund from my end .\\r\\n\\nIt usually takes 7-10 business days for the refund to be credited back to your account.\\r\\n\\n\\xa0\\nI will have to check with my internal team .\\r\\n\\nBut since it is the weekend , there will be no update before next Monday.\\r\\n\\nI have reopened the case.\\r\\n\\n\\xa0\\nKind Regards,\\n\\nNasmin Kaisar,\\xa0Support\\r\\n Engineer\\n\\nAzure Subscription Management Support\\n\\nEmail:\\xa0v-naskai@microsoft.com\\n\\nManager:\\xa0v-elmoha@microsoft.com\\n\\nHours: 6:00 AM-3:00 PM (Tue - Sat) PT |\\xa0Local\\r\\n Time\\n\\nTo reach Azure Support outside of my working hours, please email\\xa0asmsmtbp@microsoft.com\\n\\nwith your support request number.\\n\\n\\xa0\\nService\\r\\n Dashboard\\xa0|\\xa0Create\\r\\n a Case\\n\\n\\xa0\\n\\nAzure Support will never ask for your account password or full credit card number.\\n\\nFor your privacy and security, NEVER send your login credentials or full credit card number in email.\\n\\xa0\\n\\xa0\\nFrom: Courtenay Farquharson [mailto:courtenay.farquharson@gmail.com]\\r\\n\\nSent: Friday, May 17, 2019 3:56 PM\\nTo: Elyaas Mohammed (MINDTREE LIMITED) <v-elmoha@microsoft.com>\\nCc: Nasmin Kaisar (MINDTREE LIMITED) <v-naskai@microsoft.com>\\nSubject: Re: 119050425000150\\n\\xa0\\n\\nHi Elyaas\\n\\n\\xa0\\n\\n\\nWe still havent seen any refund? It has been 7 business days since logged.\\n\\n\\n\\xa0\\n\\n\\nCan you confirm it is still processing?\\n\\n\\n\\xa0\\n\\n\\nOn Sat, 11 May 2019, 3:39 am Elyaas Mohammed (MINDTREE LIMITED), <v-elmoha@microsoft.com> wrote:\\n\\n\\n\\n\\nHello Courtenay,\\n\\xa0\\nMy name is Elyaas and I am one of Operations Manager here at Microsoft Support. You were working with one of my Engineer, Nasmin \\xa0on the above mentioned case. I was reviewing your case and understand\\r\\n that we are ready to archive the case.\\n\\xa0\\nBefore closing your case I wanted to take this opportunity to personally contact you to ensure that as a Microsoft customer you received the best possible support available and if there is any\\r\\n way we may have better assisted you during this support incident.\\n\\xa0\\nYou may receive an invitation from Microsoft to complete a brief web survey. Your feedback is important to us. We use it to continually improve our service. We would appreciate it if you can\\r\\n take the time to complete this survey.\\n\\xa0\\nI thank you for using Microsoft Products and Services. At Microsoft we strive to provide extraordinary customer service, so I look forward to hearing you.\\n\\xa0\\nThank you once again for allowing us to assist you!\\xa0 Have a great week!\\n\\xa0\\n\\xa0\\nThanks!\\nKind Regards,\\nMohammed Elyaas,\\r\\nOperations Manager\\nAzure Subscription Management Support\\nEmail:\\r\\nv-elmoha@microsoft.com\\nManager:\\r\\nv-vijaba@microsoft.com\\nHours: 6:00 AM-3:00 PM (Mon - Fri) PT |\\r\\nLocal\\r\\n Time\\nTo reach Azure Support outside of my working hours, please email to below alias\\xa0with\\r\\n your support request number:\\nAccounts & Portal issue :\\r\\nasmsmtap@microsoft.com\\nBilling & Payment issue :\\r\\nasmsmtbp@microsoft.com\\n\\xa0\\nService\\r\\n Dashboard |\\r\\nCreate\\r\\n a Case|\\r\\nAzure\\r\\n Announcements |\\r\\nHave\\r\\n an idea or a suggestion?\\n\\xa0\\nAzure Support will never ask for your account password or full credit card number.\\nFor your privacy and security, NEVER send your login credentials or full credit card number in email.\\n\\xa0\\n\\xa0\\n\\nKind Regards,\\n\\nMohammed Elyaas,\\r\\nOperations Manager\\nAzure Subscription Management Support\\nEmail:\\r\\nv-elmoha@microsoft.com\\nManager:\\r\\nv-vijaba@microsoft.com\\n\\nHours: 6:00 AM-3:00 PM (Mon - Fri) PT |\\r\\nLocal\\r\\n Time\\n\\nTo reach Azure Support outside of my working hours, please email to below alias\\xa0with\\r\\n your support request number:\\n\\nAccounts & Portal issue :\\r\\nasmsmtap@microsoft.com\\n\\nBilling & Payment issue :\\r\\nasmsmtbp@microsoft.com\\n\\n\\xa0\\n\\nService\\r\\n Dashboard |\\r\\nCreate\\r\\n a Case |\\r\\nAzure\\r\\n Announcements\\n| Have\\r\\n an idea or a suggestion?\\n\\n\\xa0\\n\\nAzure Support will never ask for your account password or full credit card number.\\nFor your privacy and security, NEVER send your login credentials or full credit card number in email.\\n\\xa0\\n\\xa0\\nHi\\xa0Courtenay,\\n\\xa0\\nSince there are no pending action from my end , I will now proceed to archive this case .\\xa0\\nPlease feel free to reopen the case in case if you do not receive the refund within 7-10 business days.\\xa0\\n\\xa0\\nTo reopen the case , please follow the below steps :\\n\\xa0\\n1.Access the Azure portal (https://portal.azure.com/)\\r\\n\\n2.Selecting \"Manage support requests\" in the top-right Help menu (?)\\r\\n\\n3.Selecting your request\\n4.Clicking “New Message” to re-open the request.\\r\\n\\n\\xa0\\nIn the event that you find your request is not listed in the portal, please send an email to\\r\\nasmsmtbp@microsoft.com. We then will reopen the request and continue working on the issue.\\xa0\\nThanking you once again for all the support and understanding while we were working on the case.\\n\\xa0\\nKind Regards,\\n\\nNasmin Kaisar,\\xa0Support\\r\\n Engineer\\n\\nAzure Subscription Management Support\\n\\nEmail:\\xa0v-naskai@microsoft.com\\n\\nManager:\\xa0v-elmoha@microsoft.com\\n\\nHours: 6:00 AM-3:00 PM (Tue - Sat) PT |\\xa0Local\\r\\n Time\\n\\nTo reach Azure Support outside of my working hours, please email\\xa0asmsmtbp@microsoft.com\\n\\nwith your support request number.\\n\\n\\xa0\\nService\\r\\n Dashboard\\xa0|\\xa0Create\\r\\n a Case\\n\\n\\xa0\\n\\nAzure Support will never ask for your account password or full credit card number.\\n\\nFor your privacy and security, NEVER send your login credentials or full credit card number in email.\\n\\xa0\\n\\n\\n\\nFrom:\\r\\ncourtenay@parserr.com\\nSent: :\\r\\nWed, May 8th 19, 12:58 pm\\nTo:\\r\\nv-naskai@microsoft.com\\nCc:\\r\\nsupport@mail.support.microsoft.com;courtenay.farquharson@gmail.com;v-moimt@microsoft.com;v-sajhin@microsoft.com;farqy1@hotmail.com;v-elmoha@microsoft.com\\nSubject\\r\\nRe: Re: 119050425000150\\n\\xa0\\nNo problems.\\r\\n\\n\\xa0\\nIll keep an eye out for it.\\xa0\\n\\xa0\\nOn Thu, 9 May 2019, 5:54 am Nasmin Kaisar (MINDTREE LIMITED), <v-naskai@microsoft.com>\\r\\n wrote:\\nHi\\xa0Courtenay,\\n\\xa0\\nIt will go back to the credit card and it should reflect on the credit card statement .\\r\\n\\nDo you have any further concerns regarding this issue?\\n\\xa0\\nKind Regards,\\nNasmin Kaisar,\\xa0Support\\r\\n Engineer\\nAzure Subscription Management Support\\nEmail:\\xa0v-naskai@microsoft.com\\nManager:\\xa0v-elmoha@microsoft.com\\n\\nHours: 6:00 AM-3:00 PM (Tue - Sat) PT |\\xa0Local\\r\\n Time\\nTo reach Azure Support outside of my working hours, please email\\xa0asmsmtbp@microsoft.com\\nwith your support request number.\\n\\n\\xa0\\nService\\r\\n Dashboard\\xa0|\\xa0Create\\r\\n a Case\\n\\n\\xa0\\nAzure Support will never ask for your account password or full credit card number.\\nFor your privacy and security, NEVER send your login credentials or full credit card number in email.\\n\\xa0\\n\\xa0\\n\\xa0\\n\\xa0\\nFrom: Courtenay Farquharson [mailto:courtenay@parserr.com]\\r\\n\\nSent: Wednesday, May 8, 2019 12:48 PM\\nTo: support <support@mail.support.microsoft.com>; Nasmin Kaisar (MINDTREE LIMITED) <v-naskai@microsoft.com>\\nCc: Courtenay Farquharson <courtenay.farquharson@gmail.com>; Mohammed Imtiyaz Ali (MINDTREE LIMITED) <v-moimt@microsoft.com>;\\r\\n Saikumar Jhingade (MINDTREE LIMITED) <v-sajhin@microsoft.com>;\\r\\n\\r\\nfarqy1@hotmail.com; Elyaas Mohammed (MINDTREE LIMITED) <v-elmoha@microsoft.com>\\nSubject: Re: Re: 119050425000150\\n\\xa0\\nWill the refund be reflected in my Azure account?\\n\\xa0\\nOn Thu, 9 May 2019, 5:43 am , <v-naskai@microsoft.com>\\r\\n wrote:\\nHi\\xa0Courtenay,\\n\\xa0\\nYou will be receiving the amount within 7-10 business days.\\xa0\\nThat is our standard time frame for the refund to process.\\xa0\\xa0\\n\\xa0\\nIs there anything else I can help you\\xa0with? If not, then can I archive this case?\\n\\xa0\\nKind Regards,\\nNasmin Kaisar,\\xa0Support\\r\\n Engineer\\nAzure Subscription Management Support\\nEmail:\\xa0v-naskai@microsoft.com\\nManager:\\xa0v-elmoha@microsoft.com\\n\\nHours: 6:00 AM-3:00 PM (Tue - Sat) PT |\\xa0Local\\r\\n Time\\nTo reach Azure Support outside of my working hours, please email\\xa0asmsmtbp@microsoft.com\\nwith your support request number.\\n\\n\\xa0\\nService\\r\\n Dashboard\\xa0|\\xa0Create\\r\\n a Case\\n\\n\\xa0\\nAzure Support will never ask for your account password or full credit card number.\\nFor your privacy and security, NEVER send your login credentials or full credit card number in email.\\n\\xa0\\n\\xa0\\n\\n\\n\\nFrom:\\r\\ncourtenay.farquharson@gmail.com\\nSent: :\\r\\nWed, May 8th 19, 12:13 pm\\nTo:\\r\\nsupport@mail.support.microsoft.com;v-naskai@microsoft.com\\nCc:\\r\\nv-moimt@microsoft.com;v-sajhin@microsoft.com;courtenay@parserr.com;farqy1@hotmail.com;v-elmoha@microsoft.com\\nSubject\\r\\nRe: 119050425000150\\n\\xa0\\nThank you.\\r\\n\\n\\xa0\\nDo we know when the refund qill be processed?\\n\\xa0\\nOn Thu, 9 May 2019, 1:59 am , <v-naskai@microsoft.com>\\r\\n wrote:\\nHi\\xa0Courtenay,\\n\\xa0\\nI hope this email finds you well. I \\xa0haven’t heard back from you, so just wanted to check if you needed any further assistance.\\xa0 Please do let me know.\\nKind Regards,\\nNasmin Kaisar,\\xa0Support\\r\\n Engineer\\nAzure Subscription Management Support\\nEmail:\\xa0v-naskai@microsoft.com\\nManager:\\xa0v-elmoha@microsoft.com\\n\\nHours: 6:00 AM-3:00 PM (Tue - Sat) PT |\\xa0Local\\r\\n Time\\nTo reach Azure Support outside of my working hours, please email\\xa0asmsmtbp@microsoft.com\\nwith your support request number.\\n\\n\\xa0\\nService\\r\\n Dashboard\\xa0|\\xa0Create\\r\\n a Case\\n\\n\\xa0\\nAzure Support will never ask for your account password or full credit card number.\\nFor your privacy and security, NEVER send your login credentials or full credit card number in email.\\n\\xa0\\n\\n\\n\\n\\n\\n\\n-- RegardsCourtenay Farquharson\\n\\n\\n'"
   ]
  },
  {
   "cell_type": "code",
   "execution_count": 51,
   "metadata": {
    "scrolled": true
   },
   "outputs": [
    {
     "data": {
      "text/plain": [
       "['---------- Forwarded message --------- From: Donnelley Paul (BT/SAO-SBV BT/SSY-SAO) <Paul.Donnelley@au.bosch.com',\n",
       " ' Date: Fri May 10 2019 at 5:09 PM Subject: RE: Dangerous conditions for cycling Akuna (anticlockwise) this Sunday 12th May To: george lau <georgeandkim@gmail.com',\n",
       " ' Adrian See <adriansee@hotmail.com',\n",
       " ' Adrian Wong <adwong_au@yahoo.com',\n",
       " ' Alex Perdomo <alejoperdomo68@gmail.com',\n",
       " ' Andrew Linfoot <andrew.linfoot@gmail.com',\n",
       " ' Andrew McPherson < andrewmcp@optusnet.com.au',\n",
       " ' A&S <andsal@optusnet.com.au',\n",
       " ' Andy Kuo < andy.kuo1@bayer.com',\n",
       " ' Chi Ooi <chigooi@gmail.com',\n",
       " ' Chris and Wendy Annable < cwannable@hotmail.com',\n",
       " ' Courtenay Farquharson < courtenay.farquharson@gmail.com',\n",
       " ' Daniel Lu <mail2danlu@gmail.com',\n",
       " ' David Chen <dst.chen@gmail.com',\n",
       " ' Dave Jackson <DAVID.A.JACKSON.1138@googlemail.com',\n",
       " ' David Stanfield <david.stanfield@hotmail.com',\n",
       " ' denis gradinscak < dgrad76@gmail.com',\n",
       " ' Gavin Gillett <gavin@gillettproperties.com.au',\n",
       " ' Ian Partis <ian_partis@optusnet.com.au',\n",
       " ' James Ward <james.ward@nbrsap.com.au',\n",
       " ' John Cormican <johncormican@icloud.com',\n",
       " ' Kerem Kaner <kaner.kerem@gmail.com',\n",
       " ' Mark Latham <mark.latham@bayer.com',\n",
       " ' Maros Elsik <melsik@me.com',\n",
       " ' matt_bywaters@yahoo.co.uk <matt_bywaters@yahoo.co.uk',\n",
       " ' michael.aitkenhead@cantab.net <michael.aitkenhead@cantab.net',\n",
       " ' Michael Ee < Daddy_ee@hotmail.com',\n",
       " ' Nick Benton <nzrheum@gmail.com',\n",
       " ' Peter Janssen < pj@janssen.net.au',\n",
       " ' Richard Duggan <rdugganrduggan@yahoo.com.au',\n",
       " ' robert hughes <robertthughes@yahoo.com',\n",
       " ' Steve WIlson <wilson_steve@me.com',\n",
       " ' Tung Vu <tungvu@bigpond.com',\n",
       " ' Tim Lu <tim.rheumatology@gmail.com',\n",
       " ' Bennett Andrew(Property) <Andrew.Bennett2@anz.com',\n",
       " ' Victor Tiong < victor.tiong@gmail.com',\n",
       " ' YL Wang <wyl03@yahoo.com',\n",
       " ' scott girard < scottrgirard@gmail.com',\n",
       " ' Wilson Tehkh <wilson_tehkh@hotmail.com',\n",
       " ' Peter â\\x80\\x93 I will see you there. Looks like a cheap coffee run afterwards -) Best regards Paul Donnelley Tel. +61298424752 | Mobile +61417696638 From: george lau <georgeandkim@gmail.com',\n",
       " ' Sent: Friday 10 May 2019 4:03 PM To: Adrian See <adriansee@hotmail.com',\n",
       " ' Adrian Wong <adwong_au@yahoo.com',\n",
       " ' Alex Perdomo <alejoperdomo68@gmail.com',\n",
       " ' Andrew Linfoot < andrew.linfoot@gmail.com',\n",
       " ' Andrew McPherson <andrewmcp@optusnet.com.au',\n",
       " ' A&S <andsal@optusnet.com.au',\n",
       " ' Andy Kuo <andy.kuo1@bayer.com',\n",
       " ' Chi Ooi < chigooi@gmail.com',\n",
       " ' Chris and Wendy Annable <cwannable@hotmail.com',\n",
       " ' Courtenay Farquharson <courtenay.farquharson@gmail.com',\n",
       " ' Daniel Lu < mail2danlu@gmail.com',\n",
       " ' David Chen <dst.chen@gmail.com',\n",
       " ' Dave Jackson < DAVID.A.JACKSON.1138@googlemail.com',\n",
       " ' David Stanfield < david.stanfield@hotmail.com',\n",
       " ' denis gradinscak <dgrad76@gmail.com',\n",
       " ' Gavin Gillett <gavin@gillettproperties.com.au',\n",
       " ' Ian Partis < ian_partis@optusnet.com.au',\n",
       " ' James Ward <james.ward@nbrsap.com.au',\n",
       " ' John Cormican <johncormican@icloud.com',\n",
       " ' Kerem Kaner <kaner.kerem@gmail.com',\n",
       " ' Mark Latham <mark.latham@bayer.com',\n",
       " ' Maros Elsik <melsik@me.com',\n",
       " ' matt_bywaters@yahoo.co.uk michael.aitkenhead@cantab.net Michael Ee < Daddy_ee@hotmail.com',\n",
       " ' Nick Benton <nzrheum@gmail.com',\n",
       " ' Donnelley Paul (BT/SAO-SBV BT/SSY-SAO) <Paul.Donnelley@au.bosch.com',\n",
       " ' Peter Janssen < pj@janssen.net.au',\n",
       " ' Richard Duggan <rdugganrduggan@yahoo.com.au',\n",
       " ' robert hughes <robertthughes@yahoo.com',\n",
       " ' Steve WIlson <wilson_steve@me.com',\n",
       " ' Tung Vu <tungvu@bigpond.com',\n",
       " ' Tim Lu <tim.rheumatology@gmail.com',\n",
       " ' Bennett Andrew(Property) <Andrew.Bennett2@anz.com',\n",
       " ' Victor Tiong < victor.tiong@gmail.com',\n",
       " ' YL Wang <wyl03@yahoo.com',\n",
       " ' scott girard < scottrgirard@gmail.com',\n",
       " ' Wilson Tehkh <wilson_tehkh@hotmail.com',\n",
       " ' Subject: Dangerous conditions for cycling Akuna (anticlockwise) this Sunday 12th May Dear Men Treacherous conditions are predicted for cycling this Sunday 12th May (Mother\\'s Day). For those of you brave enough to use the Janssen v Janssen 2014 defence \"It\\'s mother\\'s day not wives\\' day\" please meet at 0700hrs at the corner of Mawson St and Mona Vale Rd St Ives. It\\'s 35km to Akuna (anticlockwise) and back with a cafe stop at JetBar at the end for those with time. Please RSVP if you are brave enough or not (I\\'m out). Cheers George -- Regards Courtenay Farquharson ']"
      ]
     },
     "execution_count": 51,
     "metadata": {},
     "output_type": "execute_result"
    }
   ],
   "source": [
    "data.split('>')"
   ]
  },
  {
   "cell_type": "code",
   "execution_count": 56,
   "metadata": {
    "scrolled": true
   },
   "outputs": [
    {
     "name": "stdout",
     "output_type": "stream",
     "text": [
      "['Donnelley Paul', 'Paul.Donnelley@au.bosch.com']\n",
      "\n",
      "['George Lau', 'georgeandkim@gmail.com']\n",
      "\n",
      "['Adrian Wong', 'adwong_au@yahoo.com']\n",
      "\n",
      "['Alex Perdomo', 'alejoperdomo68@gmail.com']\n",
      "\n",
      "['Andrew Linfoot <', 'andrew.linfoot@gmail.com']\n",
      "\n",
      "['Andrew McPherson', 'andrewmcp@optusnet.com.au']\n",
      "\n"
     ]
    },
    {
     "ename": "KeyboardInterrupt",
     "evalue": "",
     "output_type": "error",
     "traceback": [
      "\u001b[1;31m---------------------------------------------------------------------------\u001b[0m",
      "\u001b[1;31mKeyboardInterrupt\u001b[0m                         Traceback (most recent call last)",
      "\u001b[1;32m<ipython-input-56-16456993a077>\u001b[0m in \u001b[0;36m<module>\u001b[1;34m()\u001b[0m\n\u001b[0;32m      3\u001b[0m     \u001b[0mname\u001b[0m\u001b[1;33m=\u001b[0m\u001b[1;32mNone\u001b[0m\u001b[1;33m\u001b[0m\u001b[0m\n\u001b[0;32m      4\u001b[0m     \u001b[1;32mif\u001b[0m \u001b[0mlen\u001b[0m\u001b[1;33m(\u001b[0m\u001b[0memail_addrs\u001b[0m\u001b[1;33m)\u001b[0m \u001b[1;33m==\u001b[0m \u001b[1;36m1\u001b[0m\u001b[1;33m:\u001b[0m\u001b[1;33m\u001b[0m\u001b[0m\n\u001b[1;32m----> 5\u001b[1;33m         \u001b[0mnames\u001b[0m \u001b[1;33m=\u001b[0m \u001b[0mextract_name\u001b[0m\u001b[1;33m(\u001b[0m\u001b[0mline\u001b[0m\u001b[1;33m)\u001b[0m\u001b[1;33m\u001b[0m\u001b[0m\n\u001b[0m\u001b[0;32m      6\u001b[0m         \u001b[1;32mif\u001b[0m \u001b[0mlen\u001b[0m\u001b[1;33m(\u001b[0m\u001b[0mnames\u001b[0m\u001b[1;33m)\u001b[0m\u001b[1;33m>\u001b[0m\u001b[1;36m1\u001b[0m\u001b[1;33m:\u001b[0m\u001b[1;33m\u001b[0m\u001b[0m\n\u001b[0;32m      7\u001b[0m             \u001b[0mname\u001b[0m\u001b[1;33m=\u001b[0m \u001b[0mfind_correct_name\u001b[0m\u001b[1;33m(\u001b[0m\u001b[0mnames\u001b[0m\u001b[1;33m,\u001b[0m \u001b[0memail_addrs\u001b[0m\u001b[1;33m[\u001b[0m\u001b[1;36m0\u001b[0m\u001b[1;33m]\u001b[0m\u001b[1;33m)\u001b[0m\u001b[1;33m\u001b[0m\u001b[0m\n",
      "\u001b[1;32m<ipython-input-55-20c2097c1d7e>\u001b[0m in \u001b[0;36mextract_name\u001b[1;34m(string)\u001b[0m\n\u001b[0;32m      3\u001b[0m     \u001b[0mnames\u001b[0m \u001b[1;33m=\u001b[0m \u001b[1;33m[\u001b[0m\u001b[1;33m]\u001b[0m\u001b[1;33m\u001b[0m\u001b[0m\n\u001b[0;32m      4\u001b[0m \u001b[1;31m#     nlp = spacy.load('en')\u001b[0m\u001b[1;33m\u001b[0m\u001b[1;33m\u001b[0m\u001b[0m\n\u001b[1;32m----> 5\u001b[1;33m     \u001b[0mnlp\u001b[0m \u001b[1;33m=\u001b[0m \u001b[0mspacy\u001b[0m\u001b[1;33m.\u001b[0m\u001b[0mload\u001b[0m\u001b[1;33m(\u001b[0m\u001b[1;34m'en_core_web_md'\u001b[0m\u001b[1;33m)\u001b[0m\u001b[1;33m\u001b[0m\u001b[0m\n\u001b[0m\u001b[0;32m      6\u001b[0m     \u001b[0mdoc\u001b[0m \u001b[1;33m=\u001b[0m \u001b[0mnlp\u001b[0m\u001b[1;33m(\u001b[0m\u001b[0mstring\u001b[0m\u001b[1;33m)\u001b[0m\u001b[1;33m\u001b[0m\u001b[0m\n\u001b[0;32m      7\u001b[0m     \u001b[0ment_list\u001b[0m \u001b[1;33m=\u001b[0m \u001b[1;33m[\u001b[0m\u001b[1;34m'PERSON'\u001b[0m\u001b[1;33m]\u001b[0m\u001b[1;33m\u001b[0m\u001b[0m\n",
      "\u001b[1;32m~\\Anaconda3\\lib\\site-packages\\spacy\\__init__.py\u001b[0m in \u001b[0;36mload\u001b[1;34m(name, **overrides)\u001b[0m\n\u001b[0;32m     25\u001b[0m     \u001b[1;32mif\u001b[0m \u001b[0mdepr_path\u001b[0m \u001b[1;32mnot\u001b[0m \u001b[1;32min\u001b[0m \u001b[1;33m(\u001b[0m\u001b[1;32mTrue\u001b[0m\u001b[1;33m,\u001b[0m \u001b[1;32mFalse\u001b[0m\u001b[1;33m,\u001b[0m \u001b[1;32mNone\u001b[0m\u001b[1;33m)\u001b[0m\u001b[1;33m:\u001b[0m\u001b[1;33m\u001b[0m\u001b[0m\n\u001b[0;32m     26\u001b[0m         \u001b[0mdeprecation_warning\u001b[0m\u001b[1;33m(\u001b[0m\u001b[0mWarnings\u001b[0m\u001b[1;33m.\u001b[0m\u001b[0mW001\u001b[0m\u001b[1;33m.\u001b[0m\u001b[0mformat\u001b[0m\u001b[1;33m(\u001b[0m\u001b[0mpath\u001b[0m\u001b[1;33m=\u001b[0m\u001b[0mdepr_path\u001b[0m\u001b[1;33m)\u001b[0m\u001b[1;33m)\u001b[0m\u001b[1;33m\u001b[0m\u001b[0m\n\u001b[1;32m---> 27\u001b[1;33m     \u001b[1;32mreturn\u001b[0m \u001b[0mutil\u001b[0m\u001b[1;33m.\u001b[0m\u001b[0mload_model\u001b[0m\u001b[1;33m(\u001b[0m\u001b[0mname\u001b[0m\u001b[1;33m,\u001b[0m \u001b[1;33m**\u001b[0m\u001b[0moverrides\u001b[0m\u001b[1;33m)\u001b[0m\u001b[1;33m\u001b[0m\u001b[0m\n\u001b[0m\u001b[0;32m     28\u001b[0m \u001b[1;33m\u001b[0m\u001b[0m\n\u001b[0;32m     29\u001b[0m \u001b[1;33m\u001b[0m\u001b[0m\n",
      "\u001b[1;32m~\\Anaconda3\\lib\\site-packages\\spacy\\util.py\u001b[0m in \u001b[0;36mload_model\u001b[1;34m(name, **overrides)\u001b[0m\n\u001b[0;32m    129\u001b[0m             \u001b[1;32mreturn\u001b[0m \u001b[0mload_model_from_link\u001b[0m\u001b[1;33m(\u001b[0m\u001b[0mname\u001b[0m\u001b[1;33m,\u001b[0m \u001b[1;33m**\u001b[0m\u001b[0moverrides\u001b[0m\u001b[1;33m)\u001b[0m\u001b[1;33m\u001b[0m\u001b[0m\n\u001b[0;32m    130\u001b[0m         \u001b[1;32mif\u001b[0m \u001b[0mis_package\u001b[0m\u001b[1;33m(\u001b[0m\u001b[0mname\u001b[0m\u001b[1;33m)\u001b[0m\u001b[1;33m:\u001b[0m  \u001b[1;31m# installed as package\u001b[0m\u001b[1;33m\u001b[0m\u001b[0m\n\u001b[1;32m--> 131\u001b[1;33m             \u001b[1;32mreturn\u001b[0m \u001b[0mload_model_from_package\u001b[0m\u001b[1;33m(\u001b[0m\u001b[0mname\u001b[0m\u001b[1;33m,\u001b[0m \u001b[1;33m**\u001b[0m\u001b[0moverrides\u001b[0m\u001b[1;33m)\u001b[0m\u001b[1;33m\u001b[0m\u001b[0m\n\u001b[0m\u001b[0;32m    132\u001b[0m         \u001b[1;32mif\u001b[0m \u001b[0mPath\u001b[0m\u001b[1;33m(\u001b[0m\u001b[0mname\u001b[0m\u001b[1;33m)\u001b[0m\u001b[1;33m.\u001b[0m\u001b[0mexists\u001b[0m\u001b[1;33m(\u001b[0m\u001b[1;33m)\u001b[0m\u001b[1;33m:\u001b[0m  \u001b[1;31m# path to model data directory\u001b[0m\u001b[1;33m\u001b[0m\u001b[0m\n\u001b[0;32m    133\u001b[0m             \u001b[1;32mreturn\u001b[0m \u001b[0mload_model_from_path\u001b[0m\u001b[1;33m(\u001b[0m\u001b[0mPath\u001b[0m\u001b[1;33m(\u001b[0m\u001b[0mname\u001b[0m\u001b[1;33m)\u001b[0m\u001b[1;33m,\u001b[0m \u001b[1;33m**\u001b[0m\u001b[0moverrides\u001b[0m\u001b[1;33m)\u001b[0m\u001b[1;33m\u001b[0m\u001b[0m\n",
      "\u001b[1;32m~\\Anaconda3\\lib\\site-packages\\spacy\\util.py\u001b[0m in \u001b[0;36mload_model_from_package\u001b[1;34m(name, **overrides)\u001b[0m\n\u001b[0;32m    150\u001b[0m     \u001b[1;34m\"\"\"Load a model from an installed package.\"\"\"\u001b[0m\u001b[1;33m\u001b[0m\u001b[0m\n\u001b[0;32m    151\u001b[0m     \u001b[0mcls\u001b[0m \u001b[1;33m=\u001b[0m \u001b[0mimportlib\u001b[0m\u001b[1;33m.\u001b[0m\u001b[0mimport_module\u001b[0m\u001b[1;33m(\u001b[0m\u001b[0mname\u001b[0m\u001b[1;33m)\u001b[0m\u001b[1;33m\u001b[0m\u001b[0m\n\u001b[1;32m--> 152\u001b[1;33m     \u001b[1;32mreturn\u001b[0m \u001b[0mcls\u001b[0m\u001b[1;33m.\u001b[0m\u001b[0mload\u001b[0m\u001b[1;33m(\u001b[0m\u001b[1;33m**\u001b[0m\u001b[0moverrides\u001b[0m\u001b[1;33m)\u001b[0m\u001b[1;33m\u001b[0m\u001b[0m\n\u001b[0m\u001b[0;32m    153\u001b[0m \u001b[1;33m\u001b[0m\u001b[0m\n\u001b[0;32m    154\u001b[0m \u001b[1;33m\u001b[0m\u001b[0m\n",
      "\u001b[1;32m~\\Anaconda3\\lib\\site-packages\\en_core_web_md\\__init__.py\u001b[0m in \u001b[0;36mload\u001b[1;34m(**overrides)\u001b[0m\n\u001b[0;32m     10\u001b[0m \u001b[1;33m\u001b[0m\u001b[0m\n\u001b[0;32m     11\u001b[0m \u001b[1;32mdef\u001b[0m \u001b[0mload\u001b[0m\u001b[1;33m(\u001b[0m\u001b[1;33m**\u001b[0m\u001b[0moverrides\u001b[0m\u001b[1;33m)\u001b[0m\u001b[1;33m:\u001b[0m\u001b[1;33m\u001b[0m\u001b[0m\n\u001b[1;32m---> 12\u001b[1;33m     \u001b[1;32mreturn\u001b[0m \u001b[0mload_model_from_init_py\u001b[0m\u001b[1;33m(\u001b[0m\u001b[0m__file__\u001b[0m\u001b[1;33m,\u001b[0m \u001b[1;33m**\u001b[0m\u001b[0moverrides\u001b[0m\u001b[1;33m)\u001b[0m\u001b[1;33m\u001b[0m\u001b[0m\n\u001b[0m",
      "\u001b[1;32m~\\Anaconda3\\lib\\site-packages\\spacy\\util.py\u001b[0m in \u001b[0;36mload_model_from_init_py\u001b[1;34m(init_file, **overrides)\u001b[0m\n\u001b[0;32m    188\u001b[0m     \u001b[1;32mif\u001b[0m \u001b[1;32mnot\u001b[0m \u001b[0mmodel_path\u001b[0m\u001b[1;33m.\u001b[0m\u001b[0mexists\u001b[0m\u001b[1;33m(\u001b[0m\u001b[1;33m)\u001b[0m\u001b[1;33m:\u001b[0m\u001b[1;33m\u001b[0m\u001b[0m\n\u001b[0;32m    189\u001b[0m         \u001b[1;32mraise\u001b[0m \u001b[0mIOError\u001b[0m\u001b[1;33m(\u001b[0m\u001b[0mErrors\u001b[0m\u001b[1;33m.\u001b[0m\u001b[0mE052\u001b[0m\u001b[1;33m.\u001b[0m\u001b[0mformat\u001b[0m\u001b[1;33m(\u001b[0m\u001b[0mpath\u001b[0m\u001b[1;33m=\u001b[0m\u001b[0mpath2str\u001b[0m\u001b[1;33m(\u001b[0m\u001b[0mdata_path\u001b[0m\u001b[1;33m)\u001b[0m\u001b[1;33m)\u001b[0m\u001b[1;33m)\u001b[0m\u001b[1;33m\u001b[0m\u001b[0m\n\u001b[1;32m--> 190\u001b[1;33m     \u001b[1;32mreturn\u001b[0m \u001b[0mload_model_from_path\u001b[0m\u001b[1;33m(\u001b[0m\u001b[0mdata_path\u001b[0m\u001b[1;33m,\u001b[0m \u001b[0mmeta\u001b[0m\u001b[1;33m,\u001b[0m \u001b[1;33m**\u001b[0m\u001b[0moverrides\u001b[0m\u001b[1;33m)\u001b[0m\u001b[1;33m\u001b[0m\u001b[0m\n\u001b[0m\u001b[0;32m    191\u001b[0m \u001b[1;33m\u001b[0m\u001b[0m\n\u001b[0;32m    192\u001b[0m \u001b[1;33m\u001b[0m\u001b[0m\n",
      "\u001b[1;32m~\\Anaconda3\\lib\\site-packages\\spacy\\util.py\u001b[0m in \u001b[0;36mload_model_from_path\u001b[1;34m(model_path, meta, **overrides)\u001b[0m\n\u001b[0;32m    171\u001b[0m             \u001b[0mcomponent\u001b[0m \u001b[1;33m=\u001b[0m \u001b[0mnlp\u001b[0m\u001b[1;33m.\u001b[0m\u001b[0mcreate_pipe\u001b[0m\u001b[1;33m(\u001b[0m\u001b[0mname\u001b[0m\u001b[1;33m,\u001b[0m \u001b[0mconfig\u001b[0m\u001b[1;33m=\u001b[0m\u001b[0mconfig\u001b[0m\u001b[1;33m)\u001b[0m\u001b[1;33m\u001b[0m\u001b[0m\n\u001b[0;32m    172\u001b[0m             \u001b[0mnlp\u001b[0m\u001b[1;33m.\u001b[0m\u001b[0madd_pipe\u001b[0m\u001b[1;33m(\u001b[0m\u001b[0mcomponent\u001b[0m\u001b[1;33m,\u001b[0m \u001b[0mname\u001b[0m\u001b[1;33m=\u001b[0m\u001b[0mname\u001b[0m\u001b[1;33m)\u001b[0m\u001b[1;33m\u001b[0m\u001b[0m\n\u001b[1;32m--> 173\u001b[1;33m     \u001b[1;32mreturn\u001b[0m \u001b[0mnlp\u001b[0m\u001b[1;33m.\u001b[0m\u001b[0mfrom_disk\u001b[0m\u001b[1;33m(\u001b[0m\u001b[0mmodel_path\u001b[0m\u001b[1;33m)\u001b[0m\u001b[1;33m\u001b[0m\u001b[0m\n\u001b[0m\u001b[0;32m    174\u001b[0m \u001b[1;33m\u001b[0m\u001b[0m\n\u001b[0;32m    175\u001b[0m \u001b[1;33m\u001b[0m\u001b[0m\n",
      "\u001b[1;32m~\\Anaconda3\\lib\\site-packages\\spacy\\language.py\u001b[0m in \u001b[0;36mfrom_disk\u001b[1;34m(self, path, exclude, disable)\u001b[0m\n\u001b[0;32m    789\u001b[0m             \u001b[1;31m# Convert to list here in case exclude is (default) tuple\u001b[0m\u001b[1;33m\u001b[0m\u001b[1;33m\u001b[0m\u001b[0m\n\u001b[0;32m    790\u001b[0m             \u001b[0mexclude\u001b[0m \u001b[1;33m=\u001b[0m \u001b[0mlist\u001b[0m\u001b[1;33m(\u001b[0m\u001b[0mexclude\u001b[0m\u001b[1;33m)\u001b[0m \u001b[1;33m+\u001b[0m \u001b[1;33m[\u001b[0m\u001b[1;34m\"vocab\"\u001b[0m\u001b[1;33m]\u001b[0m\u001b[1;33m\u001b[0m\u001b[0m\n\u001b[1;32m--> 791\u001b[1;33m         \u001b[0mutil\u001b[0m\u001b[1;33m.\u001b[0m\u001b[0mfrom_disk\u001b[0m\u001b[1;33m(\u001b[0m\u001b[0mpath\u001b[0m\u001b[1;33m,\u001b[0m \u001b[0mdeserializers\u001b[0m\u001b[1;33m,\u001b[0m \u001b[0mexclude\u001b[0m\u001b[1;33m)\u001b[0m\u001b[1;33m\u001b[0m\u001b[0m\n\u001b[0m\u001b[0;32m    792\u001b[0m         \u001b[0mself\u001b[0m\u001b[1;33m.\u001b[0m\u001b[0m_path\u001b[0m \u001b[1;33m=\u001b[0m \u001b[0mpath\u001b[0m\u001b[1;33m\u001b[0m\u001b[0m\n\u001b[0;32m    793\u001b[0m         \u001b[1;32mreturn\u001b[0m \u001b[0mself\u001b[0m\u001b[1;33m\u001b[0m\u001b[0m\n",
      "\u001b[1;32m~\\Anaconda3\\lib\\site-packages\\spacy\\util.py\u001b[0m in \u001b[0;36mfrom_disk\u001b[1;34m(path, readers, exclude)\u001b[0m\n\u001b[0;32m    628\u001b[0m         \u001b[1;31m# Split to support file names like meta.json\u001b[0m\u001b[1;33m\u001b[0m\u001b[1;33m\u001b[0m\u001b[0m\n\u001b[0;32m    629\u001b[0m         \u001b[1;32mif\u001b[0m \u001b[0mkey\u001b[0m\u001b[1;33m.\u001b[0m\u001b[0msplit\u001b[0m\u001b[1;33m(\u001b[0m\u001b[1;34m\".\"\u001b[0m\u001b[1;33m)\u001b[0m\u001b[1;33m[\u001b[0m\u001b[1;36m0\u001b[0m\u001b[1;33m]\u001b[0m \u001b[1;32mnot\u001b[0m \u001b[1;32min\u001b[0m \u001b[0mexclude\u001b[0m\u001b[1;33m:\u001b[0m\u001b[1;33m\u001b[0m\u001b[0m\n\u001b[1;32m--> 630\u001b[1;33m             \u001b[0mreader\u001b[0m\u001b[1;33m(\u001b[0m\u001b[0mpath\u001b[0m \u001b[1;33m/\u001b[0m \u001b[0mkey\u001b[0m\u001b[1;33m)\u001b[0m\u001b[1;33m\u001b[0m\u001b[0m\n\u001b[0m\u001b[0;32m    631\u001b[0m     \u001b[1;32mreturn\u001b[0m \u001b[0mpath\u001b[0m\u001b[1;33m\u001b[0m\u001b[0m\n\u001b[0;32m    632\u001b[0m \u001b[1;33m\u001b[0m\u001b[0m\n",
      "\u001b[1;32m~\\Anaconda3\\lib\\site-packages\\spacy\\language.py\u001b[0m in \u001b[0;36m<lambda>\u001b[1;34m(p)\u001b[0m\n\u001b[0;32m    778\u001b[0m         \u001b[0mdeserializers\u001b[0m \u001b[1;33m=\u001b[0m \u001b[0mOrderedDict\u001b[0m\u001b[1;33m(\u001b[0m\u001b[1;33m)\u001b[0m\u001b[1;33m\u001b[0m\u001b[0m\n\u001b[0;32m    779\u001b[0m         \u001b[0mdeserializers\u001b[0m\u001b[1;33m[\u001b[0m\u001b[1;34m\"meta.json\"\u001b[0m\u001b[1;33m]\u001b[0m \u001b[1;33m=\u001b[0m \u001b[1;32mlambda\u001b[0m \u001b[0mp\u001b[0m\u001b[1;33m:\u001b[0m \u001b[0mself\u001b[0m\u001b[1;33m.\u001b[0m\u001b[0mmeta\u001b[0m\u001b[1;33m.\u001b[0m\u001b[0mupdate\u001b[0m\u001b[1;33m(\u001b[0m\u001b[0msrsly\u001b[0m\u001b[1;33m.\u001b[0m\u001b[0mread_json\u001b[0m\u001b[1;33m(\u001b[0m\u001b[0mp\u001b[0m\u001b[1;33m)\u001b[0m\u001b[1;33m)\u001b[0m\u001b[1;33m\u001b[0m\u001b[0m\n\u001b[1;32m--> 780\u001b[1;33m         \u001b[0mdeserializers\u001b[0m\u001b[1;33m[\u001b[0m\u001b[1;34m\"vocab\"\u001b[0m\u001b[1;33m]\u001b[0m \u001b[1;33m=\u001b[0m \u001b[1;32mlambda\u001b[0m \u001b[0mp\u001b[0m\u001b[1;33m:\u001b[0m \u001b[0mself\u001b[0m\u001b[1;33m.\u001b[0m\u001b[0mvocab\u001b[0m\u001b[1;33m.\u001b[0m\u001b[0mfrom_disk\u001b[0m\u001b[1;33m(\u001b[0m\u001b[0mp\u001b[0m\u001b[1;33m)\u001b[0m \u001b[1;32mand\u001b[0m \u001b[0m_fix_pretrained_vectors_name\u001b[0m\u001b[1;33m(\u001b[0m\u001b[0mself\u001b[0m\u001b[1;33m)\u001b[0m\u001b[1;33m\u001b[0m\u001b[0m\n\u001b[0m\u001b[0;32m    781\u001b[0m         \u001b[0mdeserializers\u001b[0m\u001b[1;33m[\u001b[0m\u001b[1;34m\"tokenizer\"\u001b[0m\u001b[1;33m]\u001b[0m \u001b[1;33m=\u001b[0m \u001b[1;32mlambda\u001b[0m \u001b[0mp\u001b[0m\u001b[1;33m:\u001b[0m \u001b[0mself\u001b[0m\u001b[1;33m.\u001b[0m\u001b[0mtokenizer\u001b[0m\u001b[1;33m.\u001b[0m\u001b[0mfrom_disk\u001b[0m\u001b[1;33m(\u001b[0m\u001b[0mp\u001b[0m\u001b[1;33m,\u001b[0m \u001b[0mexclude\u001b[0m\u001b[1;33m=\u001b[0m\u001b[1;33m[\u001b[0m\u001b[1;34m\"vocab\"\u001b[0m\u001b[1;33m]\u001b[0m\u001b[1;33m)\u001b[0m\u001b[1;33m\u001b[0m\u001b[0m\n\u001b[0;32m    782\u001b[0m         \u001b[1;32mfor\u001b[0m \u001b[0mname\u001b[0m\u001b[1;33m,\u001b[0m \u001b[0mproc\u001b[0m \u001b[1;32min\u001b[0m \u001b[0mself\u001b[0m\u001b[1;33m.\u001b[0m\u001b[0mpipeline\u001b[0m\u001b[1;33m:\u001b[0m\u001b[1;33m\u001b[0m\u001b[0m\n",
      "\u001b[1;32m~\\Anaconda3\\lib\\site-packages\\spacy\\language.py\u001b[0m in \u001b[0;36m_fix_pretrained_vectors_name\u001b[1;34m(nlp)\u001b[0m\n\u001b[0;32m    857\u001b[0m         \u001b[1;32mraise\u001b[0m \u001b[0mValueError\u001b[0m\u001b[1;33m(\u001b[0m\u001b[0mErrors\u001b[0m\u001b[1;33m.\u001b[0m\u001b[0mE092\u001b[0m\u001b[1;33m)\u001b[0m\u001b[1;33m\u001b[0m\u001b[0m\n\u001b[0;32m    858\u001b[0m     \u001b[1;32mif\u001b[0m \u001b[0mnlp\u001b[0m\u001b[1;33m.\u001b[0m\u001b[0mvocab\u001b[0m\u001b[1;33m.\u001b[0m\u001b[0mvectors\u001b[0m\u001b[1;33m.\u001b[0m\u001b[0msize\u001b[0m \u001b[1;33m!=\u001b[0m \u001b[1;36m0\u001b[0m\u001b[1;33m:\u001b[0m\u001b[1;33m\u001b[0m\u001b[0m\n\u001b[1;32m--> 859\u001b[1;33m         \u001b[0mlink_vectors_to_models\u001b[0m\u001b[1;33m(\u001b[0m\u001b[0mnlp\u001b[0m\u001b[1;33m.\u001b[0m\u001b[0mvocab\u001b[0m\u001b[1;33m)\u001b[0m\u001b[1;33m\u001b[0m\u001b[0m\n\u001b[0m\u001b[0;32m    860\u001b[0m     \u001b[1;32mfor\u001b[0m \u001b[0mname\u001b[0m\u001b[1;33m,\u001b[0m \u001b[0mproc\u001b[0m \u001b[1;32min\u001b[0m \u001b[0mnlp\u001b[0m\u001b[1;33m.\u001b[0m\u001b[0mpipeline\u001b[0m\u001b[1;33m:\u001b[0m\u001b[1;33m\u001b[0m\u001b[0m\n\u001b[0;32m    861\u001b[0m         \u001b[1;32mif\u001b[0m \u001b[1;32mnot\u001b[0m \u001b[0mhasattr\u001b[0m\u001b[1;33m(\u001b[0m\u001b[0mproc\u001b[0m\u001b[1;33m,\u001b[0m \u001b[1;34m\"cfg\"\u001b[0m\u001b[1;33m)\u001b[0m\u001b[1;33m:\u001b[0m\u001b[1;33m\u001b[0m\u001b[0m\n",
      "\u001b[1;32m~\\Anaconda3\\lib\\site-packages\\spacy\\_ml.py\u001b[0m in \u001b[0;36mlink_vectors_to_models\u001b[1;34m(vocab)\u001b[0m\n\u001b[0;32m    293\u001b[0m     \u001b[0mops\u001b[0m \u001b[1;33m=\u001b[0m \u001b[0mModel\u001b[0m\u001b[1;33m.\u001b[0m\u001b[0mops\u001b[0m\u001b[1;33m\u001b[0m\u001b[0m\n\u001b[0;32m    294\u001b[0m     \u001b[1;32mfor\u001b[0m \u001b[0mword\u001b[0m \u001b[1;32min\u001b[0m \u001b[0mvocab\u001b[0m\u001b[1;33m:\u001b[0m\u001b[1;33m\u001b[0m\u001b[0m\n\u001b[1;32m--> 295\u001b[1;33m         \u001b[1;32mif\u001b[0m \u001b[0mword\u001b[0m\u001b[1;33m.\u001b[0m\u001b[0morth\u001b[0m \u001b[1;32min\u001b[0m \u001b[0mvectors\u001b[0m\u001b[1;33m.\u001b[0m\u001b[0mkey2row\u001b[0m\u001b[1;33m:\u001b[0m\u001b[1;33m\u001b[0m\u001b[0m\n\u001b[0m\u001b[0;32m    296\u001b[0m             \u001b[0mword\u001b[0m\u001b[1;33m.\u001b[0m\u001b[0mrank\u001b[0m \u001b[1;33m=\u001b[0m \u001b[0mvectors\u001b[0m\u001b[1;33m.\u001b[0m\u001b[0mkey2row\u001b[0m\u001b[1;33m[\u001b[0m\u001b[0mword\u001b[0m\u001b[1;33m.\u001b[0m\u001b[0morth\u001b[0m\u001b[1;33m]\u001b[0m\u001b[1;33m\u001b[0m\u001b[0m\n\u001b[0;32m    297\u001b[0m         \u001b[1;32melse\u001b[0m\u001b[1;33m:\u001b[0m\u001b[1;33m\u001b[0m\u001b[0m\n",
      "\u001b[1;31mKeyboardInterrupt\u001b[0m: "
     ]
    }
   ],
   "source": [
    "for line in data.split('>'):\n",
    "    email_addrs = extract_email_addresses(line)\n",
    "    name=None\n",
    "    if len(email_addrs) == 1:\n",
    "        names = extract_name(line)\n",
    "        if len(names)>1:\n",
    "            name= find_correct_name(names, email_addrs[0])\n",
    "        elif len(names) == 1:\n",
    "            name = names[0]\n",
    "        else:\n",
    "            pass\n",
    "    else:\n",
    "        pass\n",
    "    if name is not None:\n",
    "        print([name, email_addrs[0]])\n",
    "        print()"
   ]
  },
  {
   "cell_type": "markdown",
   "metadata": {},
   "source": [
    "Testing "
   ]
  },
  {
   "cell_type": "code",
   "execution_count": 37,
   "metadata": {},
   "outputs": [
    {
     "data": {
      "text/plain": [
       "['Nasmin Kaisar']"
      ]
     },
     "execution_count": 37,
     "metadata": {},
     "output_type": "execute_result"
    }
   ],
   "source": [
    "data1 = '---------- Forwarded message ---------From: Nasmin Kaisar (MINDTREE LIMITED) <v-naskai@microsoft.com>'\n",
    "email_addrs = extract_email_addresses(data1)\n",
    "email_addrs\n",
    "extract_name(data1)"
   ]
  },
  {
   "cell_type": "code",
   "execution_count": 54,
   "metadata": {},
   "outputs": [
    {
     "name": "stdout",
     "output_type": "stream",
     "text": [
      "{'Bennett Andrew(Property)': 0, 'A&S': 0}\n",
      "[('Bennett Andrew(Property)', 0), ('A&S', 0)]\n"
     ]
    }
   ],
   "source": [
    "names = ['Bennett Andrew(Property)', 'A&S']\n",
    "email_addr='andsal@optusnet.com.au'\n",
    "name_counter={name.title():0 for name in names}\n",
    "print(name_counter)\n",
    "for name in name_counter:\n",
    "    for item in name.split(' '):\n",
    "        name_counter[name] += len(re.findall(item.lower(), email_addr))\n",
    "\n",
    "name_counter = sorted(name_counter.items(), key=operator.itemgetter(1), reverse= True)\n",
    "print(name_counter)\n",
    "if name_counter[0][1]>0:\n",
    "        print(name_counter[0][0])\n",
    "#     return max(name_counter.items(), key=operator.itemgetter(1))[0]"
   ]
  },
  {
   "cell_type": "code",
   "execution_count": null,
   "metadata": {},
   "outputs": [],
   "source": [
    "re.findall('Bennett'.lower(), 'Andrew.Bennett2@anz.com'.lower())"
   ]
  },
  {
   "cell_type": "code",
   "execution_count": null,
   "metadata": {},
   "outputs": [],
   "source": []
  }
 ],
 "metadata": {
  "kernelspec": {
   "display_name": "Python 3",
   "language": "python",
   "name": "python3"
  },
  "language_info": {
   "codemirror_mode": {
    "name": "ipython",
    "version": 3
   },
   "file_extension": ".py",
   "mimetype": "text/x-python",
   "name": "python",
   "nbconvert_exporter": "python",
   "pygments_lexer": "ipython3",
   "version": "3.6.4"
  }
 },
 "nbformat": 4,
 "nbformat_minor": 2
}
