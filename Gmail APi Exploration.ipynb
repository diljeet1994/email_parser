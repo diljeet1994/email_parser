{
 "cells": [
  {
   "cell_type": "code",
   "execution_count": null,
   "metadata": {},
   "outputs": [],
   "source": [
    "! python -m spacy download en_core_web_lg"
   ]
  },
  {
   "cell_type": "code",
   "execution_count": 4,
   "metadata": {},
   "outputs": [],
   "source": [
    "import base64"
   ]
  },
  {
   "cell_type": "code",
   "execution_count": 5,
   "metadata": {},
   "outputs": [],
   "source": [
    "import pickle\n",
    "import os.path\n",
    "from googleapiclient.discovery import build\n",
    "from google_auth_oauthlib.flow import InstalledAppFlow\n",
    "from google.auth.transport.requests import Request"
   ]
  },
  {
   "cell_type": "code",
   "execution_count": 6,
   "metadata": {},
   "outputs": [],
   "source": [
    "import re\n",
    "import spacy\n",
    "import pandas as pd\n",
    "import numpy as np\n",
    "from bs4 import BeautifulSoup\n",
    "import json"
   ]
  },
  {
   "cell_type": "code",
   "execution_count": 7,
   "metadata": {},
   "outputs": [],
   "source": [
    "#Function to extract names from the string using spacy\n",
    "def extract_name(string):\n",
    "    names = []\n",
    "#     nlp = spacy.load('en')\n",
    "    nlp = spacy.load('en_core_web_lg')\n",
    "    doc = nlp(string)\n",
    "    ent_list = ['PERSON']\n",
    "    for ent in doc.ents:\n",
    "        if(ent.label_ in ent_list):\n",
    "            #print(ent.text, ent.label_)\n",
    "            names.append(ent.text)\n",
    "    return np.unique(names).tolist()"
   ]
  },
  {
   "cell_type": "code",
   "execution_count": 8,
   "metadata": {},
   "outputs": [],
   "source": [
    "def extract_org(string):\n",
    "    org = []\n",
    "    nlp = spacy.load('en_core_web_lg')\n",
    "    doc = nlp(string)\n",
    "    ent_list = ['GPE','NORP','ORG','LOC','PRODUCT']\n",
    "    for ent in doc.ents:\n",
    "        if(ent.label_ in ent_list):\n",
    "            #print(ent.text, ent.label_)\n",
    "            org.append(ent.text)\n",
    "    return np.unique(org).tolist()"
   ]
  },
  {
   "cell_type": "code",
   "execution_count": 9,
   "metadata": {},
   "outputs": [],
   "source": [
    "#Function to extract Phone Numbers from string using regular expressions\n",
    "def extract_phone_numbers(string):\n",
    "    r = re.compile(r'(\\d{3}[-\\.\\s]??\\d{3}[-\\.\\s]??\\d{4}|\\(\\d{3}\\)\\s*\\d{3}[-\\.\\s]??\\d{4}|\\d{3}[-\\.\\s]??\\d{4})')\n",
    "    phone_numbers = np.unique(r.findall(string))\n",
    "    return [re.sub(r'\\D', '', number) for number in phone_numbers]"
   ]
  },
  {
   "cell_type": "code",
   "execution_count": 10,
   "metadata": {},
   "outputs": [],
   "source": [
    "#Function to extract Email address from a string using regular expressions\n",
    "def extract_email_addresses(string):\n",
    "    r = re.compile(r'[\\w\\.-]+@[\\w\\.-]+')\n",
    "    return np.unique(r.findall(string)).tolist()\n",
    "    #return r.findall(string)"
   ]
  },
  {
   "cell_type": "code",
   "execution_count": 11,
   "metadata": {},
   "outputs": [],
   "source": [
    "def get_nouns(text):\n",
    "    nlp = spacy.load('en_core_web_lg')\n",
    "    doc = nlp(text)\n",
    "    nouns_list=[]\n",
    "    for token in doc:\n",
    "        if token.pos_ == 'PROPN':\n",
    "            nouns_list.append(token.text)\n",
    "#     print(re.sub(' +', ' ', ' '.join(nouns_list)))\n",
    "    return re.sub(' +', ' ', ' '.join(nouns_list))"
   ]
  },
  {
   "cell_type": "code",
   "execution_count": 12,
   "metadata": {},
   "outputs": [],
   "source": [
    "SCOPES = ['https://www.googleapis.com/auth/gmail.readonly']\n"
   ]
  },
  {
   "cell_type": "code",
   "execution_count": 13,
   "metadata": {},
   "outputs": [],
   "source": [
    "def main():\n",
    "    \"\"\"Shows basic usage of the Gmail API.\n",
    "    Lists the user's Gmail labels.\n",
    "    \"\"\"\n",
    "    creds = None\n",
    "    # The file token.pickle stores the user's access and refresh tokens, and is\n",
    "    # created automatically when the authorization flow completes for the first\n",
    "    # time.\n",
    "    if os.path.exists('token.pickle'):\n",
    "        with open('token.pickle', 'rb') as token:\n",
    "            creds = pickle.load(token)\n",
    "    # If there are no (valid) credentials available, let the user log in.\n",
    "    if not creds or not creds.valid:\n",
    "        if creds and creds.expired and creds.refresh_token:\n",
    "            creds.refresh(Request())\n",
    "        else:\n",
    "            flow = InstalledAppFlow.from_client_secrets_file(\n",
    "                'credentials.json', SCOPES)\n",
    "            creds = flow.run_local_server()\n",
    "        # Save the credentials for the next run\n",
    "        with open('token.pickle', 'wb') as token:\n",
    "            pickle.dump(creds, token)\n",
    "\n",
    "    service = build('gmail', 'v1', credentials=creds)\n",
    "\n",
    "    # Call the Gmail API\n",
    "    results = service.users().labels().list(userId='me').execute()\n",
    "    labels = results.get('labels', [])\n",
    "\n",
    "    if not labels:\n",
    "        print('No labels found.')\n",
    "    else:\n",
    "        print('Labels:')\n",
    "        for label in labels:\n",
    "            print(label['name'])"
   ]
  },
  {
   "cell_type": "code",
   "execution_count": 14,
   "metadata": {},
   "outputs": [
    {
     "name": "stdout",
     "output_type": "stream",
     "text": [
      "Labels:\n",
      "Junk\n",
      "CATEGORY_FORUMS\n",
      "CATEGORY_PERSONAL\n",
      "CATEGORY_SOCIAL\n",
      "IMPORTANT\n",
      "CATEGORY_UPDATES\n",
      "CHAT\n",
      "SENT\n",
      "INBOX\n",
      "TRASH\n",
      "CATEGORY_PROMOTIONS\n",
      "DRAFT\n",
      "SPAM\n",
      "STARRED\n",
      "UNREAD\n"
     ]
    }
   ],
   "source": [
    "main()"
   ]
  },
  {
   "cell_type": "code",
   "execution_count": 15,
   "metadata": {},
   "outputs": [],
   "source": [
    "with open('token.pickle', 'rb') as token:\n",
    "            creds = pickle.load(token)"
   ]
  },
  {
   "cell_type": "code",
   "execution_count": 16,
   "metadata": {},
   "outputs": [],
   "source": [
    "if not creds or not creds.valid:\n",
    "        if creds and creds.expired and creds.refresh_token:\n",
    "            creds.refresh(Request())\n",
    "        else:\n",
    "            flow = InstalledAppFlow.from_client_secrets_file(\n",
    "                'credentials.json', SCOPES)\n",
    "            creds = flow.run_local_server()\n",
    "        # Save the credentials for the next run\n",
    "        with open('token.pickle', 'wb') as token:\n",
    "            pickle.dump(creds, token)"
   ]
  },
  {
   "cell_type": "code",
   "execution_count": 17,
   "metadata": {},
   "outputs": [],
   "source": [
    "service = build('gmail', 'v1', credentials=creds)"
   ]
  },
  {
   "cell_type": "code",
   "execution_count": 18,
   "metadata": {
    "scrolled": true
   },
   "outputs": [
    {
     "data": {
      "text/plain": [
       "{'messages': [{'id': '16ae05eee87c8bc8', 'threadId': '16ae05eee87c8bc8'},\n",
       "  {'id': '16ae047cafa9a0a7', 'threadId': '16ae047cafa9a0a7'},\n",
       "  {'id': '16ae022b62b5d75e', 'threadId': '16ace29e20077442'},\n",
       "  {'id': '16ae000d37896402', 'threadId': '16ae000d37896402'},\n",
       "  {'id': '16adffbeef111316', 'threadId': '16adffbeef111316'},\n",
       "  {'id': '16adff4270cebdf9', 'threadId': '16adff4270cebdf9'},\n",
       "  {'id': '16adfe6f03b35d39', 'threadId': '16adfe6f03b35d39'},\n",
       "  {'id': '16adfdb302fcb62c', 'threadId': '16adfdb302fcb62c'},\n",
       "  {'id': '16adfdaafbca0227', 'threadId': '16adfdaafbca0227'},\n",
       "  {'id': '16adfc268fdf17df', 'threadId': '16adfc268fdf17df'},\n",
       "  {'id': '16adfb0cfc37515b', 'threadId': '16adfb0cfc37515b'},\n",
       "  {'id': '16adf8d222a67c60', 'threadId': '16adf8d222a67c60'},\n",
       "  {'id': '16adf86ea2cd643c', 'threadId': '16adf86ea2cd643c'},\n",
       "  {'id': '16adf80bbd20aa4f', 'threadId': '16adf80bbd20aa4f'},\n",
       "  {'id': '16adf721533eed52', 'threadId': '16adf721533eed52'},\n",
       "  {'id': '16adf4fa70608d62', 'threadId': '16adf4fa70608d62'},\n",
       "  {'id': '16adf4c541b0adc3', 'threadId': '16adf4c541b0adc3'},\n",
       "  {'id': '16adf49bc4787c45', 'threadId': '16adf1143c060366'},\n",
       "  {'id': '16adf3cce9088a77', 'threadId': '16adf3cce9088a77'},\n",
       "  {'id': '16adf1143c060366', 'threadId': '16adf1143c060366'},\n",
       "  {'id': '16adedd8c0d74b5d', 'threadId': '16adedd8c0d74b5d'},\n",
       "  {'id': '16adec8ce3f0a08f', 'threadId': '16adec8ce3f0a08f'},\n",
       "  {'id': '16adea335ef05b9e', 'threadId': '16adea335ef05b9e'},\n",
       "  {'id': '16ade845f5f80d85', 'threadId': '16ade845f5f80d85'},\n",
       "  {'id': '16ade8336bbbd8fc', 'threadId': '16ade8336bbbd8fc'},\n",
       "  {'id': '16ade504d4ca413f', 'threadId': '16ace29e20077442'},\n",
       "  {'id': '16ade4eb852fd130', 'threadId': '16ace29e20077442'},\n",
       "  {'id': '16ade4e893249016', 'threadId': '16ace29e20077442'},\n",
       "  {'id': '16ade4aecef48c5b', 'threadId': '16ace29e20077442'},\n",
       "  {'id': '16ade460b5701b7d', 'threadId': '16ade460b5701b7d'},\n",
       "  {'id': '16ade3593ae00530', 'threadId': '16ace29e20077442'},\n",
       "  {'id': '16ade3175806c0fa', 'threadId': '16ade3175806c0fa'},\n",
       "  {'id': '16ade28a71c5bd09', 'threadId': '16ade28a71c5bd09'},\n",
       "  {'id': '16ade1cdc0453c03', 'threadId': '16ade1cdc0453c03'},\n",
       "  {'id': '16ade19e4965cd6f', 'threadId': '16ade19e4965cd6f'},\n",
       "  {'id': '16ade07af0069120', 'threadId': '16ade07af0069120'},\n",
       "  {'id': '16addb6d465e9ad7', 'threadId': '16addb6d465e9ad7'},\n",
       "  {'id': '16add8b690400ca5', 'threadId': '16add8b690400ca5'},\n",
       "  {'id': '16add828680a7c0a', 'threadId': '16add828680a7c0a'},\n",
       "  {'id': '16adcf25cfc2ba2b', 'threadId': '16adcf25cfc2ba2b'},\n",
       "  {'id': '16adcdf92150c371', 'threadId': '16adcdf92150c371'},\n",
       "  {'id': '16adc95582386840', 'threadId': '16adc95582386840'},\n",
       "  {'id': '16adc5c84a70a4e4', 'threadId': '16adc5c84a70a4e4'},\n",
       "  {'id': '16adc25764d5ee1c', 'threadId': '16adc25764d5ee1c'},\n",
       "  {'id': '16adbaa8df2bd704', 'threadId': '16adbaa8df2bd704'},\n",
       "  {'id': '16adbaa8728715e5', 'threadId': '16adbaa8728715e5'},\n",
       "  {'id': '16adb8fa73f9c7dc', 'threadId': '16adb8fa73f9c7dc'},\n",
       "  {'id': '16adb8e313d01655', 'threadId': '16adb8e313d01655'},\n",
       "  {'id': '16adb37fd6f2131d', 'threadId': '16adb37fd6f2131d'},\n",
       "  {'id': '16adb27b39d34f1e', 'threadId': '16adb27b39d34f1e'},\n",
       "  {'id': '16adb038c44ef04e', 'threadId': '16adb038c44ef04e'},\n",
       "  {'id': '16adab504b617fa4', 'threadId': '16adab504b617fa4'},\n",
       "  {'id': '16ada891c4e100a3', 'threadId': '16ada891c4e100a3'},\n",
       "  {'id': '16ada81d49e0b0ae', 'threadId': '16ada81d49e0b0ae'},\n",
       "  {'id': '16ada6f8bca87d8e', 'threadId': '16ada6f8bca87d8e'},\n",
       "  {'id': '16ada6d01aaf18cb', 'threadId': '16ace29e20077442'},\n",
       "  {'id': '16ada69efc053724', 'threadId': '16ada69efc053724'},\n",
       "  {'id': '16ada09e869bd806', 'threadId': '16ada09e869bd806'},\n",
       "  {'id': '16ad9cae6f0f2c56', 'threadId': '16ad9cae6f0f2c56'},\n",
       "  {'id': '16ad9c5c99629e23', 'threadId': '16ad9c5c99629e23'},\n",
       "  {'id': '16ad996cc70bf5ef', 'threadId': '16ad996cc70bf5ef'},\n",
       "  {'id': '16ad988782b613c3', 'threadId': '16ad988782b613c3'},\n",
       "  {'id': '16ad9813fe6319fb', 'threadId': '16ad9813fe6319fb'},\n",
       "  {'id': '16ad9780fd7b43a3', 'threadId': '16ad9780fd7b43a3'},\n",
       "  {'id': '16ad9132b6d23a8e', 'threadId': '16ad9132b6d23a8e'},\n",
       "  {'id': '16ad90afb685cc84', 'threadId': '16ad90afb685cc84'},\n",
       "  {'id': '16ad90267a36b035', 'threadId': '16ad90267a36b035'},\n",
       "  {'id': '16ad8f9911501dec', 'threadId': '16ad8f9911501dec'},\n",
       "  {'id': '16ad8f79dafb01ef', 'threadId': '16ad81168ecc86df'},\n",
       "  {'id': '16ad8df1302b78f3', 'threadId': '16ad8df1302b78f3'},\n",
       "  {'id': '16ad8c7a67a9e118', 'threadId': '16ad8c7a67a9e118'},\n",
       "  {'id': '16ad8bd38ac9f207', 'threadId': '16ad8bd38ac9f207'},\n",
       "  {'id': '16ad8af393dea140', 'threadId': '16ad8af393dea140'},\n",
       "  {'id': '16ad8a4ad3ece1d1', 'threadId': '16ad8a4ad3ece1d1'},\n",
       "  {'id': '16ad884102034684', 'threadId': '16ad884102034684'},\n",
       "  {'id': '16ad81168ecc86df', 'threadId': '16ad81168ecc86df'},\n",
       "  {'id': '16ad7b8261db4eb4', 'threadId': '16ad7b8261db4eb4'},\n",
       "  {'id': '16ad76cb22278756', 'threadId': '16ad76cb22278756'},\n",
       "  {'id': '16ad6a650c47ba47', 'threadId': '16ad6a650c47ba47'},\n",
       "  {'id': '16ad6a25605874e8', 'threadId': '16ad6a25605874e8'},\n",
       "  {'id': '16ad69d8a3fed5e3', 'threadId': '16ad687566f9e28c'},\n",
       "  {'id': '16ad69a47ae10035', 'threadId': '16ad687566f9e28c'},\n",
       "  {'id': '16ad6989bd516388', 'threadId': '16ad687566f9e28c'},\n",
       "  {'id': '16ad696f0d5ae2a5', 'threadId': '16ad687566f9e28c'},\n",
       "  {'id': '16ad692a7a470422', 'threadId': '16ad687566f9e28c'},\n",
       "  {'id': '16ad68d7f7008c10', 'threadId': '16ad687566f9e28c'},\n",
       "  {'id': '16ad68d67a80c134', 'threadId': '16ad68d67a80c134'},\n",
       "  {'id': '16ad68c9869b73b7', 'threadId': '16ad68c9869b73b7'},\n",
       "  {'id': '16ad68ac7f7762b4', 'threadId': '16ad687566f9e28c'},\n",
       "  {'id': '16ad687566f9e28c', 'threadId': '16ad687566f9e28c'},\n",
       "  {'id': '16ad6617a9b90fdc', 'threadId': '16ad6617a9b90fdc'},\n",
       "  {'id': '16ad631c1fc8b530', 'threadId': '16ad631c1fc8b530'},\n",
       "  {'id': '16ad6045f6d75b65', 'threadId': '16ad6045f6d75b65'},\n",
       "  {'id': '16ad5efe882b18d6', 'threadId': '16ad5efe882b18d6'},\n",
       "  {'id': '16ad5efdf8dc7ac9', 'threadId': '16ad5efdf8dc7ac9'},\n",
       "  {'id': '16ad5d8fd4652fc0', 'threadId': '16ad5d781c53455f'},\n",
       "  {'id': '16ad5d781c53455f', 'threadId': '16ad5d781c53455f'},\n",
       "  {'id': '16ad5c9e2c6cf2f1', 'threadId': '16ad5c9e2c6cf2f1'},\n",
       "  {'id': '16ad5915c2a7ef83', 'threadId': '16ad56dd6995b83f'},\n",
       "  {'id': '16ad571fee806ddb', 'threadId': '16ad571fee806ddb'}],\n",
       " 'nextPageToken': '06796274001944459321',\n",
       " 'resultSizeEstimate': 206}"
      ]
     },
     "execution_count": 18,
     "metadata": {},
     "output_type": "execute_result"
    }
   ],
   "source": [
    "service.users().messages().list(userId='me').execute()"
   ]
  },
  {
   "cell_type": "code",
   "execution_count": 19,
   "metadata": {},
   "outputs": [],
   "source": [
    "msgs = service.users().messages().list(userId='me').execute()"
   ]
  },
  {
   "cell_type": "code",
   "execution_count": null,
   "metadata": {
    "scrolled": true
   },
   "outputs": [],
   "source": [
    "next_page = service.users().messages().list_next(service.users().messages().list(userId='me'), msgs)\n",
    "next_page.execute()"
   ]
  },
  {
   "cell_type": "markdown",
   "metadata": {},
   "source": [
    "{'From': 'Shoumik Goswami <shoumikgoswami@gmail.com>', 'To': 'Diljeet Singh <diljeets1994@gmail.com>', 'Subject': 'Re: Test Mail', 'Date': 'Sun, 19 May 2019 11:28:32 +0530'}"
   ]
  },
  {
   "cell_type": "code",
   "execution_count": null,
   "metadata": {},
   "outputs": [],
   "source": [
    "def response_extraction(email_data):\n",
    "    response = {}\n",
    "    headers_data = {'From':'', 'To':'', 'Subject':'', 'Date':'', 'Cc':}\n",
    "#     headers = ['From', 'To', 'Subject', 'Date', 'Cc']\n",
    "    for data in email_data['payload']['headers']:\n",
    "        if data['name'] in headers_data:\n",
    "            headers_data[data['name']] = data['value']\n",
    "    response['Subject'] = headers_data['Subject']\n",
    "    response['Date'] = headers_data['Date']\n",
    "    "
   ]
  },
  {
   "cell_type": "code",
   "execution_count": null,
   "metadata": {},
   "outputs": [],
   "source": [
    "def extract_body(email_data):\n",
    "    try:\n",
    "        if ((email_data['payload']['body']['size']==0) and ('parts' in email_data['payload']['parts'][0])):\n",
    "            for body_data in email_data['payload']['parts'][0]['parts']:\n",
    "                if body_data['mimeType'] == 'text/html':\n",
    "                    print(\"body_data in email_data['payload']['parts'][0]['parts']\")\n",
    "        elif ((email_data['payload']['body']['size']==0) and ('data' in email_data['payload']['parts'][0]['body'])):\n",
    "            for body_data in email_data['payload']['parts']:\n",
    "                if body_data['mimeType'] == 'text/html':\n",
    "                    print(\"email_data['payload']['parts']\")\n",
    "        elif ((email_data['payload']['body']['size']==0) and ('attachmentId' in email_data['payload']['parts'][0]['body'])):\n",
    "            pass\n",
    "        else:\n",
    "            if email_data['payload']['mimeType'] == 'text/html':\n",
    "                print(\"email_data['payload']['body']['data']\")\n",
    "    except Exception as e:\n",
    "        print(e)"
   ]
  },
  {
   "cell_type": "code",
   "execution_count": 21,
   "metadata": {},
   "outputs": [],
   "source": [
    "# cleaning text and returning meaningful tokens\n",
    "import string\n",
    "import unicodedata\n",
    "from nltk.corpus import stopwords\n",
    "\n",
    "def text_cleaning(text):\n",
    "#     text = [word for word in text.split(' ') if word.lower() not in stopwords.words('english')]\n",
    "#     text =''.join(nopunc)\n",
    "    \n",
    "    # removing non unicode\n",
    "    text = unicodedata.normalize(\"NFKD\", text)\n",
    "    #Removing commas and spaces in the resume for an effecient check\n",
    "#     text = text.replace(',',' ')\n",
    "#     text = text.replace('\\\\n',' ')\n",
    "#     text = text.replace('\\\\r',' ')\n",
    "#     text = text.replace('\\\\r\\\\n',' ')\n",
    "#     text = text.replace('*','')\n",
    "    \n",
    "    bad_characters = ['\\r', '\\n', '\\\\r\\\\n', ',', '*', ';']\n",
    "    nopunc = [\" \" if char in bad_characters else char for char in text]\n",
    "    text =''.join(nopunc)\n",
    "    text = re.sub(' +', ' ', text)\n",
    "    bad_words= ['&gt;', '&gt', '&lt']\n",
    "    text = text.split(' ')\n",
    "    text = ['' if word in bad_words else word for word in text]\n",
    "    text =' '.join(text)\n",
    "#     # removing punctuation\n",
    "#     nopunc = [char for char in text if char not in string.punctuation]\n",
    "#     text =''.join(nopunc)\n",
    "    # removing stop words\n",
    "    \n",
    "    return text"
   ]
  },
  {
   "cell_type": "markdown",
   "metadata": {},
   "source": [
    "16ad4dd20e0cc588 - courtney\n"
   ]
  },
  {
   "cell_type": "code",
   "execution_count": null,
   "metadata": {
    "scrolled": true
   },
   "outputs": [],
   "source": [
    "service.users().messages().list(userId='me').execute()"
   ]
  },
  {
   "cell_type": "code",
   "execution_count": null,
   "metadata": {
    "scrolled": true
   },
   "outputs": [],
   "source": [
    "for msg in msgs['messages']:\n",
    "    print(msg['id'])\n",
    "    email_data = service.users().messages().get(userId='me', id=msg['id'], format='full').execute()\n",
    "    email_data['payload']\n",
    "    extract_body(email_data)\n",
    "    "
   ]
  },
  {
   "cell_type": "code",
   "execution_count": null,
   "metadata": {
    "scrolled": true
   },
   "outputs": [],
   "source": [
    "email_data = service.users().messages().get(userId='me', id='16ae022b62b5d75e', format='full').execute()\n",
    "email_data['payload']\n",
    "# [0]['parts'][0]['body']['data']\n",
    "# ['parts'][0]['body']\n",
    "soup = BeautifulSoup(base64.urlsafe_b64decode(email_data['payload']['parts'][1]['body']['data']), 'html.parser')\n",
    "email_text = soup.get_text()\n",
    "email_text\n",
    "# email_text = soup.decode_contents()\n"
   ]
  },
  {
   "cell_type": "code",
   "execution_count": null,
   "metadata": {},
   "outputs": [],
   "source": [
    "email_data"
   ]
  },
  {
   "cell_type": "code",
   "execution_count": null,
   "metadata": {
    "scrolled": true
   },
   "outputs": [],
   "source": [
    "data = text_cleaning(email_text)\n",
    "data"
   ]
  },
  {
   "cell_type": "code",
   "execution_count": null,
   "metadata": {},
   "outputs": [],
   "source": [
    "extract_email_addresses(email_text)"
   ]
  },
  {
   "cell_type": "code",
   "execution_count": null,
   "metadata": {},
   "outputs": [],
   "source": [
    "extract_email_addresses(data)"
   ]
  },
  {
   "cell_type": "code",
   "execution_count": null,
   "metadata": {
    "scrolled": true
   },
   "outputs": [],
   "source": [
    "extract_name(data)"
   ]
  },
  {
   "cell_type": "code",
   "execution_count": null,
   "metadata": {},
   "outputs": [],
   "source": [
    "extract_name(email_text)"
   ]
  },
  {
   "cell_type": "code",
   "execution_count": null,
   "metadata": {},
   "outputs": [],
   "source": [
    "extract_org(email_text)"
   ]
  },
  {
   "cell_type": "code",
   "execution_count": null,
   "metadata": {
    "scrolled": false
   },
   "outputs": [],
   "source": [
    "extract_org(data)"
   ]
  },
  {
   "cell_type": "code",
   "execution_count": null,
   "metadata": {
    "scrolled": true
   },
   "outputs": [],
   "source": [
    "extract_phone_numbers(data)"
   ]
  },
  {
   "cell_type": "code",
   "execution_count": null,
   "metadata": {},
   "outputs": [],
   "source": [
    "nlp = spacy.load('en_core_web_sm')\n",
    "doc = nlp(email_text)\n",
    "\n",
    "for token in doc:\n",
    "    print(token.text, token.lemma_, token.pos_, token.tag_, token.dep_,\n",
    "            token.shape_, token.is_alpha, token.is_stop)"
   ]
  },
  {
   "cell_type": "code",
   "execution_count": null,
   "metadata": {},
   "outputs": [],
   "source": [
    "for token in doc:\n",
    "    print(token.text, token.lemma_, token.pos_, token.tag_, token.dep_,\n",
    "            token.shape_, token.is_alpha, token.is_stop)"
   ]
  },
  {
   "cell_type": "code",
   "execution_count": null,
   "metadata": {
    "scrolled": true
   },
   "outputs": [],
   "source": [
    "response = {'From':'', 'To':'', 'Subject':'', 'Date':''}\n",
    "for data in email_data['payload']['headers']:\n",
    "    if data['name'] in response:\n",
    "        response[data['name']] = data['value']\n",
    "response"
   ]
  },
  {
   "cell_type": "code",
   "execution_count": null,
   "metadata": {
    "scrolled": true
   },
   "outputs": [],
   "source": [
    "for msg_id in msgs['messages']:\n",
    "    response_data = {'From':'', 'To':'', 'Subject':'', 'Date':''}\n",
    "    email_data = service.users().messages().get(userId='me', id=msg_id['id'], format='full').execute()\n",
    "    for data in email_data['payload']['headers']:\n",
    "        if data['name'] in response_data:\n",
    "            response_data[data['name']] = data['value']\n",
    "    print()\n",
    "    print(response_data)\n",
    "    "
   ]
  },
  {
   "cell_type": "code",
   "execution_count": null,
   "metadata": {
    "scrolled": true
   },
   "outputs": [],
   "source": [
    "import base64\n",
    "counter = 0\n",
    "try:\n",
    "    for msg_id in msgs['messages']:\n",
    "        try:\n",
    "            email_data = service.users().messages().get(userId='me', id=msg_id['id'], format='full').execute()\n",
    "            if ((email_data['payload']['body']['size']==0) and ('parts' in email_data['payload']['parts'][0])):\n",
    "                print(msg_id['id'])\n",
    "                for body_data in email_data['payload']['parts'][0]['parts']:\n",
    "                    base64.urlsafe_b64decode(body_data['body']['data'])\n",
    "            elif ((email_data['payload']['body']['size']==0) and ('data' in email_data['payload']['parts'][0]['body'])):\n",
    "                print(msg_id['id'])\n",
    "                for body_data in email_data['payload']['parts']:\n",
    "                    base64.urlsafe_b64decode(body_data['body']['data'])\n",
    "            elif ((email_data['payload']['body']['size']==0) and ('attachmentId' in email_data['payload']['parts'][0]['body'])):\n",
    "                print(msg_id['id'])\n",
    "                for body_data in email_data['payload']['parts']:\n",
    "                    base64.urlsafe_b64decode(body_data['body']['attachmentId'])\n",
    "            else:\n",
    "                print(msg_id['id'])\n",
    "                base64.urlsafe_b64decode(body_data['body']['data'])\n",
    "        except Exception as e:\n",
    "            print(e)\n",
    "except Exception as e:\n",
    "    print(e)\n",
    "        \n",
    "        "
   ]
  },
  {
   "cell_type": "code",
   "execution_count": null,
   "metadata": {
    "scrolled": true
   },
   "outputs": [],
   "source": [
    "email_data = service.users().messages().get(userId='me', id='16ac694f2e874497', format='full').execute()\n",
    "print(email_data.keys())\n",
    "email_data['payload']['parts'][0]['parts'][0]['body']['data']"
   ]
  },
  {
   "cell_type": "code",
   "execution_count": null,
   "metadata": {
    "scrolled": false
   },
   "outputs": [],
   "source": [
    "base64.urlsafe_b64decode(email_data['payload']['parts'][0]['parts'][0]['body']['data'])"
   ]
  },
  {
   "cell_type": "markdown",
   "metadata": {},
   "source": [
    "# Response"
   ]
  },
  {
   "cell_type": "markdown",
   "metadata": {},
   "source": [
    "{\n",
    "\t\"error\": \"string\",\n",
    "\t\"contacts\": [{\n",
    "\t\t\"firstName\": \"string\",\n",
    "\t\t\"lastName\": \"string\",\n",
    "\t\t\"emailAddress\": \"string\",\n",
    "\t\t\"emailAddressDomain\": \"string\",\n",
    "\t\t\"emailAddressDomainWithoutTLD\": \"string\",\n",
    "\t\t\"phoneNumber\": \"string\",\n",
    "\t\t\"mobilePhone\": \"string\",\n",
    "\t\t\"voipPhone\": \"string\",\n",
    "\t\t\"officePhone\": \"string\",\n",
    "\t\t\"fax\": \"string\",\n",
    "\t\t\"address\": \"string\",\n",
    "\t\t\"title\": \"string\",\n",
    "\t\t\"twitterUrl\": \"string\",\n",
    "\t\t\"twitterHandle\": \"string\",\n",
    "\t\t\"linkedInUrl\": \"string\",\n",
    "\t\t\"linkedInHandle\": \"string\",\n",
    "\t\t\"companyName\": \"string\",\n",
    "\t\t\"website\": \"string\"\n",
    "\t}],\n",
    "\t\"isSpammyLookingEmailMessage\": true,\n",
    "\t\"isSpammyLookingSender\": true,\n",
    "\t\"isSpam\": true,\n",
    "\t\"from_LastName\": \"string\",\n",
    "\t\"from_FirstName\": \"string\",\n",
    "\t\"from_Fax\": \"string\",\n",
    "\t\"from_Phone\": \"string\",\n",
    "\t\"from_Address\": \"string\",\n",
    "\t\"from_Title\": \"string\",\n",
    "\t\"from_MobilePhone\": \"string\",\n",
    "\t\"from_OfficePhone\": \"string\",\n",
    "\t\"from_LinkedInUrl\": \"string\",\n",
    "\t\"from_TwitterUrl\": \"string\",\n",
    "\t\"from_TwitterHandle\": \"string\",\n",
    "\t\"from_EmailAddress\": \"string\",\n",
    "\t\"emails\": [{\n",
    "\t\t\"from_EmailAddress\": \"string\",\n",
    "\t\t\"from_Name\": \"string\",\n",
    "\t\t\"textBody\": \"string\",\n",
    "\t\t\"htmlLines\": [\"string\"],\n",
    "\t\t\"date\": \"2019-05-05T22:27:56.124Z\",\n",
    "\t\t\"didParseCorrectly\": true,\n",
    "\t\t\"to\": [{\n",
    "\t\t\t\"name\": \"string\",\n",
    "\t\t\t\"emailAddress\": \"string\"\n",
    "\t\t}],\n",
    "\t\t\"cc\": [{\n",
    "\t\t\t\"name\": \"string\",\n",
    "\t\t\t\"emailAddress\": \"string\"\n",
    "\t\t}],\n",
    "\t\t\"htmlBody\": \"string\",\n",
    "\t\t\"spammyLookingEmail\": true,\n",
    "\t\t\"subject\": \"string\",\n",
    "\t\t\"cleanedBodyHtml\": \"string\",\n",
    "\t\t\"cleanedBodyPlain\": \"string\"\n",
    "\t}],\n",
    "\t\"from_LinkedInHandle\": \"string\",\n",
    "\t\"duration\": 0,\n",
    "\t\"cleanedemailbody\": \"string\",\n",
    "\t\"cleanedemailbody_ishtml\": true,\n",
    "\t\"cleanedemailbody_plain\": \"string\",\n",
    "\t\"from_CompanyName\": \"string\",\n",
    "\t\"from_Website\": \"string\",\n",
    "\t\"from_EmailAddressDomain\": \"string\",\n",
    "\t\"from_EmailAddressDomainWithoutTLD\": \"string\"\n",
    "}"
   ]
  },
  {
   "cell_type": "markdown",
   "metadata": {},
   "source": [
    "## Logic to get names and emails that belong to each other"
   ]
  },
  {
   "cell_type": "code",
   "execution_count": 22,
   "metadata": {},
   "outputs": [
    {
     "data": {
      "text/plain": [
       "\"---------- Forwarded message --------- From: Courtenay Farquharson <courtenay@parserr.com> Date: Thu Mar 14 2019 at 9:17 AM Subject: Re: Parserr To: Steve Burchett <steve.burchett@silverlinecrm.com> Hi Steve Thanks for being so patient with us. Could I ask if that custom object is definitely writeable by the user you are authenticating with? Engineers are working on making that object available now. [image: Mailtrack] <https://mailtrack.io?utm_source=gmail&utm_medium=signature&utm_campaign=signaturevirality5&> Sender notified by Mailtrack <https://mailtrack.io?utm_source=gmail&utm_medium=signature&utm_campaign=signaturevirality5&> 03/14/19 9:15:25 AM On Thu Mar 14 2019 at 12:49 AM Steve Burchett < steve.burchett@silverlinecrm.com> wrote: > I tried mapping to the case and account objects to see if I could simply > create any record. I received the following error message: > > [image: Screen Shot 2019-03-13 at 6.47.27 AM.png] > > > ---------- Forwarded message --------- > From: Steve Burchett <steve.burchett@silverlinecrm.com> > Date: Wed Mar 13 2019 at 6:19 AM > Subject: Re: Parserr > To: Courtenay Farquharson <courtenay@parserr.com> > > > Courtenay > > I am now able to authenticate to the salesforce org however I can only > see a short list of standard objects as depicted below: > > [image: Screen Shot 2019-03-13 at 6.14.47 AM.png] > > For my demo I need to create records on a custom object named > Inbound_Email__c. Is it possible to provide access to this custom object? > > Thanks > Steve > > > On Wed Mar 13 2019 at 4:27 AM Courtenay Farquharson < > courtenay@parserr.com> wrote: > >> Hi Steve >> >> Thanks for your time today. We have enabled the feature for your account >> so I believe you SHOULD be able to connect now. Let me know if you can't! >> >> -- >> Regards >> >> Courtenay >> >> Want to chat? Sure! Book me here <https://calendly.com/courtenay-parserr> >> >> [image: Mailtrack] >> <https://mailtrack.io?utm_source=gmail&utm_medium=signature&utm_campaign=signaturevirality5&> Sender >> notified by >> Mailtrack >> <https://mailtrack.io?utm_source=gmail&utm_medium=signature&utm_campaign=signaturevirality5&> 03/13/19 >> 10:25:43 PM >> > > > -- > Steve Burchett > Sr. Director - Sales Architecture | Silverline > steve.burchett@silverlinecrm.com <http://silverlinecrm.com/> > work: +1 360 909-9407 > > > <https://silverline.sigstr.net/uc/57dab42d5df0643221d18af2> > > > -- > Steve Burchett > Sr. Director - Sales Architecture | Silverline > steve.burchett@silverlinecrm.com <http://silverlinecrm.com/> > work: +1 360 909-9407 > > > <https://silverline.sigstr.net/uc/57dab42d5df0643221d18af2> > -- Regards Courtenay Want to chat? Sure! Book me here <https://calendly.com/courtenay-parserr> -- Regards Courtenay Want to chat? Sure! Book me here <https://calendly.com/courtenay-parserr> \""
      ]
     },
     "execution_count": 22,
     "metadata": {},
     "output_type": "execute_result"
    }
   ],
   "source": [
    "data = \"---------- Forwarded message ---------\\r\\nFrom: Courtenay Farquharson <courtenay@parserr.com>\\r\\nDate: Thu, Mar 14, 2019 at 9:17 AM\\r\\nSubject: Re: Parserr\\r\\nTo: Steve Burchett <steve.burchett@silverlinecrm.com>\\r\\n\\r\\n\\r\\nHi Steve,\\r\\n\\r\\nThanks for being so patient with us.\\r\\n\\r\\nCould I ask if that custom object is definitely writeable by the user you\\r\\nare authenticating with?\\r\\n\\r\\nEngineers are working on making that object available now.\\r\\n\\r\\n\\r\\n\\r\\n[image: Mailtrack]\\r\\n<https://mailtrack.io?utm_source=gmail&utm_medium=signature&utm_campaign=signaturevirality5&>\\r\\nSender\\r\\nnotified by\\r\\nMailtrack\\r\\n<https://mailtrack.io?utm_source=gmail&utm_medium=signature&utm_campaign=signaturevirality5&>\\r\\n03/14/19,\\r\\n9:15:25 AM\\r\\n\\r\\nOn Thu, Mar 14, 2019 at 12:49 AM Steve Burchett <\\r\\nsteve.burchett@silverlinecrm.com> wrote:\\r\\n\\r\\n> I tried mapping to the case and account objects to see if I could simply\\r\\n> create any record.  I received the following error message:\\r\\n>\\r\\n> [image: Screen Shot 2019-03-13 at 6.47.27 AM.png]\\r\\n>\\r\\n>\\r\\n> ---------- Forwarded message ---------\\r\\n> From: Steve Burchett <steve.burchett@silverlinecrm.com>\\r\\n> Date: Wed, Mar 13, 2019 at 6:19 AM\\r\\n> Subject: Re: Parserr\\r\\n> To: Courtenay Farquharson <courtenay@parserr.com>\\r\\n>\\r\\n>\\r\\n> Courtenay,\\r\\n>\\r\\n> I am now able to authenticate to the salesforce org; however, I can only\\r\\n> see a short list of standard objects as depicted below:\\r\\n>\\r\\n> [image: Screen Shot 2019-03-13 at 6.14.47 AM.png]\\r\\n>\\r\\n> For my demo, I need to create records on a custom object named\\r\\n> Inbound_Email__c.  Is it possible to provide access to this custom object?\\r\\n>\\r\\n> Thanks,\\r\\n> Steve\\r\\n>\\r\\n>\\r\\n> On Wed, Mar 13, 2019 at 4:27 AM Courtenay Farquharson <\\r\\n> courtenay@parserr.com> wrote:\\r\\n>\\r\\n>> Hi Steve,\\r\\n>>\\r\\n>> Thanks for your time today. We have enabled the feature for your account\\r\\n>> so I believe you SHOULD be able to connect now. Let me know if you can't!\\r\\n>>\\r\\n>> --\\r\\n>> Regards,\\r\\n>>\\r\\n>> Courtenay\\r\\n>>\\r\\n>> Want to chat? Sure! Book me here <https://calendly.com/courtenay-parserr>\\r\\n>>\\r\\n>> [image: Mailtrack]\\r\\n>> <https://mailtrack.io?utm_source=gmail&utm_medium=signature&utm_campaign=signaturevirality5&> Sender\\r\\n>> notified by\\r\\n>> Mailtrack\\r\\n>> <https://mailtrack.io?utm_source=gmail&utm_medium=signature&utm_campaign=signaturevirality5&> 03/13/19,\\r\\n>> 10:25:43 PM\\r\\n>>\\r\\n>\\r\\n>\\r\\n> --\\r\\n> Steve Burchett\\r\\n> Sr. Director - Sales Architecture | Silverline\\r\\n> steve.burchett@silverlinecrm.com <http://silverlinecrm.com/>\\r\\n> work: +1 360 909-9407\\r\\n>\\r\\n>\\r\\n> <https://silverline.sigstr.net/uc/57dab42d5df0643221d18af2>\\r\\n>\\r\\n>\\r\\n> --\\r\\n> Steve Burchett\\r\\n> Sr. Director - Sales Architecture | Silverline\\r\\n> steve.burchett@silverlinecrm.com <http://silverlinecrm.com/>\\r\\n> work: +1 360 909-9407\\r\\n>\\r\\n>\\r\\n> <https://silverline.sigstr.net/uc/57dab42d5df0643221d18af2>\\r\\n>\\r\\n\\r\\n\\r\\n-- \\r\\nRegards,\\r\\n\\r\\nCourtenay\\r\\n\\r\\nWant to chat? Sure! Book me here <https://calendly.com/courtenay-parserr>\\r\\n\\r\\n\\r\\n-- \\r\\nRegards,\\r\\n\\r\\nCourtenay\\r\\n\\r\\nWant to chat? Sure! Book me here <https://calendly.com/courtenay-parserr>\\r\\n\"\n",
    "data = text_cleaning(data)\n",
    "data"
   ]
  },
  {
   "cell_type": "code",
   "execution_count": 40,
   "metadata": {},
   "outputs": [
    {
     "data": {
      "text/plain": [
       "['---------- Forwarded message --------- From: Courtenay Farquharson <courtenay@parserr.com',\n",
       " ' Date: Thu Mar 14 2019 at 9:17 AM Subject: Re: Parserr To: Steve Burchett <steve.burchett@silverlinecrm.com',\n",
       " ' Hi Steve Thanks for being so patient with us. Could I ask if that custom object is definitely writeable by the user you are authenticating with? Engineers are working on making that object available now. [image: Mailtrack] <https://mailtrack.io?utm_source=gmail&utm_medium=signature&utm_campaign=signaturevirality5&',\n",
       " ' Sender notified by Mailtrack <https://mailtrack.io?utm_source=gmail&utm_medium=signature&utm_campaign=signaturevirality5&',\n",
       " ' 03/14/19 9:15:25 AM On Thu Mar 14 2019 at 12:49 AM Steve Burchett < steve.burchett@silverlinecrm.com',\n",
       " ' wrote: ',\n",
       " ' I tried mapping to the case and account objects to see if I could simply ',\n",
       " ' create any record. I received the following error message: ',\n",
       " ' ',\n",
       " ' [image: Screen Shot 2019-03-13 at 6.47.27 AM.png] ',\n",
       " ' ',\n",
       " ' ',\n",
       " ' ---------- Forwarded message --------- ',\n",
       " ' From: Steve Burchett <steve.burchett@silverlinecrm.com',\n",
       " ' ',\n",
       " ' Date: Wed Mar 13 2019 at 6:19 AM ',\n",
       " ' Subject: Re: Parserr ',\n",
       " ' To: Courtenay Farquharson <courtenay@parserr.com',\n",
       " ' ',\n",
       " ' ',\n",
       " ' ',\n",
       " ' Courtenay ',\n",
       " ' ',\n",
       " ' I am now able to authenticate to the salesforce org however I can only ',\n",
       " ' see a short list of standard objects as depicted below: ',\n",
       " ' ',\n",
       " ' [image: Screen Shot 2019-03-13 at 6.14.47 AM.png] ',\n",
       " ' ',\n",
       " ' For my demo I need to create records on a custom object named ',\n",
       " ' Inbound_Email__c. Is it possible to provide access to this custom object? ',\n",
       " ' ',\n",
       " ' Thanks ',\n",
       " ' Steve ',\n",
       " ' ',\n",
       " ' ',\n",
       " ' On Wed Mar 13 2019 at 4:27 AM Courtenay Farquharson < ',\n",
       " ' courtenay@parserr.com',\n",
       " ' wrote: ',\n",
       " ' ',\n",
       " '',\n",
       " ' Hi Steve ',\n",
       " '',\n",
       " ' ',\n",
       " '',\n",
       " ' Thanks for your time today. We have enabled the feature for your account ',\n",
       " '',\n",
       " \" so I believe you SHOULD be able to connect now. Let me know if you can't! \",\n",
       " '',\n",
       " ' ',\n",
       " '',\n",
       " ' -- ',\n",
       " '',\n",
       " ' Regards ',\n",
       " '',\n",
       " ' ',\n",
       " '',\n",
       " ' Courtenay ',\n",
       " '',\n",
       " ' ',\n",
       " '',\n",
       " ' Want to chat? Sure! Book me here <https://calendly.com/courtenay-parserr',\n",
       " ' ',\n",
       " '',\n",
       " ' ',\n",
       " '',\n",
       " ' [image: Mailtrack] ',\n",
       " '',\n",
       " ' <https://mailtrack.io?utm_source=gmail&utm_medium=signature&utm_campaign=signaturevirality5&',\n",
       " ' Sender ',\n",
       " '',\n",
       " ' notified by ',\n",
       " '',\n",
       " ' Mailtrack ',\n",
       " '',\n",
       " ' <https://mailtrack.io?utm_source=gmail&utm_medium=signature&utm_campaign=signaturevirality5&',\n",
       " ' 03/13/19 ',\n",
       " '',\n",
       " ' 10:25:43 PM ',\n",
       " '',\n",
       " ' ',\n",
       " ' ',\n",
       " ' ',\n",
       " ' -- ',\n",
       " ' Steve Burchett ',\n",
       " ' Sr. Director - Sales Architecture | Silverline ',\n",
       " ' steve.burchett@silverlinecrm.com <http://silverlinecrm.com/',\n",
       " ' ',\n",
       " ' work: +1 360 909-9407 ',\n",
       " ' ',\n",
       " ' ',\n",
       " ' <https://silverline.sigstr.net/uc/57dab42d5df0643221d18af2',\n",
       " ' ',\n",
       " ' ',\n",
       " ' ',\n",
       " ' -- ',\n",
       " ' Steve Burchett ',\n",
       " ' Sr. Director - Sales Architecture | Silverline ',\n",
       " ' steve.burchett@silverlinecrm.com <http://silverlinecrm.com/',\n",
       " ' ',\n",
       " ' work: +1 360 909-9407 ',\n",
       " ' ',\n",
       " ' ',\n",
       " ' <https://silverline.sigstr.net/uc/57dab42d5df0643221d18af2',\n",
       " ' ',\n",
       " ' -- Regards Courtenay Want to chat? Sure! Book me here <https://calendly.com/courtenay-parserr',\n",
       " ' -- Regards Courtenay Want to chat? Sure! Book me here <https://calendly.com/courtenay-parserr',\n",
       " ' ']"
      ]
     },
     "execution_count": 40,
     "metadata": {},
     "output_type": "execute_result"
    }
   ],
   "source": [
    "data.split('>')"
   ]
  },
  {
   "cell_type": "code",
   "execution_count": 25,
   "metadata": {},
   "outputs": [],
   "source": [
    "import operator"
   ]
  },
  {
   "cell_type": "code",
   "execution_count": 37,
   "metadata": {},
   "outputs": [],
   "source": [
    "def find_correct_name(names, email_addr):\n",
    "    name_counter={name.title():0 for name in names}\n",
    "    for name in name_counter:\n",
    "        for item in name.split(' '):\n",
    "            name_counter[name] += len(re.findall(item.lower(), email_addr))\n",
    "    print(name_counter)\n",
    "    name_counter = sorted(name_counter.items(), key=operator.itemgetter(1), reverse= True)\n",
    "    if name_counter[0][1]>0:\n",
    "        return name_counter[0][0]\n",
    "#     return max(name_counter.items(), key=operator.itemgetter(1))[0]"
   ]
  },
  {
   "cell_type": "code",
   "execution_count": 45,
   "metadata": {},
   "outputs": [
    {
     "name": "stdout",
     "output_type": "stream",
     "text": [
      "{'Courtenay Farquharson': 1}\n",
      "['Courtenay Farquharson', 'courtenay@parserr.com']\n",
      "\n",
      "{'Parserr': 0, 'Steve Burchett': 2}\n",
      "['Steve Burchett', 'steve.burchett@silverlinecrm.com']\n",
      "\n",
      "{'Steve Burchett': 2}\n",
      "['Steve Burchett', 'steve.burchett@silverlinecrm.com']\n",
      "\n",
      "{'Steve Burchett': 2}\n",
      "['Steve Burchett', 'steve.burchett@silverlinecrm.com']\n",
      "\n",
      "{'Courtenay Farquharson': 1}\n",
      "['Courtenay Farquharson', 'courtenay@parserr.com']\n",
      "\n"
     ]
    }
   ],
   "source": [
    "for line in data.split('>'):\n",
    "    email_addrs = extract_email_addresses(line)\n",
    "    name=None\n",
    "    if len(email_addrs) == 1:\n",
    "        names = extract_name(line)\n",
    "        if len(names)>0:\n",
    "            name= find_correct_name(names, email_addrs[0])\n",
    "#         elif len(names) == 1:\n",
    "#             name = names[0]\n",
    "        else:\n",
    "            pass\n",
    "    else:\n",
    "        pass\n",
    "    if name is not None:\n",
    "        print([name, email_addrs[0]])\n",
    "        print()"
   ]
  },
  {
   "cell_type": "markdown",
   "metadata": {},
   "source": [
    "Testing "
   ]
  },
  {
   "cell_type": "code",
   "execution_count": 42,
   "metadata": {},
   "outputs": [
    {
     "name": "stdout",
     "output_type": "stream",
     "text": [
      "{'Parserr': 0, 'Courtenay Farquharson': 0}\n",
      "[('Parserr', 0), ('Courtenay Farquharson', 0)]\n"
     ]
    }
   ],
   "source": [
    "names = ['Parserr', 'Courtenay Farquharson']\n",
    "email_addr='steve.burchett@silverlinecrm.com'\n",
    "name_counter={name.title():0 for name in names}\n",
    "print(name_counter)\n",
    "for name in name_counter:\n",
    "    for item in name.split(' '):\n",
    "        name_counter[name] += len(re.findall(item.lower(), email_addr))\n",
    "\n",
    "name_counter = sorted(name_counter.items(), key=operator.itemgetter(1), reverse= True)\n",
    "print(name_counter)\n",
    "if name_counter[0][1]>0:\n",
    "        print(name_counter[0][0])\n",
    "#     return max(name_counter.items(), key=operator.itemgetter(1))[0]"
   ]
  }
 ],
 "metadata": {
  "kernelspec": {
   "display_name": "Python 3",
   "language": "python",
   "name": "python3"
  }
 },
 "nbformat": 4,
 "nbformat_minor": 2
}
