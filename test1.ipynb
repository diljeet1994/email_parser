{
 "cells": [
  {
   "cell_type": "code",
   "execution_count": 2,
   "metadata": {},
   "outputs": [],
   "source": [
    "import re\n",
    "import spacy\n",
    "import pandas as pd\n",
    "import numpy as np\n",
    "from bs4 import BeautifulSoup"
   ]
  },
  {
   "cell_type": "code",
   "execution_count": 70,
   "metadata": {},
   "outputs": [],
   "source": [
    "#Function to extract names from the string using spacy\n",
    "def extract_name(string):\n",
    "    soup = BeautifulSoup(string, 'html.parser')\n",
    "    r1 = soup.get_text()\n",
    "    nlp = spacy.load('en')\n",
    "    doc = nlp(r1)\n",
    "    for ent in doc.ents:\n",
    "        print(ent.text, ent.label_)"
   ]
  },
  {
   "cell_type": "code",
   "execution_count": 4,
   "metadata": {},
   "outputs": [],
   "source": [
    "#Function to extract Phone Numbers from string using regular expressions\n",
    "def extract_phone_numbers(string):\n",
    "    r = re.compile(r'(\\d{3}[-\\.\\s]??\\d{3}[-\\.\\s]??\\d{4}|\\(\\d{3}\\)\\s*\\d{3}[-\\.\\s]??\\d{4}|\\d{3}[-\\.\\s]??\\d{4})')\n",
    "    phone_numbers = r.findall(string)\n",
    "    return [re.sub(r'\\D', '', number) for number in phone_numbers]"
   ]
  },
  {
   "cell_type": "code",
   "execution_count": 22,
   "metadata": {},
   "outputs": [],
   "source": [
    "#Function to extract Email address from a string using regular expressions\n",
    "def extract_email_addresses(string):\n",
    "    r = re.compile(r'[\\w\\.-]+@[\\w\\.-]+')\n",
    "    return r.findall(string)"
   ]
  },
  {
   "cell_type": "code",
   "execution_count": 26,
   "metadata": {},
   "outputs": [],
   "source": [
    "def extract_twitter(string):\n",
    "    r = re.compile(r'twitter.com/([^\\s:]+)')\n",
    "    return r.findall(string)"
   ]
  },
  {
   "cell_type": "code",
   "execution_count": 28,
   "metadata": {},
   "outputs": [],
   "source": [
    "def extract_linkedin(string):\n",
    "    r = re.compile(r'linkedin.com/([^\\s:]+)')\n",
    "    return r.findall(string)"
   ]
  },
  {
   "cell_type": "code",
   "execution_count": 29,
   "metadata": {},
   "outputs": [],
   "source": [
    "def extract_facebook(string):\n",
    "    r = re.compile(r'facebook.com/([^\\s:]+)')\n",
    "    return r.findall(string)"
   ]
  },
  {
   "cell_type": "code",
   "execution_count": 57,
   "metadata": {},
   "outputs": [],
   "source": [
    "with open('Email-Signature-Finder-Parser-master/Email-Signature-Finder-Parser-master/data/body/arnold-j_inbox33_body', 'r') as fp:\n",
    "    content = fp.read()"
   ]
  },
  {
   "cell_type": "code",
   "execution_count": 77,
   "metadata": {},
   "outputs": [],
   "source": [
    "content = 'Hi,\\nIt was good meeting with you yesterday. Looking forward to hearing your offer. \\n\\nJohn Smith\\nVice President of Marketing at BigCo\\nCell - 333-444-3233\\nOffice - 333-443-2323\\n999 Grand Ave\\nEscondido, CA 92025\\nhttps://twitter.com/jsmith\\n                        '\n",
    "string = content\n",
    "#Removing commas in the resume for an effecient check\n",
    "string = string.replace(',',' ')\n",
    "string = string.replace('\\n',' ')\n",
    "#Converting all the charachters in lower case\n",
    "string1 = string.lower()"
   ]
  },
  {
   "cell_type": "code",
   "execution_count": 79,
   "metadata": {},
   "outputs": [
    {
     "name": "stdout",
     "output_type": "stream",
     "text": [
      "yesterday DATE\n",
      "john smith PERSON\n",
      "333 CARDINAL\n",
      "999 CARDINAL\n",
      "92025 DATE\n"
     ]
    }
   ],
   "source": [
    "extract_name(string1)"
   ]
  },
  {
   "cell_type": "code",
   "execution_count": 80,
   "metadata": {},
   "outputs": [
    {
     "name": "stdout",
     "output_type": "stream",
     "text": [
      "Phone Number is\n",
      "['3334443233', '3334432323']\n"
     ]
    }
   ],
   "source": [
    "print('Phone Number is')\n",
    "y = extract_phone_numbers(string1)\n",
    "y1 = []\n",
    "for i in range(len(y)):\n",
    "    if(len(y[i])>9):\n",
    "        y1.append(y[i])\n",
    "print(y1)"
   ]
  },
  {
   "cell_type": "code",
   "execution_count": 81,
   "metadata": {},
   "outputs": [
    {
     "name": "stdout",
     "output_type": "stream",
     "text": [
      "Email id is\n",
      "[]\n"
     ]
    }
   ],
   "source": [
    "print('Email id is')\n",
    "print(extract_email_addresses(string1))"
   ]
  },
  {
   "cell_type": "code",
   "execution_count": 82,
   "metadata": {},
   "outputs": [
    {
     "data": {
      "text/plain": [
       "['jsmith']"
      ]
     },
     "execution_count": 82,
     "metadata": {},
     "output_type": "execute_result"
    }
   ],
   "source": [
    "extract_twitter(string1)"
   ]
  }
 ],
 "metadata": {
  "kernelspec": {
   "display_name": "Python 3",
   "language": "python",
   "name": "python3"
  },
  "language_info": {
   "codemirror_mode": {
    "name": "ipython",
    "version": 3
   },
   "file_extension": ".py",
   "mimetype": "text/x-python",
   "name": "python",
   "nbconvert_exporter": "python",
   "pygments_lexer": "ipython3",
   "version": "3.7.1"
  }
 },
 "nbformat": 4,
 "nbformat_minor": 2
}
