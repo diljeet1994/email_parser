{
 "cells": [
  {
   "cell_type": "code",
   "execution_count": 1,
   "metadata": {},
   "outputs": [],
   "source": [
    "import re\n",
    "import spacy\n",
    "import pandas as pd\n",
    "import numpy as np\n",
    "from bs4 import BeautifulSoup\n",
    "import json"
   ]
  },
  {
   "cell_type": "code",
   "execution_count": 2,
   "metadata": {},
   "outputs": [],
   "source": [
    "#Function to extract names from the string using spacy\n",
    "def extract_name(string):\n",
    "    names = []\n",
    "    nlp = spacy.load('en')\n",
    "    #nlp = spacy.load('en_core_web_sm')\n",
    "    doc = nlp(string)\n",
    "    ent_list = ['PERSON']\n",
    "    for ent in doc.ents:\n",
    "        if(ent.label_ in ent_list):\n",
    "            #print(ent.text, ent.label_)\n",
    "            names.append(ent.text)\n",
    "    return np.unique(names)"
   ]
  },
  {
   "cell_type": "code",
   "execution_count": 3,
   "metadata": {},
   "outputs": [],
   "source": [
    "def extract_org(string):\n",
    "    org = []\n",
    "    nlp = spacy.load('en')\n",
    "    doc = nlp(string)\n",
    "    ent_list = ['GPE','NORP','ORG','LOC','PRODUCT']\n",
    "    for ent in doc.ents:\n",
    "        if(ent.label_ in ent_list):\n",
    "            #print(ent.text, ent.label_)\n",
    "            org.append(ent.text)\n",
    "    return np.unique(org)"
   ]
  },
  {
   "cell_type": "code",
   "execution_count": 4,
   "metadata": {},
   "outputs": [],
   "source": [
    "#Function to extract Phone Numbers from string using regular expressions\n",
    "def extract_phone_numbers(string):\n",
    "    r = re.compile(r'(\\d{3}[-\\.\\s]??\\d{3}[-\\.\\s]??\\d{4}|\\(\\d{3}\\)\\s*\\d{3}[-\\.\\s]??\\d{4}|\\d{3}[-\\.\\s]??\\d{4})')\n",
    "    phone_numbers = np.unique(r.findall(string))\n",
    "    return [re.sub(r'\\D', '', number) for number in phone_numbers]"
   ]
  },
  {
   "cell_type": "code",
   "execution_count": 5,
   "metadata": {},
   "outputs": [],
   "source": [
    "#Function to extract Email address from a string using regular expressions\n",
    "def extract_email_addresses(string):\n",
    "    r = re.compile(r'[\\w\\.-]+@[\\w\\.-]+')\n",
    "    return np.unique(r.findall(string))\n",
    "    #return r.findall(string)"
   ]
  },
  {
   "cell_type": "code",
   "execution_count": 6,
   "metadata": {},
   "outputs": [],
   "source": [
    "def extract_twitter(string):\n",
    "    r = re.compile(r'twitter.com/([^\\s:]+)')\n",
    "    return r.findall(string)"
   ]
  },
  {
   "cell_type": "code",
   "execution_count": 7,
   "metadata": {},
   "outputs": [],
   "source": [
    "def extract_linkedin(string):\n",
    "    r = re.compile(r'linkedin.com/([^\\s:]+)')\n",
    "    return r.findall(string)"
   ]
  },
  {
   "cell_type": "code",
   "execution_count": 8,
   "metadata": {},
   "outputs": [],
   "source": [
    "def extract_facebook(string):\n",
    "    r = re.compile(r'facebook.com/([^\\s:]+)')\n",
    "    return r.findall(string)"
   ]
  },
  {
   "cell_type": "code",
   "execution_count": 9,
   "metadata": {},
   "outputs": [],
   "source": [
    "#load email body\n",
    "with open('courtnay samples/sample4.txt', 'r') as fp:\n",
    "    content = fp.read()"
   ]
  },
  {
   "cell_type": "code",
   "execution_count": 10,
   "metadata": {},
   "outputs": [],
   "source": [
    "#Removing commas in the resume for an effecient check\n",
    "#soup = BeautifulSoup(content, 'html.parser')\n",
    "#content = soup.get_text()\n",
    "string = content.replace(',',' ')\n",
    "string = string.replace('\\n',' ')\n",
    "string = string.replace('\\r',' ')\n",
    "string = string.replace('\\\\r\\\\n',' ')\n",
    "string1 = string.replace('*','')\n",
    "#Converting all the charachters in lower case\n",
    "#string1 = string.lower()"
   ]
  },
  {
   "cell_type": "code",
   "execution_count": 12,
   "metadata": {},
   "outputs": [],
   "source": [
    "names= extract_name(string1)\n",
    "org = extract_org(string1).tolist()\n",
    "emails = extract_email_addresses(string1).tolist()\n",
    "#emails = extract_email_addresses(string1)\n",
    "phone_num = extract_phone_numbers(string1)\n",
    "twitter = extract_twitter(string1)\n",
    "linkedin = extract_linkedin(string1)\n",
    "facebook = extract_facebook(string1)"
   ]
  },
  {
   "cell_type": "code",
   "execution_count": 13,
   "metadata": {},
   "outputs": [],
   "source": [
    "contact_list = []\n",
    "name_track = []\n",
    "email_track = []\n",
    "phone_track = []\n",
    "twitter_track = []\n",
    "linkedin_track = []\n",
    "facebook_track = []\n",
    "other_contacts = []"
   ]
  },
  {
   "cell_type": "code",
   "execution_count": 14,
   "metadata": {},
   "outputs": [],
   "source": [
    "contact_name = []\n",
    "contact_num = []\n",
    "contact_email = []\n",
    "for i in range(len(emails)):\n",
    "    name = []\n",
    "    start_pos = []\n",
    "    for match in re.finditer(emails[i], string1):\n",
    "        start_pos.append(match.start())\n",
    "    for j in range(len(start_pos)):\n",
    "        end_pos = start_pos[j] + len(emails[i])\n",
    "        name = extract_name(string1[start_pos[j]-50:start_pos[j]])\n",
    "        if len(name) > 0:\n",
    "            #contact = {'name':str(name),'email':emails[i]}\n",
    "            #contact_test.append(contact)\n",
    "            if (len(extract_phone_numbers(string1[start_pos[j]-100:start_pos[j]]))>0):\n",
    "                contact_name.append(str(name))\n",
    "                contact_email.append(emails[i])\n",
    "                contact_num.append(extract_phone_numbers(string1[start_pos[j]-100:start_pos[j]]))\n",
    "            elif (len(extract_phone_numbers(string1[end_pos:end_pos + 150]))>0):\n",
    "                contact_name.append(str(name))\n",
    "                contact_email.append(emails[i])\n",
    "                contact_num.append(extract_phone_numbers(string1[end_pos:end_pos + 150]))\n",
    "            else:\n",
    "                contact_name.append(str(name))\n",
    "                contact_email.append(emails[i])\n",
    "                contact_num.append('null')"
   ]
  },
  {
   "cell_type": "code",
   "execution_count": 15,
   "metadata": {},
   "outputs": [],
   "source": [
    "contact_list_new = pd.DataFrame()\n",
    "contact_list_new['contact_name'] = contact_name\n",
    "contact_list_new['contact_email'] = contact_email\n",
    "contact_list_new['contact_num'] = contact_num"
   ]
  },
  {
   "cell_type": "code",
   "execution_count": 16,
   "metadata": {},
   "outputs": [
    {
     "data": {
      "text/html": [
       "<div>\n",
       "<style scoped>\n",
       "    .dataframe tbody tr th:only-of-type {\n",
       "        vertical-align: middle;\n",
       "    }\n",
       "\n",
       "    .dataframe tbody tr th {\n",
       "        vertical-align: top;\n",
       "    }\n",
       "\n",
       "    .dataframe thead th {\n",
       "        text-align: right;\n",
       "    }\n",
       "</style>\n",
       "<table border=\"1\" class=\"dataframe\">\n",
       "  <thead>\n",
       "    <tr style=\"text-align: right;\">\n",
       "      <th></th>\n",
       "      <th>contact_name</th>\n",
       "      <th>contact_email</th>\n",
       "      <th>contact_num</th>\n",
       "    </tr>\n",
       "  </thead>\n",
       "  <tbody>\n",
       "    <tr>\n",
       "      <th>0</th>\n",
       "      <td>['Courtenay Farquharson']</td>\n",
       "      <td>courtenay.farquharson@gmail.com</td>\n",
       "      <td>[1190504250]</td>\n",
       "    </tr>\n",
       "    <tr>\n",
       "      <th>3</th>\n",
       "      <td>['Courtenay Farquharson']</td>\n",
       "      <td>courtenay@parserr.com</td>\n",
       "      <td>null</td>\n",
       "    </tr>\n",
       "    <tr>\n",
       "      <th>4</th>\n",
       "      <td>['Elyaas Mohammed']</td>\n",
       "      <td>v-elmoha@microsoft.com</td>\n",
       "      <td>null</td>\n",
       "    </tr>\n",
       "    <tr>\n",
       "      <th>7</th>\n",
       "      <td>['Mohammed Imtiyaz Ali']</td>\n",
       "      <td>v-moimt@microsoft.com</td>\n",
       "      <td>null</td>\n",
       "    </tr>\n",
       "    <tr>\n",
       "      <th>8</th>\n",
       "      <td>['Nasmin Kaisar']</td>\n",
       "      <td>v-naskai@microsoft.com</td>\n",
       "      <td>[1190504250]</td>\n",
       "    </tr>\n",
       "    <tr>\n",
       "      <th>13</th>\n",
       "      <td>['Saikumar Jhingade']</td>\n",
       "      <td>v-sajhin@microsoft.com</td>\n",
       "      <td>[1190504250]</td>\n",
       "    </tr>\n",
       "  </tbody>\n",
       "</table>\n",
       "</div>"
      ],
      "text/plain": [
       "                 contact_name                    contact_email   contact_num\n",
       "0   ['Courtenay Farquharson']  courtenay.farquharson@gmail.com  [1190504250]\n",
       "3   ['Courtenay Farquharson']            courtenay@parserr.com          null\n",
       "4         ['Elyaas Mohammed']           v-elmoha@microsoft.com          null\n",
       "7    ['Mohammed Imtiyaz Ali']            v-moimt@microsoft.com          null\n",
       "8           ['Nasmin Kaisar']           v-naskai@microsoft.com  [1190504250]\n",
       "13      ['Saikumar Jhingade']           v-sajhin@microsoft.com  [1190504250]"
      ]
     },
     "execution_count": 16,
     "metadata": {},
     "output_type": "execute_result"
    }
   ],
   "source": [
    "contact_list_new.drop_duplicates(subset='contact_email')"
   ]
  },
  {
   "cell_type": "code",
   "execution_count": 17,
   "metadata": {},
   "outputs": [],
   "source": [
    "contact_list = contact_list_new.drop_duplicates(subset='contact_email').reset_index()"
   ]
  },
  {
   "cell_type": "code",
   "execution_count": 18,
   "metadata": {},
   "outputs": [],
   "source": [
    "name_track = contact_list['contact_name']\n",
    "email_track = contact_list['contact_email']\n",
    "for i in names:\n",
    "    if i not in name_track:\n",
    "        contact = {'name':i,'email':''}\n",
    "        other_contacts.append(contact)\n",
    "for i in emails:\n",
    "    if i not in email_track:\n",
    "        contact = {'name':'','email':i}\n",
    "        other_contacts.append(contact)"
   ]
  },
  {
   "cell_type": "code",
   "execution_count": 20,
   "metadata": {},
   "outputs": [],
   "source": [
    "contact_list = contact_list_new.drop_duplicates(subset='contact_email').reset_index().to_dict('index')"
   ]
  },
  {
   "cell_type": "code",
   "execution_count": 21,
   "metadata": {},
   "outputs": [],
   "source": [
    "response = {'contact': contact_list,\n",
    "           #'other_contact': other_contacts,\n",
    "           'organisation': org,\n",
    "           'phone number': phone_num,\n",
    "           'twitter handle': twitter,\n",
    "           'linkedin handle': linkedin,\n",
    "           'facebook handle': facebook}"
   ]
  },
  {
   "cell_type": "code",
   "execution_count": 22,
   "metadata": {},
   "outputs": [
    {
     "data": {
      "text/plain": [
       "{'contact': {0: {'index': 0,\n",
       "   'contact_name': \"['Courtenay Farquharson']\",\n",
       "   'contact_email': 'courtenay.farquharson@gmail.com',\n",
       "   'contact_num': ['1190504250']},\n",
       "  1: {'index': 3,\n",
       "   'contact_name': \"['Courtenay Farquharson']\",\n",
       "   'contact_email': 'courtenay@parserr.com',\n",
       "   'contact_num': 'null'},\n",
       "  2: {'index': 4,\n",
       "   'contact_name': \"['Elyaas Mohammed']\",\n",
       "   'contact_email': 'v-elmoha@microsoft.com',\n",
       "   'contact_num': 'null'},\n",
       "  3: {'index': 7,\n",
       "   'contact_name': \"['Mohammed Imtiyaz Ali']\",\n",
       "   'contact_email': 'v-moimt@microsoft.com',\n",
       "   'contact_num': 'null'},\n",
       "  4: {'index': 8,\n",
       "   'contact_name': \"['Nasmin Kaisar']\",\n",
       "   'contact_email': 'v-naskai@microsoft.com',\n",
       "   'contact_num': ['1190504250']},\n",
       "  5: {'index': 13,\n",
       "   'contact_name': \"['Saikumar Jhingade']\",\n",
       "   'contact_email': 'v-sajhin@microsoft.com',\n",
       "   'contact_num': ['1190504250']}},\n",
       " 'organisation': ['Azure',\n",
       "  'Azure Announcements',\n",
       "  'Azure Subscription Management Support',\n",
       "  'Azure Support',\n",
       "  'Billing & Payment',\n",
       "  'Courtenay',\n",
       "  'Elyaas',\n",
       "  'MINDTREE',\n",
       "  'Microsoft',\n",
       "  'Microsoft Products and Services',\n",
       "  'Microsoft Support',\n",
       "  'Nasmin',\n",
       "  'Service Dashboard',\n",
       "  'Support Engineer',\n",
       "  'Thu',\n",
       "  'https://nam06.safelinks.protection.outlook.com/?url=http%3A%2F%2Fazure.microsoft.com%2Fstatus&data=02%7C01%7Cv-naskai%40microsoft.com%7C7a0a40601cc1480735a808d6db1ada49%7C72f988bf86f141af91ab2d7cd011db47%7C1%7C0%7C636937305729275573&sdata=sHRiKyTk8w0Jbhnp4FX6AG3uumz%2FGu8sDyg4RBT0pjg%3D&reserved=0',\n",
       "  'https://nam06.safelinks.protection.outlook.com/?url=http%3A%2F%2Fwww.timebie.com%2Fstd%2Fgmt.php&data=02%7C01%7Cv-naskai%40microsoft.com%7C7a0a40601cc1480735a808d6db1ada49%7C72f988bf86f141af91ab2d7cd011db47%7C1%7C0%7C636937305729245602&sdata=7Sy92ajL60ZdzCkgJYyctNGspbim3wv%2BuZzUdYgZBBE%3D&reserved=0>',\n",
       "  'https://nam06.safelinks.protection.outlook.com/?url=http%3A%2F%2Fwww.timebie.com%2Fstd%2Fgmt.php&data=02%7C01%7Cv-naskai%40microsoft.com%7C7a0a40601cc1480735a808d6db1ada49%7C72f988bf86f141af91ab2d7cd011db47%7C1%7C0%7C636937305729305565&sdata=Ve7gaD1OTMZRR46DXUYcZ7XkUmbJTcqXQG73nj0Jn%2B4%3D&reserved=0>',\n",
       "  'https://nam06.safelinks.protection.outlook.com/?url=http%3A%2F%2Fwww.timebie.com%2Fstd%2Fgmt.php&data=02%7C01%7Cv-naskai%40microsoft.com%7C7a0a40601cc1480735a808d6db1ada49%7C72f988bf86f141af91ab2d7cd011db47%7C1%7C0%7C636937305729315553&sdata=D6v6aV83Yec%2F3VjrJ6iXbV24mw3Q0rJjNgF%2BnYV9m2c%3D&reserved=0>',\n",
       "  'v-elmoha@microsoft.com',\n",
       "  'v-vijaba@microsoft.com'],\n",
       " 'phone number': ['1190504250',\n",
       "  '1480735',\n",
       "  '2922561',\n",
       "  '2923560',\n",
       "  '2924560',\n",
       "  '2925558',\n",
       "  '2926557',\n",
       "  '2927557',\n",
       "  '2928557',\n",
       "  '2929556',\n",
       "  '2930556',\n",
       "  '2931555',\n",
       "  '2932554',\n",
       "  '6358279662',\n",
       "  '6369373057',\n",
       "  '7397497'],\n",
       " 'twitter handle': [],\n",
       " 'linkedin handle': [],\n",
       " 'facebook handle': []}"
      ]
     },
     "execution_count": 22,
     "metadata": {},
     "output_type": "execute_result"
    }
   ],
   "source": [
    "response"
   ]
  },
  {
   "cell_type": "code",
   "execution_count": 23,
   "metadata": {},
   "outputs": [],
   "source": [
    "json_resp = json.dumps(response)"
   ]
  },
  {
   "cell_type": "code",
   "execution_count": 24,
   "metadata": {},
   "outputs": [
    {
     "data": {
      "text/plain": [
       "'{\"contact\": {\"0\": {\"index\": 0, \"contact_name\": \"[\\'Courtenay Farquharson\\']\", \"contact_email\": \"courtenay.farquharson@gmail.com\", \"contact_num\": [\"1190504250\"]}, \"1\": {\"index\": 3, \"contact_name\": \"[\\'Courtenay Farquharson\\']\", \"contact_email\": \"courtenay@parserr.com\", \"contact_num\": \"null\"}, \"2\": {\"index\": 4, \"contact_name\": \"[\\'Elyaas Mohammed\\']\", \"contact_email\": \"v-elmoha@microsoft.com\", \"contact_num\": \"null\"}, \"3\": {\"index\": 7, \"contact_name\": \"[\\'Mohammed Imtiyaz Ali\\']\", \"contact_email\": \"v-moimt@microsoft.com\", \"contact_num\": \"null\"}, \"4\": {\"index\": 8, \"contact_name\": \"[\\'Nasmin Kaisar\\']\", \"contact_email\": \"v-naskai@microsoft.com\", \"contact_num\": [\"1190504250\"]}, \"5\": {\"index\": 13, \"contact_name\": \"[\\'Saikumar Jhingade\\']\", \"contact_email\": \"v-sajhin@microsoft.com\", \"contact_num\": [\"1190504250\"]}}, \"organisation\": [\"Azure\", \"Azure Announcements\", \"Azure Subscription Management Support\", \"Azure Support\", \"Billing & Payment\", \"Courtenay\", \"Elyaas\", \"MINDTREE\", \"Microsoft\", \"Microsoft Products and Services\", \"Microsoft Support\", \"Nasmin\", \"Service Dashboard\", \"Support Engineer\", \"Thu\", \"https://nam06.safelinks.protection.outlook.com/?url=http%3A%2F%2Fazure.microsoft.com%2Fstatus&data=02%7C01%7Cv-naskai%40microsoft.com%7C7a0a40601cc1480735a808d6db1ada49%7C72f988bf86f141af91ab2d7cd011db47%7C1%7C0%7C636937305729275573&sdata=sHRiKyTk8w0Jbhnp4FX6AG3uumz%2FGu8sDyg4RBT0pjg%3D&reserved=0\", \"https://nam06.safelinks.protection.outlook.com/?url=http%3A%2F%2Fwww.timebie.com%2Fstd%2Fgmt.php&data=02%7C01%7Cv-naskai%40microsoft.com%7C7a0a40601cc1480735a808d6db1ada49%7C72f988bf86f141af91ab2d7cd011db47%7C1%7C0%7C636937305729245602&sdata=7Sy92ajL60ZdzCkgJYyctNGspbim3wv%2BuZzUdYgZBBE%3D&reserved=0>\", \"https://nam06.safelinks.protection.outlook.com/?url=http%3A%2F%2Fwww.timebie.com%2Fstd%2Fgmt.php&data=02%7C01%7Cv-naskai%40microsoft.com%7C7a0a40601cc1480735a808d6db1ada49%7C72f988bf86f141af91ab2d7cd011db47%7C1%7C0%7C636937305729305565&sdata=Ve7gaD1OTMZRR46DXUYcZ7XkUmbJTcqXQG73nj0Jn%2B4%3D&reserved=0>\", \"https://nam06.safelinks.protection.outlook.com/?url=http%3A%2F%2Fwww.timebie.com%2Fstd%2Fgmt.php&data=02%7C01%7Cv-naskai%40microsoft.com%7C7a0a40601cc1480735a808d6db1ada49%7C72f988bf86f141af91ab2d7cd011db47%7C1%7C0%7C636937305729315553&sdata=D6v6aV83Yec%2F3VjrJ6iXbV24mw3Q0rJjNgF%2BnYV9m2c%3D&reserved=0>\", \"v-elmoha@microsoft.com\", \"v-vijaba@microsoft.com\"], \"phone number\": [\"1190504250\", \"1480735\", \"2922561\", \"2923560\", \"2924560\", \"2925558\", \"2926557\", \"2927557\", \"2928557\", \"2929556\", \"2930556\", \"2931555\", \"2932554\", \"6358279662\", \"6369373057\", \"7397497\"], \"twitter handle\": [], \"linkedin handle\": [], \"facebook handle\": []}'"
      ]
     },
     "execution_count": 24,
     "metadata": {},
     "output_type": "execute_result"
    }
   ],
   "source": [
    "json_resp"
   ]
  }
 ],
 "metadata": {
  "kernelspec": {
   "display_name": "Python 3",
   "language": "python",
   "name": "python3"
  },
  "language_info": {
   "codemirror_mode": {
    "name": "ipython",
    "version": 3
   },
   "file_extension": ".py",
   "mimetype": "text/x-python",
   "name": "python",
   "nbconvert_exporter": "python",
   "pygments_lexer": "ipython3",
   "version": "3.7.1"
  }
 },
 "nbformat": 4,
 "nbformat_minor": 2
}
