{
 "cells": [
  {
   "cell_type": "code",
   "execution_count": 82,
   "metadata": {},
   "outputs": [],
   "source": [
    "import re\n",
    "import spacy\n",
    "import pandas as pd\n",
    "import numpy as np\n",
    "from bs4 import BeautifulSoup\n",
    "import json"
   ]
  },
  {
   "cell_type": "code",
   "execution_count": 104,
   "metadata": {},
   "outputs": [],
   "source": [
    "#Function to extract names from the string using spacy\n",
    "def extract_name(string):\n",
    "    names = []\n",
    "    nlp = spacy.load('en')\n",
    "    doc = nlp(string)\n",
    "    ent_list = ['PERSON','GPE']\n",
    "    for ent in doc.ents:\n",
    "        if(ent.label_ in ent_list):\n",
    "            #print(ent.text, ent.label_)\n",
    "            names.append(ent.text)\n",
    "    return np.unique(names)"
   ]
  },
  {
   "cell_type": "code",
   "execution_count": 105,
   "metadata": {},
   "outputs": [],
   "source": [
    "def extract_org(string):\n",
    "    org = []\n",
    "    nlp = spacy.load('en')\n",
    "    doc = nlp(string)\n",
    "    ent_list = ['NORP','ORG','LOC','PRODUCT']\n",
    "    for ent in doc.ents:\n",
    "        if(ent.label_ in ent_list):\n",
    "            #print(ent.text, ent.label_)\n",
    "            org.append(ent.text)\n",
    "    return np.unique(org)"
   ]
  },
  {
   "cell_type": "code",
   "execution_count": 85,
   "metadata": {},
   "outputs": [],
   "source": [
    "#Function to extract Phone Numbers from string using regular expressions\n",
    "def extract_phone_numbers(string):\n",
    "    r = re.compile(r'(\\d{3}[-\\.\\s]??\\d{3}[-\\.\\s]??\\d{4}|\\(\\d{3}\\)\\s*\\d{3}[-\\.\\s]??\\d{4}|\\d{3}[-\\.\\s]??\\d{4})')\n",
    "    phone_numbers = np.unique(r.findall(string))\n",
    "    return [re.sub(r'\\D', '', number) for number in phone_numbers]"
   ]
  },
  {
   "cell_type": "code",
   "execution_count": 86,
   "metadata": {},
   "outputs": [],
   "source": [
    "#Function to extract Email address from a string using regular expressions\n",
    "def extract_email_addresses(string):\n",
    "    r = re.compile(r'[\\w\\.-]+@[\\w\\.-]+')\n",
    "    return np.unique(r.findall(string))"
   ]
  },
  {
   "cell_type": "code",
   "execution_count": 87,
   "metadata": {},
   "outputs": [],
   "source": [
    "def extract_twitter(string):\n",
    "    r = re.compile(r'twitter.com/([^\\s:]+)')\n",
    "    return r.findall(string)"
   ]
  },
  {
   "cell_type": "code",
   "execution_count": 88,
   "metadata": {},
   "outputs": [],
   "source": [
    "def extract_linkedin(string):\n",
    "    r = re.compile(r'linkedin.com/([^\\s:]+)')\n",
    "    return r.findall(string)"
   ]
  },
  {
   "cell_type": "code",
   "execution_count": 89,
   "metadata": {},
   "outputs": [],
   "source": [
    "def extract_facebook(string):\n",
    "    r = re.compile(r'facebook.com/([^\\s:]+)')\n",
    "    return r.findall(string)"
   ]
  },
  {
   "cell_type": "code",
   "execution_count": 90,
   "metadata": {},
   "outputs": [],
   "source": [
    "#load email body\n",
    "with open('courtnay samples/sample4.txt', 'r') as fp:\n",
    "    content = fp.read()"
   ]
  },
  {
   "cell_type": "code",
   "execution_count": 91,
   "metadata": {},
   "outputs": [],
   "source": [
    "#Removing commas in the resume for an effecient check\n",
    "soup = BeautifulSoup(content, 'html.parser')\n",
    "content = soup.get_text()\n",
    "string = content.replace(',',' ')\n",
    "string = string.replace('\\n',' ')\n",
    "string = string.replace('\\r',' ')\n",
    "string = string.replace('\\\\r\\\\n',' ')\n",
    "#Converting all the charachters in lower case\n",
    "string1 = string.lower()"
   ]
  },
  {
   "cell_type": "code",
   "execution_count": 115,
   "metadata": {},
   "outputs": [],
   "source": [
    "names= extract_name(string1)\n",
    "org = extract_org(string1).tolist()\n",
    "emails = extract_email_addresses(string1).tolist()\n",
    "phone_num = extract_phone_numbers(string1)\n",
    "twitter = extract_twitter(string1)\n",
    "linkedin = extract_linkedin(string1)\n",
    "facebook = extract_facebook(string1)"
   ]
  },
  {
   "cell_type": "code",
   "execution_count": 116,
   "metadata": {},
   "outputs": [],
   "source": [
    "contact_list = []\n",
    "name_track = []\n",
    "email_track = []\n",
    "phone_track = []\n",
    "twitter_track = []\n",
    "linkedin_track = []\n",
    "facebook_track = []\n",
    "other_contacts = []"
   ]
  },
  {
   "cell_type": "code",
   "execution_count": 117,
   "metadata": {},
   "outputs": [],
   "source": [
    "for i in names:\n",
    "    for j in emails:\n",
    "        if i in j:\n",
    "            contact = {'name':i,'email':j}\n",
    "            contact_list.append(contact)\n",
    "            name_track.append(i)\n",
    "            email_track.append(j)"
   ]
  },
  {
   "cell_type": "code",
   "execution_count": 118,
   "metadata": {},
   "outputs": [
    {
     "data": {
      "text/plain": [
       "[{'name': 'courtenay', 'email': 'courtenay.farquharson@gmail.com'},\n",
       " {'name': 'courtenay', 'email': 'courtenay@parserr.com'}]"
      ]
     },
     "execution_count": 118,
     "metadata": {},
     "output_type": "execute_result"
    }
   ],
   "source": [
    "contact_list"
   ]
  },
  {
   "cell_type": "code",
   "execution_count": 119,
   "metadata": {},
   "outputs": [],
   "source": [
    "for i in names:\n",
    "    if i not in name_track:\n",
    "        contact = {'name':i,'email':''}\n",
    "        other_contacts.append(contact)\n",
    "for i in emails:\n",
    "    if i not in email_track:\n",
    "        contact = {'name':'','email':i}\n",
    "        other_contacts.append(contact)"
   ]
  },
  {
   "cell_type": "code",
   "execution_count": 120,
   "metadata": {},
   "outputs": [
    {
     "data": {
      "text/plain": [
       "[{'name': 'ali', 'email': ''},\n",
       " {'name': 'mohammed', 'email': ''},\n",
       " {'name': '', 'email': 'asmsmtap@microsoft.com'},\n",
       " {'name': '', 'email': 'asmsmtbp@microsoft.com'},\n",
       " {'name': '', 'email': 'asmsmtbp@microsoft.com.'},\n",
       " {'name': '', 'email': 'farqy1@hotmail.com'},\n",
       " {'name': '', 'email': 'support@mail.support.microsoft.com'},\n",
       " {'name': '', 'email': 'v-elmoha@microsoft.com'},\n",
       " {'name': '', 'email': 'v-moimt@microsoft.com'},\n",
       " {'name': '', 'email': 'v-naskai@microsoft.com'},\n",
       " {'name': '', 'email': 'v-sajhin@microsoft.com'},\n",
       " {'name': '', 'email': 'v-vijaba@microsoft.com'}]"
      ]
     },
     "execution_count": 120,
     "metadata": {},
     "output_type": "execute_result"
    }
   ],
   "source": [
    "other_contacts"
   ]
  },
  {
   "cell_type": "code",
   "execution_count": 121,
   "metadata": {},
   "outputs": [],
   "source": [
    "response = {'contact': contact_list,\n",
    "           'other_contact': other_contacts,\n",
    "           'organisation': org,\n",
    "           'phone number': phone_num,\n",
    "           'twitter handle': twitter,\n",
    "           'linkedin handle': linkedin,\n",
    "           'facebook handle': facebook}"
   ]
  },
  {
   "cell_type": "code",
   "execution_count": 122,
   "metadata": {},
   "outputs": [
    {
     "data": {
      "text/plain": [
       "{'contact': [{'name': 'courtenay', 'email': 'courtenay.farquharson@gmail.com'},\n",
       "  {'name': 'courtenay', 'email': 'courtenay@parserr.com'}],\n",
       " 'other_contact': [{'name': 'ali', 'email': ''},\n",
       "  {'name': 'mohammed', 'email': ''},\n",
       "  {'name': '', 'email': 'asmsmtap@microsoft.com'},\n",
       "  {'name': '', 'email': 'asmsmtbp@microsoft.com'},\n",
       "  {'name': '', 'email': 'asmsmtbp@microsoft.com.'},\n",
       "  {'name': '', 'email': 'farqy1@hotmail.com'},\n",
       "  {'name': '', 'email': 'support@mail.support.microsoft.com'},\n",
       "  {'name': '', 'email': 'v-elmoha@microsoft.com'},\n",
       "  {'name': '', 'email': 'v-moimt@microsoft.com'},\n",
       "  {'name': '', 'email': 'v-naskai@microsoft.com'},\n",
       "  {'name': '', 'email': 'v-sajhin@microsoft.com'},\n",
       "  {'name': '', 'email': 'v-vijaba@microsoft.com'}],\n",
       " 'organisation': [\"b'----------\",\n",
       "  'message\\\\xe2\\\\x80\\\\x9d',\n",
       "  'v-elmoha@microsoft.com',\n",
       "  'v-naskai@microsoft.com'],\n",
       " 'phone number': ['1190504250'],\n",
       " 'twitter handle': [],\n",
       " 'linkedin handle': [],\n",
       " 'facebook handle': []}"
      ]
     },
     "execution_count": 122,
     "metadata": {},
     "output_type": "execute_result"
    }
   ],
   "source": [
    "response"
   ]
  },
  {
   "cell_type": "code",
   "execution_count": 123,
   "metadata": {},
   "outputs": [],
   "source": [
    "json_resp = json.dumps(response)"
   ]
  },
  {
   "cell_type": "code",
   "execution_count": 124,
   "metadata": {},
   "outputs": [
    {
     "data": {
      "text/plain": [
       "'{\"contact\": [{\"name\": \"courtenay\", \"email\": \"courtenay.farquharson@gmail.com\"}, {\"name\": \"courtenay\", \"email\": \"courtenay@parserr.com\"}], \"other_contact\": [{\"name\": \"ali\", \"email\": \"\"}, {\"name\": \"mohammed\", \"email\": \"\"}, {\"name\": \"\", \"email\": \"asmsmtap@microsoft.com\"}, {\"name\": \"\", \"email\": \"asmsmtbp@microsoft.com\"}, {\"name\": \"\", \"email\": \"asmsmtbp@microsoft.com.\"}, {\"name\": \"\", \"email\": \"farqy1@hotmail.com\"}, {\"name\": \"\", \"email\": \"support@mail.support.microsoft.com\"}, {\"name\": \"\", \"email\": \"v-elmoha@microsoft.com\"}, {\"name\": \"\", \"email\": \"v-moimt@microsoft.com\"}, {\"name\": \"\", \"email\": \"v-naskai@microsoft.com\"}, {\"name\": \"\", \"email\": \"v-sajhin@microsoft.com\"}, {\"name\": \"\", \"email\": \"v-vijaba@microsoft.com\"}], \"organisation\": [\"b\\'----------\", \"message\\\\\\\\xe2\\\\\\\\x80\\\\\\\\x9d\", \"v-elmoha@microsoft.com\", \"v-naskai@microsoft.com\"], \"phone number\": [\"1190504250\"], \"twitter handle\": [], \"linkedin handle\": [], \"facebook handle\": []}'"
      ]
     },
     "execution_count": 124,
     "metadata": {},
     "output_type": "execute_result"
    }
   ],
   "source": [
    "json_resp"
   ]
  }
 ],
 "metadata": {
  "kernelspec": {
   "display_name": "Python 3",
   "language": "python",
   "name": "python3"
  },
  "language_info": {
   "codemirror_mode": {
    "name": "ipython",
    "version": 3
   },
   "file_extension": ".py",
   "mimetype": "text/x-python",
   "name": "python",
   "nbconvert_exporter": "python",
   "pygments_lexer": "ipython3",
   "version": "3.7.1"
  }
 },
 "nbformat": 4,
 "nbformat_minor": 2
}
